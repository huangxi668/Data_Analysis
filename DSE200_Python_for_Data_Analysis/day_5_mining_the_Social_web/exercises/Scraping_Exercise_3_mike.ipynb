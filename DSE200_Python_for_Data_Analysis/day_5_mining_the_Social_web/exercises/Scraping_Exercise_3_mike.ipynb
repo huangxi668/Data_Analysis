{
 "cells": [
  {
   "cell_type": "markdown",
   "metadata": {},
   "source": [
    "#OAuth Exercise"
   ]
  },
  {
   "cell_type": "markdown",
   "metadata": {},
   "source": [
    "In this exercise we will try to scrape twitter data and do a tf-idf analysis on that (src-uwes twitter analysis). We will need OAuth authentication, and we will follow a similar approach as detailed in the yelp analysis notebook. "
   ]
  },
  {
   "cell_type": "code",
   "execution_count": 75,
   "metadata": {
    "collapsed": false
   },
   "outputs": [],
   "source": [
    "import jsonpickle, operator,json\n",
    "import numpy as np\n",
    "import pandas as pd\n",
    "import oauth2 as oauth\n",
    "import urllib2 as urllib"
   ]
  },
  {
   "cell_type": "markdown",
   "metadata": {},
   "source": [
    "We will now need twitter api access. The following steps as available online will help you set up your twitter account and access the live 1% stream.\n",
    "\n",
    "1. Create a twitter account if you do not already have one.\n",
    "2. Go to https://dev.twitter.com/apps and log in with your twitter credentials.\n",
    "3. Click \"Create New App\"\n",
    "4. Fill out the form and agree to the terms. Put in a dummy website if you don't have one you want to use.\n",
    "5. On the next page, click the \"API Keys\" tab along the top, then scroll all the way down until you see the section \"Your Access Token\"\n",
    "6. Click the button \"Create My Access Token\". You can Read more about Oauth authorization online. \n",
    "\n",
    "Save the details of api_key, api_secret, access_token_key, access_token_secret in your vaule directory and load it in the notebook as shown in yelpSample notebook."
   ]
  },
  {
   "cell_type": "code",
   "execution_count": 76,
   "metadata": {
    "collapsed": false
   },
   "outputs": [],
   "source": [
    "import sys\n",
    "sys.path.append('/Users/mgalarny/VaultDSE')\n",
    "import twitterKeys\n",
    "api_key,api_secret,access_token_key,access_token_secret=twitterKeys.getkeys()\n",
    "\n",
    "_debug = 0\n",
    "\n",
    "oauth_token    = oauth.Token(key=access_token_key, secret=access_token_secret)\n",
    "oauth_consumer = oauth.Consumer(key=api_key, secret=api_secret)\n",
    "\n",
    "signature_method_hmac_sha1 = oauth.SignatureMethod_HMAC_SHA1()\n",
    "\n",
    "http_method = \"GET\"\n",
    "\n",
    "http_handler  = urllib.HTTPHandler(debuglevel=_debug)\n",
    "https_handler = urllib.HTTPSHandler(debuglevel=_debug)"
   ]
  },
  {
   "cell_type": "markdown",
   "metadata": {},
   "source": [
    "Below is a twitter request method which will use the above user logins to sign, and open a twitter stream request"
   ]
  },
  {
   "cell_type": "code",
   "execution_count": 77,
   "metadata": {
    "collapsed": true
   },
   "outputs": [],
   "source": [
    "def getTwitterStream(url, method, parameters):\n",
    "  req = oauth.Request.from_consumer_and_token(oauth_consumer,\n",
    "                                             token=oauth_token,\n",
    "                                             http_method=http_method,\n",
    "                                             http_url=url, \n",
    "                                             parameters=parameters)\n",
    "\n",
    "  req.sign_request(signature_method_hmac_sha1, oauth_consumer, oauth_token)\n",
    "\n",
    "  headers = req.to_header()\n",
    "\n",
    "  if http_method == \"POST\":\n",
    "    encoded_post_data = req.to_postdata()\n",
    "  else:\n",
    "    encoded_post_data = None\n",
    "    url = req.to_url()\n",
    "\n",
    "  opener = urllib.OpenerDirector()\n",
    "  opener.add_handler(http_handler)\n",
    "  opener.add_handler(https_handler)\n",
    "\n",
    "  response = opener.open(url, encoded_post_data)\n",
    "\n",
    "  return response"
   ]
  },
  {
   "cell_type": "markdown",
   "metadata": {},
   "source": [
    "We can use the above function to request a response as follows"
   ]
  },
  {
   "cell_type": "code",
   "execution_count": 78,
   "metadata": {
    "collapsed": false
   },
   "outputs": [],
   "source": [
    "#Now we will test the above function for a sample data provided by twitter stream here -  \n",
    "url = \"https://stream.twitter.com/1/statuses/sample.json\"\n",
    "parameters = []\n",
    "response = getTwitterStream(url, \"GET\", parameters)"
   ]
  },
  {
   "cell_type": "markdown",
   "metadata": {},
   "source": [
    "Write a function which will take a url and return the top 10 lines returned by the twitter stream\n",
    "\n",
    "** Note ** The response returned needs to be intelligently parsed to get the text data which correspond to actual tweets. This part can be done in a number of ways and you are encouraged to try different approaches to parse the response data."
   ]
  },
  {
   "cell_type": "code",
   "execution_count": 79,
   "metadata": {
    "collapsed": true
   },
   "outputs": [],
   "source": [
    "def fetchData(url):\n",
    "    response = getTwitterStream(url, \"GET\", [])\n",
    "    lines = response.read()\n",
    "    allinfo = jsonpickle.loads(lines)\n",
    "    statuses = allinfo['statuses']\n",
    "    print 'Stream'\n",
    "    print url.split('/')[-1][14:]\n",
    "    print '\\n'\n",
    "    for i in range(10):\n",
    "        try:\n",
    "            print i+1\n",
    "            print statuses[i]['text'],'\\n'\n",
    "        except:\n",
    "            continue"
   ]
  },
  {
   "cell_type": "code",
   "execution_count": 80,
   "metadata": {
    "collapsed": false
   },
   "outputs": [
    {
     "name": "stdout",
     "output_type": "stream",
     "text": [
      "Stream\n",
      "UCSD\n",
      "\n",
      "\n",
      "1\n",
      "Hang in there #Revelle. Only two more days... then finals week is over! #YouGotThis #UCSD https://t.co/aMKkWE4zCM \n",
      "\n",
      "2\n",
      "https://t.co/SaWxNKMBLU Resources Here for Learning How to Dance #UCSD #reddit \n",
      "\n",
      "3\n",
      "RT @Keeling_curve: 401.26 parts per million (ppm) CO2 in air 08-Dec-2015 https://t.co/5Q2FLbb4ix \n",
      "\n",
      "4\n",
      "Are changing oceans and marine ecosystems included in the US's national adaptation plan? #AskUSCenter #ucsd #COP21 \n",
      "\n",
      "5\n",
      "In US, more water used in energy than in agriculture! Energy and water are intimately connected – Jonathan Pershing @US_Center #COP21 #ucsd \n",
      "\n",
      "6\n",
      "RT @Jazz88: RETWEET til 8am PT to ENTER Pair of Seats CONTEST!&gt; Mark Dresser Septet @TheLoftatUCSD 12/11&gt;https://t.co/DrQjjn7ubg https://t.… \n",
      "\n",
      "7\n",
      "RT @Jazz88: RETWEET til 8am PT to ENTER Pair of Seats CONTEST!&gt; Mark Dresser Septet @TheLoftatUCSD 12/11&gt;https://t.co/DrQjjn7ubg https://t.… \n",
      "\n",
      "8\n",
      "RT @Jazz88: RETWEET til 8am PT to ENTER Pair of Seats CONTEST!&gt; Mark Dresser Septet @TheLoftatUCSD 12/11&gt;https://t.co/DrQjjn7ubg https://t.… \n",
      "\n",
      "9\n",
      "RT @Jazz88: RETWEET til 8am PT to ENTER Pair of Seats CONTEST!&gt; Mark Dresser Septet @TheLoftatUCSD 12/11&gt;https://t.co/DrQjjn7ubg https://t.… \n",
      "\n",
      "10\n",
      "RT @NetworkFact: Spectral graph theory by Fan Chung https://t.co/6B6PfMAFfo \n",
      "\n",
      "Stream\n",
      "Donald Trump\n",
      "\n",
      "\n",
      "1\n",
      "Donald Trump postpones Israel trip: Leading Republican presidential candidate Donald Trump says he is postponi... https://t.co/MAtlssOxnU \n",
      "\n",
      "2\n",
      "RT @TeaPainUSA: Thanks to Donald Trump, the Southern Poverty Law Center's had to install a drive-thru window. @realDonaldTrump \n",
      "\n",
      "3\n",
      "RT @vicenews: Horrified by @realDonaldTrump? He doesn't care: https://t.co/SFQZUwUGQG https://t.co/EUwUfhwYH1 \n",
      "\n",
      "4\n",
      "BBC World News: Donald Trump postpones Israel trip: Leading Republican presidential candidate Donald Trump say... https://t.co/wD3A9PLwyb \n",
      "\n",
      "5\n",
      "Donald Trump’s Anti-Muslim plan disqualifies him from Presidency – White house reveals https://t.co/LpdHCkCLeL \n",
      "\n",
      "6\n",
      "RT @ILYAAS_XVII: Who's more presidential? \n",
      "RT - DJ Khalid \n",
      "Fav - Donald Trump https://t.co/T9VIYcOZIq \n",
      "\n",
      "7\n",
      "RT @GMA: TOP STORY: Muhammad Ali responds to Donald Trump's Muslim ban proposal: https://t.co/Y38tW7IIiU https://t.co/4f24ZG4yBn \n",
      "\n",
      "8\n",
      "RT @businessinsider: Time magazine released video of Trump struggling with a bald eagle during a photo shoot https://t.co/i2tFliZLKs https:… \n",
      "\n",
      "9\n",
      "Donald Trump postpones trip to Israel after Netanyahu criticism @ReenaJF  https://t.co/YJE3XgK9oQ \n",
      "\n",
      "10\n",
      "RT @THEWRESTLEDAILY: #WWE star @JohnCena slams Donald Trump for Muslim travel ban plans. https://t.co/UDDHhUjtWE \n",
      "\n",
      "Stream\n",
      "Syria\n",
      "\n",
      "\n",
      "1\n",
      "RT @andersostlund: Recommended to follow: #Ukraine: @EuromaidanPR @EuromaidanPress @UnianInfo #Russia: @RFERL @XSovietNews #Syria: @michael… \n",
      "\n",
      "2\n",
      "RT @SouryRakhees: Syrian Rebels, Free #Syria army #FSA respite before resuming operations against #ISIS in Maare, northern #Aleppo.  https:… \n",
      "\n",
      "3\n",
      "RT @BradCabana: #Saudi #Germany troops in Northern #Iraq #cdnpoli #Syria  https://t.co/ZyUTBKetkm \n",
      "\n",
      "4\n",
      "RT @khaleejtimes: Saudi Foreign Minister said #Syria's Assad must leave or be forced out\n",
      "Read here &gt; https://t.co/yUtJONeCzL https://t.co/8… \n",
      "\n",
      "5\n",
      "Syria's Assad must leave or be forced out: Saudi minister https://t.co/IQq2vfcRSF \n",
      "\n",
      "6\n",
      "RT @green_lemonnn: #Syria DIY self-propelled artillery. Truck-mounted 122mm D-30 ( 2A18M) used by SAA https://t.co/KXUpQlhdhP \n",
      "\n",
      "7\n",
      "RT @Politics_PR: Congress wont do it's job and vote on a war in Syria\n",
      "\n",
      "https://t.co/1vbOQSIEeH #p2 #tcot https://t.co/tRXV9d2tPV \n",
      "\n",
      "8\n",
      "RT @SJRTooting: MP Lucy Allan voted 2bomb Syria &amp; FAKED death threat. TORY Govt COVERS up 4 her &amp; Main Stream Media \n",
      "#SackLucyAllan https:/… \n",
      "\n",
      "9\n",
      "RT @green_lemonnn: #Syria DIY self-propelled artillery. Truck-mounted 122mm D-30 ( 2A18M) used by SAA https://t.co/KXUpQlhdhP \n",
      "\n",
      "10\n",
      "#isis\n",
      "#israil\n",
      "#LaCancionDe2015Fue\n",
      "#ParisShooting\n",
      "#palestine\n",
      "#Terrorismo\n",
      "#UncommonSense\n",
      "#Sadakat\n",
      "#syria\n",
      "#news\n",
      "#iran https://t.co/7f4lG3pLNj \n",
      "\n"
     ]
    }
   ],
   "source": [
    "queries = ['UCSD', 'Donald Trump', 'Syria']\n",
    "\n",
    "for query in queries:\n",
    "    #We can also request twitter stream data for specific search parameters as follows\n",
    "    url= \"https://api.twitter.com/1.1/search/tweets.json?q=\" + query\n",
    "    fetchData(url)"
   ]
  },
  {
   "cell_type": "markdown",
   "metadata": {},
   "source": [
    "Call the fetchData function to fetch latest live stream data for following search queries and output the first 5 lines\n",
    "\n",
    "1. \"UCSD\"\n",
    "2. \"Donald Trump\"\n",
    "3. \"Syria\""
   ]
  },
  {
   "cell_type": "markdown",
   "metadata": {},
   "source": [
    "### TF-IDF###\n",
    "\n",
    "tf–idf, short for term frequency–inverse document frequency, is a numerical statistic that is intended to reflect how important a word is to a document in a collection or corpus.It is among the most regularly used statistical tool for word cloud analysis. You can read more about it online (https://en.wikipedia.org/wiki/Tf%E2%80%93idf)\n",
    "\n",
    "We base our analysis on the following\n",
    "\n",
    "1. The weight of a term that occurs in a document is simply proportional to the term frequency\n",
    "2. The specificity of a term can be quantified as an inverse function of the number of documents in which it occurs\n",
    "\n",
    "For this question we will perform tf-idf analysis o the stream data we retrieve for a given search parameter. Perform the steps below\n",
    "\n",
    "1. use the twitterreq function to search for the query \"syria\" and save the top 200 lines in the file twitterStream.txt\n",
    "2. load the saved file and output the count of occurrences for each term. This will be your term frequency\n",
    "3. Calculate the inverse document frequency for each of the term in the output above.\n",
    "4. Divide the term frequency for each of the term by corresponding inverse document frequency.\n",
    "5. Sort the terms in the descending order based on their term freq/inverse document freq scores \n",
    "6. Print the top 10 terms."
   ]
  },
  {
   "cell_type": "code",
   "execution_count": 81,
   "metadata": {
    "collapsed": false
   },
   "outputs": [],
   "source": [
    "#1.\n",
    "\n",
    "writer = open('twitterStream.txt', 'a') \n",
    "url= \"https://api.twitter.com/1.1/search/tweets.json?q=\"+\"syria\"\n",
    "response = getTwitterStream(url, \"GET\", [])\n",
    "lines = response.read()\n",
    "allinfo = jsonpickle.loads(lines)\n",
    "statuses = allinfo['statuses']\n",
    "for i in range(200):\n",
    "    try:\n",
    "        writer.write(statuses[i]['text'].replace('\\n',' ')+'\\n\\n')\n",
    "    except:\n",
    "        continue\n",
    "        \n",
    "writer.close()"
   ]
  },
  {
   "cell_type": "code",
   "execution_count": 82,
   "metadata": {
    "collapsed": false
   },
   "outputs": [
    {
     "name": "stdout",
     "output_type": "stream",
     "text": [
      "{'and': 1, 'invasion': 1, 'full': 1, 'force': 1, '#sadakat': 1, '#germany': 1, 'do': 1, 'https://t.co/trxv9d2tpv': 1, 'https://t.co/zyutbketkm': 1, 'saa': 2, '@bradcabana:': 1, 'used': 2, 'us': 1, 'a': 1, 'in': 2, 'vote': 1, 'russia': 1, 'rt': 4, 'forced': 1, '@amb_yakovenko': 1, 'truck-mounted': 2, 'troops': 1, 'northern': 1, 'till': 1, '(': 2, '@green_lemonnn:': 2, '#uncommonsense': 1, 'now!': 1, 'send': 1, 'should': 1, '#israil': 1, '#parisshooting': 1, '&amp;iraq': 1, 'wait': 1, 'war': 1, 'fra': 1, 'diy': 2, 'be': 1, '#news': 1, 'artillery': 2, 'iran': 1, 'trk': 1, 'congress': 1, '#lacancionde2015fue': 1, '#saudi': 1, '2a18m)': 2, \"syria's\": 1, '#iran': 1, 'act': 1, 'https://t.co/iqq2vfcrsf': 1, '#iraq': 1, '#cdnpoli': 1, 'https://t.co/kxupqlhdhp': 2, 'minister': 1, \"don't\": 1, 'assad': 1, '&amp;': 1, 'by': 2, 'must': 1, 'wont': 1, 'on': 1, 'https://t.co/1vboqsieeh': 1, '#syria': 4, 'd-30': 2, 'https://t.co/7f4lg3plnj': 1, '#isis': 1, '#tcot': 1, 'out:': 1, 'self-propelled': 2, 'job': 1, '#palestine': 1, '@politics_pr:': 1, 'leave': 1, 'into': 1, '122mm': 2, 'saudi': 2, '#terrorismo': 1, \"it's\": 1, 'syria': 2, '#p2': 1, 'or': 1}\n"
     ]
    }
   ],
   "source": [
    "#2.\n",
    "\n",
    "def tf(name):\n",
    "    char = '.,?\"'\n",
    "    text = open(name, 'r')\n",
    "    line = text.read()\n",
    "    text.close()\n",
    "    word_list=line.lower().split()\n",
    "    count_dict = {}\n",
    "    for word in word_list:\n",
    "        if word[-1] in char:\n",
    "            word = word[:-1]\n",
    "        if word not in count_dict:\n",
    "            count_dict[word]=0\n",
    "    for word in word_list:\n",
    "        if word[-1] in char:\n",
    "            word = word[:-1]\n",
    "        count_dict[word]+=1\n",
    "    return count_dict\n",
    "\n",
    "name = 'twitterStream.txt'\n",
    "tf = tf(name)\n",
    "print tf"
   ]
  },
  {
   "cell_type": "code",
   "execution_count": 83,
   "metadata": {
    "collapsed": false
   },
   "outputs": [
    {
     "name": "stdout",
     "output_type": "stream",
     "text": [
      "{'and': 1.146128035678238, 'invasion': 1.146128035678238, 'full': 1.146128035678238, 'force': 1.146128035678238, '#sadakat': 1.146128035678238, '#germany': 1.146128035678238, 'do': 1.146128035678238, 'https://t.co/trxv9d2tpv': 1.146128035678238, 'https://t.co/zyutbketkm': 1.146128035678238, 'saa': 0.84509804001425681, '@bradcabana:': 1.146128035678238, 'used': 0.84509804001425681, 'us': 1.146128035678238, 'a': 1.146128035678238, 'in': 0.84509804001425681, 'vote': 1.146128035678238, 'russia': 1.146128035678238, 'rt': 0.54406804435027567, 'forced': 1.146128035678238, '@amb_yakovenko': 1.146128035678238, 'truck-mounted': 0.84509804001425681, 'troops': 1.146128035678238, 'northern': 1.146128035678238, 'till': 1.146128035678238, '(': 0.84509804001425681, '@green_lemonnn:': 0.84509804001425681, '#uncommonsense': 1.146128035678238, 'now!': 1.146128035678238, 'send': 1.146128035678238, 'should': 1.146128035678238, '#israil': 1.146128035678238, '#parisshooting': 1.146128035678238, '&amp;iraq': 1.146128035678238, 'wait': 1.146128035678238, 'war': 1.146128035678238, 'fra': 1.146128035678238, 'diy': 0.84509804001425681, 'be': 1.146128035678238, '#news': 1.146128035678238, 'artillery': 0.84509804001425681, 'iran': 1.146128035678238, 'trk': 1.146128035678238, 'congress': 1.146128035678238, '#lacancionde2015fue': 1.146128035678238, '#saudi': 1.146128035678238, '2a18m)': 0.84509804001425681, \"syria's\": 1.146128035678238, '#iran': 1.146128035678238, 'act': 1.146128035678238, 'https://t.co/iqq2vfcrsf': 1.146128035678238, '#iraq': 1.146128035678238, '#cdnpoli': 1.146128035678238, 'https://t.co/kxupqlhdhp': 0.84509804001425681, 'minister': 1.146128035678238, \"don't\": 1.146128035678238, 'assad': 1.146128035678238, '&amp;': 1.146128035678238, 'by': 0.84509804001425681, 'must': 1.146128035678238, 'wont': 1.146128035678238, 'on': 1.146128035678238, 'https://t.co/1vboqsieeh': 1.146128035678238, '#syria': 0.54406804435027567, 'd-30': 0.84509804001425681, 'https://t.co/7f4lg3plnj': 1.146128035678238, '#isis': 1.146128035678238, '#tcot': 1.146128035678238, 'out:': 1.146128035678238, 'self-propelled': 0.84509804001425681, 'job': 1.146128035678238, '#palestine': 1.146128035678238, '@politics_pr:': 1.146128035678238, 'leave': 1.146128035678238, 'into': 1.146128035678238, '122mm': 0.84509804001425681, 'saudi': 0.84509804001425681, '#terrorismo': 1.146128035678238, \"it's\": 1.146128035678238, 'syria': 0.84509804001425681, '#p2': 1.146128035678238, 'or': 1.146128035678238}\n"
     ]
    }
   ],
   "source": [
    "#3\n",
    "def idf(name):\n",
    "    docs = open(name, 'r')\n",
    "    tot_docs = len(docs.readlines())\n",
    "    count_dict = {}\n",
    "    unique = []\n",
    "    docs.close()\n",
    "    \n",
    "    #Get all unique terms\n",
    "    docs = open(name, 'r')\n",
    "    char = '.,?\"'\n",
    "    text_list = docs.read().lower().split()\n",
    "    for word in text_list:\n",
    "        if word[-1] in char:\n",
    "            word = word[:-1]\n",
    "        if word not in unique:\n",
    "            unique.append(word)\n",
    "            count_dict[word] = 0\n",
    "    docs.close()\n",
    "    \n",
    "    docs = open(name, 'r')\n",
    "    for line in docs.readlines():\n",
    "        new_line = []\n",
    "        for word in line.lower().split():\n",
    "            if word[-1] in char:\n",
    "                word = word[:-1]\n",
    "            new_line.append(word)\n",
    "        for term in unique:\n",
    "            if term[-1] in char:\n",
    "                term = term[:-1]\n",
    "            if term in new_line:\n",
    "                count_dict[term] += 1\n",
    "            else:\n",
    "                pass    \n",
    "    docs.close()\n",
    "    \n",
    "    for key in count_dict:\n",
    "        count_dict[key] = np.log10(float(tot_docs) / float(count_dict[key]))\n",
    "    return count_dict\n",
    "        \n",
    "name = 'twitterStream.txt'    \n",
    "idf = idf(name)\n",
    "print idf"
   ]
  },
  {
   "cell_type": "code",
   "execution_count": 84,
   "metadata": {
    "collapsed": false
   },
   "outputs": [
    {
     "data": {
      "text/plain": [
       "{'#cdnpoli': 1.146128035678238,\n",
       " '#germany': 1.146128035678238,\n",
       " '#iran': 1.146128035678238,\n",
       " '#iraq': 1.146128035678238,\n",
       " '#isis': 1.146128035678238,\n",
       " '#israil': 1.146128035678238,\n",
       " '#lacancionde2015fue': 1.146128035678238,\n",
       " '#news': 1.146128035678238,\n",
       " '#p2': 1.146128035678238,\n",
       " '#palestine': 1.146128035678238,\n",
       " '#parisshooting': 1.146128035678238,\n",
       " '#sadakat': 1.146128035678238,\n",
       " '#saudi': 1.146128035678238,\n",
       " '#syria': 2.1762721774011027,\n",
       " '#tcot': 1.146128035678238,\n",
       " '#terrorismo': 1.146128035678238,\n",
       " '#uncommonsense': 1.146128035678238,\n",
       " '&amp;': 1.146128035678238,\n",
       " '&amp;iraq': 1.146128035678238,\n",
       " '(': 1.6901960800285136,\n",
       " '122mm': 1.6901960800285136,\n",
       " '2a18m)': 1.6901960800285136,\n",
       " '@amb_yakovenko': 1.146128035678238,\n",
       " '@bradcabana:': 1.146128035678238,\n",
       " '@green_lemonnn:': 1.6901960800285136,\n",
       " '@politics_pr:': 1.146128035678238,\n",
       " 'a': 1.146128035678238,\n",
       " 'act': 1.146128035678238,\n",
       " 'and': 1.146128035678238,\n",
       " 'artillery': 1.6901960800285136,\n",
       " 'assad': 1.146128035678238,\n",
       " 'be': 1.146128035678238,\n",
       " 'by': 1.6901960800285136,\n",
       " 'congress': 1.146128035678238,\n",
       " 'd-30': 1.6901960800285136,\n",
       " 'diy': 1.6901960800285136,\n",
       " 'do': 1.146128035678238,\n",
       " \"don't\": 1.146128035678238,\n",
       " 'force': 1.146128035678238,\n",
       " 'forced': 1.146128035678238,\n",
       " 'fra': 1.146128035678238,\n",
       " 'full': 1.146128035678238,\n",
       " 'https://t.co/1vboqsieeh': 1.146128035678238,\n",
       " 'https://t.co/7f4lg3plnj': 1.146128035678238,\n",
       " 'https://t.co/iqq2vfcrsf': 1.146128035678238,\n",
       " 'https://t.co/kxupqlhdhp': 1.6901960800285136,\n",
       " 'https://t.co/trxv9d2tpv': 1.146128035678238,\n",
       " 'https://t.co/zyutbketkm': 1.146128035678238,\n",
       " 'in': 1.6901960800285136,\n",
       " 'into': 1.146128035678238,\n",
       " 'invasion': 1.146128035678238,\n",
       " 'iran': 1.146128035678238,\n",
       " \"it's\": 1.146128035678238,\n",
       " 'job': 1.146128035678238,\n",
       " 'leave': 1.146128035678238,\n",
       " 'minister': 1.146128035678238,\n",
       " 'must': 1.146128035678238,\n",
       " 'northern': 1.146128035678238,\n",
       " 'now!': 1.146128035678238,\n",
       " 'on': 1.146128035678238,\n",
       " 'or': 1.146128035678238,\n",
       " 'out:': 1.146128035678238,\n",
       " 'rt': 2.1762721774011027,\n",
       " 'russia': 1.146128035678238,\n",
       " 'saa': 1.6901960800285136,\n",
       " 'saudi': 1.6901960800285136,\n",
       " 'self-propelled': 1.6901960800285136,\n",
       " 'send': 1.146128035678238,\n",
       " 'should': 1.146128035678238,\n",
       " 'syria': 1.6901960800285136,\n",
       " \"syria's\": 1.146128035678238,\n",
       " 'till': 1.146128035678238,\n",
       " 'trk': 1.146128035678238,\n",
       " 'troops': 1.146128035678238,\n",
       " 'truck-mounted': 1.6901960800285136,\n",
       " 'us': 1.146128035678238,\n",
       " 'used': 1.6901960800285136,\n",
       " 'vote': 1.146128035678238,\n",
       " 'wait': 1.146128035678238,\n",
       " 'war': 1.146128035678238,\n",
       " 'wont': 1.146128035678238}"
      ]
     },
     "execution_count": 84,
     "metadata": {},
     "output_type": "execute_result"
    }
   ],
   "source": [
    "#4. \n",
    "\n",
    "def tfidf(tf_dict, idf_dict):\n",
    "    tfidf_dict = {}\n",
    "    for term in tf_dict.keys():\n",
    "        tfidf_dict[term] = tf_dict[term] * idf_dict[term]\n",
    "    return tfidf_dict\n",
    "\n",
    "tfidf = tfidf(tf, idf)\n",
    "tfidf"
   ]
  },
  {
   "cell_type": "code",
   "execution_count": 85,
   "metadata": {
    "collapsed": false
   },
   "outputs": [
    {
     "data": {
      "text/html": [
       "<div>\n",
       "<table border=\"1\" class=\"dataframe\">\n",
       "  <thead>\n",
       "    <tr style=\"text-align: right;\">\n",
       "      <th></th>\n",
       "      <th>Term</th>\n",
       "      <th>TF-IDF</th>\n",
       "    </tr>\n",
       "  </thead>\n",
       "  <tbody>\n",
       "    <tr>\n",
       "      <th>60</th>\n",
       "      <td>#syria</td>\n",
       "      <td>2.176272</td>\n",
       "    </tr>\n",
       "    <tr>\n",
       "      <th>16</th>\n",
       "      <td>rt</td>\n",
       "      <td>2.176272</td>\n",
       "    </tr>\n",
       "    <tr>\n",
       "      <th>55</th>\n",
       "      <td>by</td>\n",
       "      <td>1.690196</td>\n",
       "    </tr>\n",
       "    <tr>\n",
       "      <th>19</th>\n",
       "      <td>truck-mounted</td>\n",
       "      <td>1.690196</td>\n",
       "    </tr>\n",
       "    <tr>\n",
       "      <th>34</th>\n",
       "      <td>saa</td>\n",
       "      <td>1.690196</td>\n",
       "    </tr>\n",
       "    <tr>\n",
       "      <th>67</th>\n",
       "      <td>self-propelled</td>\n",
       "      <td>1.690196</td>\n",
       "    </tr>\n",
       "    <tr>\n",
       "      <th>35</th>\n",
       "      <td>saudi</td>\n",
       "      <td>1.690196</td>\n",
       "    </tr>\n",
       "    <tr>\n",
       "      <th>23</th>\n",
       "      <td>(</td>\n",
       "      <td>1.690196</td>\n",
       "    </tr>\n",
       "    <tr>\n",
       "      <th>12</th>\n",
       "      <td>in</td>\n",
       "      <td>1.690196</td>\n",
       "    </tr>\n",
       "    <tr>\n",
       "      <th>51</th>\n",
       "      <td>syria</td>\n",
       "      <td>1.690196</td>\n",
       "    </tr>\n",
       "  </tbody>\n",
       "</table>\n",
       "</div>"
      ],
      "text/plain": [
       "              Term    TF-IDF\n",
       "60          #syria  2.176272\n",
       "16              rt  2.176272\n",
       "55              by  1.690196\n",
       "19   truck-mounted  1.690196\n",
       "34             saa  1.690196\n",
       "67  self-propelled  1.690196\n",
       "35           saudi  1.690196\n",
       "23               (  1.690196\n",
       "12              in  1.690196\n",
       "51           syria  1.690196"
      ]
     },
     "execution_count": 85,
     "metadata": {},
     "output_type": "execute_result"
    }
   ],
   "source": [
    "#5. \n",
    "\n",
    "freqScore = pd.DataFrame(tfidf.items(),columns=['Term','TF-IDF']).sort(ascending=False,columns=['TF-IDF'])\n",
    "freqScore.head(10)"
   ]
  }
 ],
 "metadata": {
  "kernelspec": {
   "display_name": "Python 2",
   "language": "python",
   "name": "python2"
  },
  "language_info": {
   "codemirror_mode": {
    "name": "ipython",
    "version": 2
   },
   "file_extension": ".py",
   "mimetype": "text/x-python",
   "name": "python",
   "nbconvert_exporter": "python",
   "pygments_lexer": "ipython2",
   "version": "2.7.10"
  }
 },
 "nbformat": 4,
 "nbformat_minor": 0
}
