{
 "cells": [
  {
   "cell_type": "markdown",
   "metadata": {},
   "source": [
    "### Excercise 1: reconstruct a file from segments."
   ]
  },
  {
   "cell_type": "markdown",
   "metadata": {},
   "source": [
    "Each of the files F* is a short segment of the original text file.\n",
    "\n",
    "The format of the file is `(n1: 5 char int),(n2: 5 char int),string`\n",
    "The string represents the content of the file in the range `[n1:n2]`\n",
    "\n",
    "Your task is to reconstruct the original file."
   ]
  },
  {
   "cell_type": "code",
   "execution_count": 1,
   "metadata": {
    "collapsed": false
   },
   "outputs": [
    {
     "name": "stdout",
     "output_type": "stream",
     "text": [
      "/home/michael/Desktop/DSE200_Python_for_Data_Analysis/data/NLTK/Chopped\n",
      "F0    F114  F13   F145\tF160  F176  F192  F207\tF223  F28  F42\tF58  F72  F87\r\n",
      "F1    F115  F130  F146\tF161  F177  F193  F208\tF224  F29  F43\tF59  F73  F88\r\n",
      "F10   F117  F131  F147\tF162  F178  F194  F209\tF225  F3   F44\tF6   F74  F9\r\n",
      "F100  F118  F132  F148\tF163  F179  F195  F210\tF226  F30  F45\tF60  F75  F90\r\n",
      "F101  F119  F133  F149\tF164  F18   F196  F211\tF227  F31  F46\tF61  F76  F91\r\n",
      "F102  F12   F134  F15\tF165  F180  F197  F212\tF228  F32  F48\tF62  F77  F93\r\n",
      "F104  F120  F135  F151\tF166  F181  F198  F213\tF229  F33  F49\tF63  F78  F94\r\n",
      "F106  F121  F136  F152\tF167  F182  F199  F214\tF23   F34  F5\tF64  F79  F95\r\n",
      "F107  F122  F137  F153\tF168  F183  F2\t  F215\tF230  F35  F50\tF65  F8   F96\r\n",
      "F108  F123  F138  F154\tF169  F185  F20   F216\tF231  F36  F51\tF66  F80  F97\r\n",
      "F109  F124  F139  F155\tF170  F186  F200  F218\tF232  F37  F52\tF67  F81  F99\r\n",
      "F11   F125  F14   F156\tF171  F187  F201  F219\tF233  F38  F53\tF68  F82\r\n",
      "F110  F126  F140  F157\tF172  F189  F202  F22\tF24   F39  F54\tF69  F83\r\n",
      "F111  F127  F141  F158\tF173  F19   F204  F220\tF25   F4   F55\tF7   F84\r\n",
      "F112  F128  F142  F159\tF174  F190  F205  F221\tF26   F40  F56\tF70  F85\r\n",
      "F113  F129  F144  F16\tF175  F191  F206  F222\tF27   F41  F57\tF71  F86\r\n"
     ]
    }
   ],
   "source": [
    "%cd ../data/NLTK/Chopped/\n",
    "!ls -F"
   ]
  },
  {
   "cell_type": "code",
   "execution_count": 2,
   "metadata": {
    "collapsed": false
   },
   "outputs": [
    {
     "name": "stdout",
     "output_type": "stream",
     "text": [
      "  183  191 term-en\n",
      " 1009 1011st\n",
      "  792  796f th\n",
      "  859  870egistration\n",
      "  736  737s\n",
      "  210  225 the City Execu\n",
      "  891  894 ar\n",
      "  592  595ayo\n",
      "  912  913e\n",
      "  965  982ulton legislators\n",
      "The Fulton County Grand Jury said Friday an investigation of Atlanta's recent primary election produced `` no evidence '' that any irregularities took place . The jury further said in term-end presentments that the City Executive Committee , which had over-all charge of the election , `` deserves the praise and thanks of the City of Atlanta '' for the manner in which the election was conducted . The September-October term jury had been charged by Fulton Superior Court Judge Durwood Pye to investigate reports of possible `` irregularities '' in the hard-fought primary which was won by Mayor-nominate Ivan Allen Jr. . `` Only a relative handful of such reports was received '' , the jury said , `` considering the widespread interest in the election , the number of voters and the size of this city '' . The jury said it did find that many of Georgia's registration and election laws `` are outmoded or inadequate and often ambiguous '' . It recommended that Fulton legislators act `` to have these laws studied and revised to the end of modernizing and improving them '' . The grand jury commented on a number of other topics , among them the Atlanta and Fulton County purchasing departments which it said `` are well operated and follow generally accepted practices which inure to the best interest of both governments '' . Merger proposed However , the jury said it believes `` these two offices should be combined to achieve greater efficiency and reduce the cost of administration '' . The City Purchasing Department , the jury said , `` is lacking in experienced clerical personnel as a result of city personnel policies '' ."
     ]
    }
   ],
   "source": [
    "!cat F11*\n",
    "\n",
    "!sort -n F* | cut -c 11- | tr -d '\\n' > newfile.txt\n",
    "!cat newfile.txt"
   ]
  },
  {
   "cell_type": "markdown",
   "metadata": {},
   "source": [
    "### Excercise 2:"
   ]
  },
  {
   "cell_type": "code",
   "execution_count": 3,
   "metadata": {
    "collapsed": false
   },
   "outputs": [
    {
     "name": "stdout",
     "output_type": "stream",
     "text": [
      "Caesar.txt: ASCII English text\n",
      "1\n"
     ]
    }
   ],
   "source": [
    "#Issue a UNIX command to create a file called Caesar that contains the following lines (include the mistakes!!)\n",
    "\n",
    "Text = \"\"\"Caesar, a great general, is petitioned by several citizens to show clemency to one of his enemies.\n",
    "He declines, pompously speaking of himself in the third person. The group of conspirators then proceeds to stab him.\n",
    "With his dying breath he gasps, \"Et tu, Brute? (\"And you, Brutus?\") Thus falls Caesar.\" \n",
    "The conspirators exult, and Shakespeare inserts a self-referential joke as Cassius says, \n",
    "\"How many ages hence shall this our lofty scene be acted over in states unborn and accents yet unknown!\"\n",
    "\"\"\"\n",
    "\n",
    "#Change the permissions of this file to 666\n",
    "#Issue a UNIX command to determine the file type\n",
    "#Isue a uniix comannd to count the number of words in the above text that contains no vowels\n",
    "#Replace the word Caesar wherever it is found in the entire text to Leonidas\n",
    "#Make a copy of the above file without the first and last lines of the text and rename this file to Leonidas\n",
    "\n",
    "!echo \"\"\"Caesar, a great general, is petitioned by several citizens to show clemency to one of his enemies.\\nHe declines, pompously speaking of himself in the third person. The group of conspirators then proceeds to stab him.\\nWith his dying breath he gasps, \\\"Et tu, Brute? (\\\"And you, Brutus?\\\") Thus falls Caesar.\\\"\\nThe conspirators exult, and Shakespeare inserts a self-referential joke as Cassius says,\\n\\\"How many ages hence shall this our lofty scene be acted over in states unborn and accents yet unknown!\"\"\" >> Caesar.txt\n",
    "!chmod 666 Caesar.txt\n",
    "!file Caesar.txt\n",
    "!grep -io '\\b[^aeiou,.!?\"]*\\s' Caesar.txt | wc -w\n",
    "\n",
    "f = open(\"Caesar.txt\",\"r\")\n",
    "filedata = f.read()\n",
    "f.close()\n",
    "\n",
    "newdata = filedata.replace('Caesar','Leonidas')\n",
    "\n",
    "f = open(\"Caesar.txt\",\"w\")\n",
    "f.write(newdata)\n",
    "f.close()\n",
    "\n",
    "f = open(\"Caesar.txt\",\"r\")\n",
    "lines = f.readlines()\n",
    "f.close()\n",
    "\n",
    "newfile = open(\"Leonidas.txt\",\"w\")\n",
    "\n",
    "for i in range(1,len(lines)-2):\n",
    "    newfile.write(lines[i])\n",
    "    \n",
    "newfile.close()\n",
    "\n",
    "    "
   ]
  },
  {
   "cell_type": "markdown",
   "metadata": {},
   "source": [
    "### Excercise 3:"
   ]
  },
  {
   "cell_type": "code",
   "execution_count": 4,
   "metadata": {
    "collapsed": false
   },
   "outputs": [
    {
     "name": "stdout",
     "output_type": "stream",
     "text": [
      "wc: Caesar: No such file or directory\n",
      "Caesar.txt  F119  F138\tF159  F179  F2\t  F220\tF3   F5   F69  F88\n",
      "F0\t    F12   F139\tF16   F18   F20   F221\tF30  F50  F7   F9\n",
      "F1\t    F120  F14\tF160  F180  F200  F222\tF31  F51  F70  F90\n",
      "F10\t    F121  F140\tF161  F181  F201  F223\tF32  F52  F71  F91\n",
      "F100\t    F122  F141\tF162  F182  F202  F224\tF33  F53  F72  F93\n",
      "F101\t    F123  F142\tF163  F183  F204  F225\tF34  F54  F73  F94\n",
      "F102\t    F124  F144\tF164  F185  F205  F226\tF35  F55  F74  F95\n",
      "F104\t    F125  F145\tF165  F186  F206  F227\tF36  F56  F75  F96\n",
      "F106\t    F126  F146\tF166  F187  F207  F228\tF37  F57  F76  F97\n",
      "F107\t    F127  F147\tF167  F189  F208  F229\tF38  F58  F77  F99\n",
      "F108\t    F128  F148\tF168  F19   F209  F23\tF39  F59  F78  Leonidas.txt\n",
      "F109\t    F129  F149\tF169  F190  F210  F230\tF4   F6   F79\n",
      "F11\t    F13   F15\tF170  F191  F211  F231\tF40  F60  F8\n",
      "F110\t    F130  F151\tF171  F192  F212  F232\tF41  F61  F80\n",
      "F111\t    F131  F152\tF172  F193  F213  F233\tF42  F62  F81\n",
      "F112\t    F132  F153\tF173  F194  F214  F24\tF43  F63  F82\n",
      "F113\t    F133  F154\tF174  F195  F215  F25\tF44  F64  F83\n",
      "F114\t    F134  F155\tF175  F196  F216  F26\tF45  F65  F84\n",
      "F115\t    F135  F156\tF176  F197  F218  F27\tF46  F66  F85\n",
      "F117\t    F136  F157\tF177  F198  F219  F28\tF48  F67  F86\n",
      "F118\t    F137  F158\tF178  F199  F22   F29\tF49  F68  F87\n"
     ]
    }
   ],
   "source": [
    "#What is the command to count lines,words and characters in a file and how do you make this comand display only linecount?\n",
    "#Also write a single command that lists the files in the current directory that begin with upper case letters\n",
    "\n",
    "!wc -l Caesar         # -l is lines\n",
    "!ls -d [A-Z]*      #lists files with uppercase"
   ]
  },
  {
   "cell_type": "markdown",
   "metadata": {},
   "source": [
    "### Excercise 4:"
   ]
  },
  {
   "cell_type": "code",
   "execution_count": 5,
   "metadata": {
    "collapsed": false
   },
   "outputs": [
    {
     "name": "stdout",
     "output_type": "stream",
     "text": [
      "Caesar.txt  F119  F138\tF159  F179  F2\t  F220\tF3   F5   F69  F88\n",
      "F0\t    F12   F139\tF16   F18   F20   F221\tF30  F50  F7   F9\n",
      "F1\t    F120  F14\tF160  F180  F200  F222\tF31  F51  F70  F90\n",
      "F10\t    F121  F140\tF161  F181  F201  F223\tF32  F52  F71  F91\n",
      "F100\t    F122  F141\tF162  F182  F202  F224\tF33  F53  F72  F93\n",
      "F101\t    F123  F142\tF163  F183  F204  F225\tF34  F54  F73  F94\n",
      "F102\t    F124  F144\tF164  F185  F205  F226\tF35  F55  F74  F95\n",
      "F104\t    F125  F145\tF165  F186  F206  F227\tF36  F56  F75  F96\n",
      "F106\t    F126  F146\tF166  F187  F207  F228\tF37  F57  F76  F97\n",
      "F107\t    F127  F147\tF167  F189  F208  F229\tF38  F58  F77  F99\n",
      "F108\t    F128  F148\tF168  F19   F209  F23\tF39  F59  F78  Leonidas.txt\n",
      "F109\t    F129  F149\tF169  F190  F210  F230\tF4   F6   F79  newfile.txt\n",
      "F11\t    F13   F15\tF170  F191  F211  F231\tF40  F60  F8\n",
      "F110\t    F130  F151\tF171  F192  F212  F232\tF41  F61  F80\n",
      "F111\t    F131  F152\tF172  F193  F213  F233\tF42  F62  F81\n",
      "F112\t    F132  F153\tF173  F194  F214  F24\tF43  F63  F82\n",
      "F113\t    F133  F154\tF174  F195  F215  F25\tF44  F64  F83\n",
      "F114\t    F134  F155\tF175  F196  F216  F26\tF45  F65  F84\n",
      "F115\t    F135  F156\tF176  F197  F218  F27\tF46  F66  F85\n",
      "F117\t    F136  F157\tF177  F198  F219  F28\tF48  F67  F86\n",
      "F118\t    F137  F158\tF178  F199  F22   F29\tF49  F68  F87\n",
      "With his dying breath he gasps, \"Et tu, Brute? (\"And you, Brutus?\") Thus falls L\n",
      "eonidas.\"\n",
      "With his dying breath he gasps, \"Et tu, Brute? (\"And you, Brutus?\") Thus falls L\n",
      "eonidas.\"\n",
      "The conspirators exult, and Shakespeare inserts a self-referential joke as Cassi\n",
      "us says,\n",
      "Leonidas, a great general, is petitioned by several citizens to show clemency to\n",
      " one of his enemies.\n",
      "\"How many ages hence shall this our lofty scene be acted over in states unborn a\n",
      "nd accents yet unknown!\n",
      "He declines, pompously speaking of himself in the third person. The group of con\n",
      "spirators then proceeds to stab him.\n",
      "He declines, pompously speaking of himself in the third person. The group of con\n",
      "spirators then proceeds to stab him.\n"
     ]
    }
   ],
   "source": [
    "#Combine the files Caesar and Leonidas and save the combined file as kings\n",
    "#Display the contents of this file using more command\n",
    "#Sort this file in reverse alphabetic order and display it by piping it into more\n",
    "\n",
    "!ls\n",
    "!cat Caesar.txt Leonidas.txt > kings.txt\n",
    "!sort -r kings.txt | more"
   ]
  },
  {
   "cell_type": "markdown",
   "metadata": {},
   "source": [
    "### Excercise 5:"
   ]
  },
  {
   "cell_type": "code",
   "execution_count": 6,
   "metadata": {
    "collapsed": false
   },
   "outputs": [
    {
     "name": "stdout",
     "output_type": "stream",
     "text": [
      "Caesar.txt  F119  F138\tF159  F179  F2\t  F220\tF3   F5   F69  F88\n",
      "F0\t    F12   F139\tF16   F18   F20   F221\tF30  F50  F7   F9\n",
      "F1\t    F120  F14\tF160  F180  F200  F222\tF31  F51  F70  F90\n",
      "F10\t    F121  F140\tF161  F181  F201  F223\tF32  F52  F71  F91\n",
      "F100\t    F122  F141\tF162  F182  F202  F224\tF33  F53  F72  F93\n",
      "F101\t    F123  F142\tF163  F183  F204  F225\tF34  F54  F73  F94\n",
      "F102\t    F124  F144\tF164  F185  F205  F226\tF35  F55  F74  F95\n",
      "F104\t    F125  F145\tF165  F186  F206  F227\tF36  F56  F75  F96\n",
      "F106\t    F126  F146\tF166  F187  F207  F228\tF37  F57  F76  F97\n",
      "F107\t    F127  F147\tF167  F189  F208  F229\tF38  F58  F77  F99\n",
      "F108\t    F128  F148\tF168  F19   F209  F23\tF39  F59  F78  kings.txt\n",
      "F109\t    F129  F149\tF169  F190  F210  F230\tF4   F6   F79  Leonidas.txt\n",
      "F11\t    F13   F15\tF170  F191  F211  F231\tF40  F60  F8   newfile.txt\n",
      "F110\t    F130  F151\tF171  F192  F212  F232\tF41  F61  F80\n",
      "F111\t    F131  F152\tF172  F193  F213  F233\tF42  F62  F81\n",
      "F112\t    F132  F153\tF173  F194  F214  F24\tF43  F63  F82\n",
      "F113\t    F133  F154\tF174  F195  F215  F25\tF44  F64  F83\n",
      "F114\t    F134  F155\tF175  F196  F216  F26\tF45  F65  F84\n",
      "F115\t    F135  F156\tF176  F197  F218  F27\tF46  F66  F85\n",
      "F117\t    F136  F157\tF177  F198  F219  F28\tF48  F67  F86\n",
      "F118\t    F137  F158\tF178  F199  F22   F29\tF49  F68  F87\n",
      "Caesar.txt  F119  F138\tF159  F179  F2\t  F220\tF3   F5   F69  F88\n",
      "F0\t    F12   F139\tF16   F18   F20   F221\tF30  F50  F7   F9\n",
      "F1\t    F120  F14\tF160  F180  F200  F222\tF31  F51  F70  F90\n",
      "F10\t    F121  F140\tF161  F181  F201  F223\tF32  F52  F71  F91\n",
      "F100\t    F122  F141\tF162  F182  F202  F224\tF33  F53  F72  F93\n",
      "F101\t    F123  F142\tF163  F183  F204  F225\tF34  F54  F73  F94\n",
      "F102\t    F124  F144\tF164  F185  F205  F226\tF35  F55  F74  F95\n",
      "F104\t    F125  F145\tF165  F186  F206  F227\tF36  F56  F75  F96\n",
      "F106\t    F126  F146\tF166  F187  F207  F228\tF37  F57  F76  F97\n",
      "F107\t    F127  F147\tF167  F189  F208  F229\tF38  F58  F77  F99\n",
      "F108\t    F128  F148\tF168  F19   F209  F23\tF39  F59  F78  kings.txt\n",
      "F109\t    F129  F149\tF169  F190  F210  F230\tF4   F6   F79  Leonidas.txt\n",
      "F11\t    F13   F15\tF170  F191  F211  F231\tF40  F60  F8   newfile.txt\n",
      "F110\t    F130  F151\tF171  F192  F212  F232\tF41  F61  F80  subdir\n",
      "F111\t    F131  F152\tF172  F193  F213  F233\tF42  F62  F81\n",
      "F112\t    F132  F153\tF173  F194  F214  F24\tF43  F63  F82\n",
      "F113\t    F133  F154\tF174  F195  F215  F25\tF44  F64  F83\n",
      "F114\t    F134  F155\tF175  F196  F216  F26\tF45  F65  F84\n",
      "F115\t    F135  F156\tF176  F197  F218  F27\tF46  F66  F85\n",
      "F117\t    F136  F157\tF177  F198  F219  F28\tF48  F67  F86\n",
      "F118\t    F137  F158\tF178  F199  F22   F29\tF49  F68  F87\n",
      "mv: `Caesar.txt' and `Caesar.txt' are the same file\n",
      "mv: `F0' and `F0' are the same file\n",
      "mv: `F1' and `F1' are the same file\n",
      "mv: `F10' and `F10' are the same file\n",
      "mv: `F100' and `F100' are the same file\n",
      "mv: `F101' and `F101' are the same file\n",
      "mv: `F102' and `F102' are the same file\n",
      "mv: `F104' and `F104' are the same file\n",
      "mv: `F106' and `F106' are the same file\n",
      "mv: `F107' and `F107' are the same file\n",
      "mv: `F108' and `F108' are the same file\n",
      "mv: `F109' and `F109' are the same file\n",
      "mv: `F11' and `F11' are the same file\n",
      "mv: `F110' and `F110' are the same file\n",
      "mv: `F111' and `F111' are the same file\n",
      "mv: `F112' and `F112' are the same file\n",
      "mv: `F113' and `F113' are the same file\n",
      "mv: `F114' and `F114' are the same file\n",
      "mv: `F115' and `F115' are the same file\n",
      "mv: `F117' and `F117' are the same file\n",
      "mv: `F118' and `F118' are the same file\n",
      "mv: `F119' and `F119' are the same file\n",
      "mv: `F12' and `F12' are the same file\n",
      "mv: `F120' and `F120' are the same file\n",
      "mv: `F121' and `F121' are the same file\n",
      "mv: `F122' and `F122' are the same file\n",
      "mv: `F123' and `F123' are the same file\n",
      "mv: `F124' and `F124' are the same file\n",
      "mv: `F125' and `F125' are the same file\n",
      "mv: `F126' and `F126' are the same file\n",
      "mv: `F127' and `F127' are the same file\n",
      "mv: `F128' and `F128' are the same file\n",
      "mv: `F129' and `F129' are the same file\n",
      "mv: `F13' and `F13' are the same file\n",
      "mv: `F130' and `F130' are the same file\n",
      "mv: `F131' and `F131' are the same file\n",
      "mv: `F132' and `F132' are the same file\n",
      "mv: `F133' and `F133' are the same file\n",
      "mv: `F134' and `F134' are the same file\n",
      "mv: `F135' and `F135' are the same file\n",
      "mv: `F136' and `F136' are the same file\n",
      "mv: `F137' and `F137' are the same file\n",
      "mv: `F138' and `F138' are the same file\n",
      "mv: `F139' and `F139' are the same file\n",
      "mv: `F14' and `F14' are the same file\n",
      "mv: `F140' and `F140' are the same file\n",
      "mv: `F141' and `F141' are the same file\n",
      "mv: `F142' and `F142' are the same file\n",
      "mv: `F144' and `F144' are the same file\n",
      "mv: `F145' and `F145' are the same file\n",
      "mv: `F146' and `F146' are the same file\n",
      "mv: `F147' and `F147' are the same file\n",
      "mv: `F148' and `F148' are the same file\n",
      "mv: `F149' and `F149' are the same file\n",
      "mv: `F15' and `F15' are the same file\n",
      "mv: `F151' and `F151' are the same file\n",
      "mv: `F152' and `F152' are the same file\n",
      "mv: `F153' and `F153' are the same file\n",
      "mv: `F154' and `F154' are the same file\n",
      "mv: `F155' and `F155' are the same file\n",
      "mv: `F156' and `F156' are the same file\n",
      "mv: `F157' and `F157' are the same file\n",
      "mv: `F158' and `F158' are the same file\n",
      "mv: `F159' and `F159' are the same file\n",
      "mv: `F16' and `F16' are the same file\n",
      "mv: `F160' and `F160' are the same file\n",
      "mv: `F161' and `F161' are the same file\n",
      "mv: `F162' and `F162' are the same file\n",
      "mv: `F163' and `F163' are the same file\n",
      "mv: `F164' and `F164' are the same file\n",
      "mv: `F165' and `F165' are the same file\n",
      "mv: `F166' and `F166' are the same file\n",
      "mv: `F167' and `F167' are the same file\n",
      "mv: `F168' and `F168' are the same file\n",
      "mv: `F169' and `F169' are the same file\n",
      "mv: `F170' and `F170' are the same file\n",
      "mv: `F171' and `F171' are the same file\n",
      "mv: `F172' and `F172' are the same file\n",
      "mv: `F173' and `F173' are the same file\n",
      "mv: `F174' and `F174' are the same file\n",
      "mv: `F175' and `F175' are the same file\n",
      "mv: `F176' and `F176' are the same file\n",
      "mv: `F177' and `F177' are the same file\n",
      "mv: `F178' and `F178' are the same file\n",
      "mv: `F179' and `F179' are the same file\n",
      "mv: `F18' and `F18' are the same file\n",
      "mv: `F180' and `F180' are the same file\n",
      "mv: `F181' and `F181' are the same file\n",
      "mv: `F182' and `F182' are the same file\n",
      "mv: `F183' and `F183' are the same file\n",
      "mv: `F185' and `F185' are the same file\n",
      "mv: `F186' and `F186' are the same file\n",
      "mv: `F187' and `F187' are the same file\n",
      "mv: `F189' and `F189' are the same file\n",
      "mv: `F19' and `F19' are the same file\n",
      "mv: `F190' and `F190' are the same file\n",
      "mv: `F191' and `F191' are the same file\n",
      "mv: `F192' and `F192' are the same file\n",
      "mv: `F193' and `F193' are the same file\n",
      "mv: `F194' and `F194' are the same file\n",
      "mv: `F195' and `F195' are the same file\n",
      "mv: `F196' and `F196' are the same file\n",
      "mv: `F197' and `F197' are the same file\n",
      "mv: `F198' and `F198' are the same file\n",
      "mv: `F199' and `F199' are the same file\n",
      "mv: `F2' and `F2' are the same file\n",
      "mv: `F20' and `F20' are the same file\n",
      "mv: `F200' and `F200' are the same file\n",
      "mv: `F201' and `F201' are the same file\n",
      "mv: `F202' and `F202' are the same file\n",
      "mv: `F204' and `F204' are the same file\n",
      "mv: `F205' and `F205' are the same file\n",
      "mv: `F206' and `F206' are the same file\n",
      "mv: `F207' and `F207' are the same file\n",
      "mv: `F208' and `F208' are the same file\n",
      "mv: `F209' and `F209' are the same file\n",
      "mv: `F210' and `F210' are the same file\n",
      "mv: `F211' and `F211' are the same file\n",
      "mv: `F212' and `F212' are the same file\n",
      "mv: `F213' and `F213' are the same file\n",
      "mv: `F214' and `F214' are the same file\n",
      "mv: `F215' and `F215' are the same file\n",
      "mv: `F216' and `F216' are the same file\n",
      "mv: `F218' and `F218' are the same file\n",
      "mv: `F219' and `F219' are the same file\n",
      "mv: `F22' and `F22' are the same file\n",
      "mv: `F220' and `F220' are the same file\n",
      "mv: `F221' and `F221' are the same file\n",
      "mv: `F222' and `F222' are the same file\n",
      "mv: `F223' and `F223' are the same file\n",
      "mv: `F224' and `F224' are the same file\n",
      "mv: `F225' and `F225' are the same file\n",
      "mv: `F226' and `F226' are the same file\n",
      "mv: `F227' and `F227' are the same file\n",
      "mv: `F228' and `F228' are the same file\n",
      "mv: `F229' and `F229' are the same file\n",
      "mv: `F23' and `F23' are the same file\n",
      "mv: `F230' and `F230' are the same file\n",
      "mv: `F231' and `F231' are the same file\n",
      "mv: `F232' and `F232' are the same file\n",
      "mv: `F233' and `F233' are the same file\n",
      "mv: `F24' and `F24' are the same file\n",
      "mv: `F25' and `F25' are the same file\n",
      "mv: `F26' and `F26' are the same file\n",
      "mv: `F27' and `F27' are the same file\n",
      "mv: `F28' and `F28' are the same file\n",
      "mv: `F29' and `F29' are the same file\n",
      "mv: `F3' and `F3' are the same file\n",
      "mv: `F30' and `F30' are the same file\n",
      "mv: `F31' and `F31' are the same file\n",
      "mv: `F32' and `F32' are the same file\n",
      "mv: `F33' and `F33' are the same file\n",
      "mv: `F34' and `F34' are the same file\n",
      "mv: `F35' and `F35' are the same file\n",
      "mv: `F36' and `F36' are the same file\n",
      "mv: `F37' and `F37' are the same file\n",
      "mv: `F38' and `F38' are the same file\n",
      "mv: `F39' and `F39' are the same file\n",
      "mv: `F4' and `F4' are the same file\n",
      "mv: `F40' and `F40' are the same file\n",
      "mv: `F41' and `F41' are the same file\n",
      "mv: `F42' and `F42' are the same file\n",
      "mv: `F43' and `F43' are the same file\n",
      "mv: `F44' and `F44' are the same file\n",
      "mv: `F45' and `F45' are the same file\n",
      "mv: `F46' and `F46' are the same file\n",
      "mv: `F48' and `F48' are the same file\n",
      "mv: `F49' and `F49' are the same file\n",
      "mv: `F5' and `F5' are the same file\n",
      "mv: `F50' and `F50' are the same file\n",
      "mv: `F51' and `F51' are the same file\n",
      "mv: `F52' and `F52' are the same file\n",
      "mv: `F53' and `F53' are the same file\n",
      "mv: `F54' and `F54' are the same file\n",
      "mv: `F55' and `F55' are the same file\n",
      "mv: `F56' and `F56' are the same file\n",
      "mv: `F57' and `F57' are the same file\n",
      "mv: `F58' and `F58' are the same file\n",
      "mv: `F59' and `F59' are the same file\n",
      "mv: `F6' and `F6' are the same file\n",
      "mv: `F60' and `F60' are the same file\n",
      "mv: `F61' and `F61' are the same file\n",
      "mv: `F62' and `F62' are the same file\n",
      "mv: `F63' and `F63' are the same file\n",
      "mv: `F64' and `F64' are the same file\n",
      "mv: `F65' and `F65' are the same file\n",
      "mv: `F66' and `F66' are the same file\n",
      "mv: `F67' and `F67' are the same file\n",
      "mv: `F68' and `F68' are the same file\n",
      "mv: `F69' and `F69' are the same file\n",
      "mv: `F7' and `F7' are the same file\n",
      "mv: `F70' and `F70' are the same file\n",
      "mv: `F71' and `F71' are the same file\n",
      "mv: `F72' and `F72' are the same file\n",
      "mv: `F73' and `F73' are the same file\n",
      "mv: `F74' and `F74' are the same file\n",
      "mv: `F75' and `F75' are the same file\n",
      "mv: `F76' and `F76' are the same file\n",
      "mv: `F77' and `F77' are the same file\n",
      "mv: `F78' and `F78' are the same file\n",
      "mv: `F79' and `F79' are the same file\n",
      "mv: `F8' and `F8' are the same file\n",
      "mv: `F80' and `F80' are the same file\n",
      "mv: `F81' and `F81' are the same file\n",
      "mv: `F82' and `F82' are the same file\n",
      "mv: `F83' and `F83' are the same file\n",
      "mv: `F84' and `F84' are the same file\n",
      "mv: `F85' and `F85' are the same file\n",
      "mv: `F86' and `F86' are the same file\n",
      "mv: `F87' and `F87' are the same file\n",
      "mv: `F88' and `F88' are the same file\n",
      "mv: `F9' and `F9' are the same file\n",
      "mv: `F90' and `F90' are the same file\n",
      "mv: `F91' and `F91' are the same file\n",
      "mv: `F93' and `F93' are the same file\n",
      "mv: `F94' and `F94' are the same file\n",
      "mv: `F95' and `F95' are the same file\n",
      "mv: `F96' and `F96' are the same file\n",
      "mv: `F97' and `F97' are the same file\n",
      "mv: `F99' and `F99' are the same file\n",
      "mv: `Leonidas.txt' and `Leonidas.txt' are the same file\n",
      "mv: `kings.txt' and `kings.txt' are the same file\n",
      "mv: `newfile.txt' and `newfile.txt' are the same file\n"
     ]
    }
   ],
   "source": [
    "#List all files in your current directory. Make a subDirectory and copy all these files in the subdirectory.\n",
    "#Write Unix commands to rename all the files to the format - currentDate_originalname\n",
    "\n",
    "!ls\n",
    "!mkdir subdir | cp * subdir\n",
    "!cd subdir\n",
    "!rm -r subdir | ls\n",
    "!now=\"$(date +'%d_%m_%Y'_)\"\n",
    "!for f in *; do mv \"$f\" \"$now$f\"; done"
   ]
  },
  {
   "cell_type": "markdown",
   "metadata": {},
   "source": [
    "### Excercise 6:"
   ]
  },
  {
   "cell_type": "code",
   "execution_count": 8,
   "metadata": {
    "collapsed": false
   },
   "outputs": [
    {
     "name": "stdout",
     "output_type": "stream",
     "text": [
      "CPU-time: 251.43  f95 -O0 formatted I/O\r\n",
      "CPU-time: 252.15   f95 -O0 formatted I/O\r\n",
      "CPU-time: 252.40   f95 -O2 formatted I/O\r\n",
      "CPU-time: 252.47   f95 -O1 formatted I/O\r\n",
      "CPU-time: 255.28   f95 -O0 formatted I/O\r\n",
      "CPU-time: 255.90   f95 -O0 formatted I/O\r\n",
      "CPU-time: 255.97   f95 -O0 formatted I/O\r\n"
     ]
    }
   ],
   "source": [
    "#Suppose we have a script that performs numerous efficiency tests. \n",
    "#The output from the script contains lots of information, but our purpose now is to extract information\n",
    "#about the CPU time of each test and sort these CPU times. The output from the tests takes the following form:\n",
    "output = \"\"\"\n",
    "f95 -c -O0  versions/main_wIO.f F77WAVE.f\n",
    "f95 -o app  -static main_wIO.o F77WAVE.o   -lf2c\n",
    "app < input > tmp.out\n",
    "CPU-time: 255.97   f95 -O0 formatted I/O\n",
    "f95 -c -O1  versions/main_wIO.f F77WAVE.f\n",
    "f95 -o app  -static main_wIO.o F77WAVE.o   -lf2c\n",
    "app < input > tmp.out\n",
    "CPU-time: 252.47   f95 -O1 formatted I/O\n",
    "f95 -c -O2  versions/main_wIO.f F77WAVE.f\n",
    "f95 -o app  -static main_wIO.o F77WAVE.o   -lf2c\n",
    "app < input > tmp.out\n",
    "CPU-time: 252.40   f95 -O2 formatted I/O\n",
    "f95 -c -O3  versions/main_wIO.f F77WAVE.f\n",
    "f95 -o app  -static main_wIO.o F77WAVE.o   -lf2c\n",
    "app < input > tmp.out\n",
    "CPU-time: 255.28   f95 -O0 formatted I/O\n",
    "f95 -c -O4  versions/main_wIO.f F77WAVE.f\n",
    "f95 -o app  -static main_wIO.o F77WAVE.o   -lf2c\n",
    "app < input > tmp.out\n",
    "CPU-time: 251.43  f95 -O0 formatted I/O\n",
    "f95 -c -O5  versions/main_wIO.f F77WAVE.f\n",
    "f95 -o app  -static main_wIO.o F77WAVE.o   -lf2c\n",
    "app < input > tmp.out\n",
    "CPU-time: 255.90   f95 -O0 formatted I/O\n",
    "f95 -c -O6  versions/main_wIO.f F77WAVE.f\n",
    "f95 -o app  -static main_wIO.o F77WAVE.o   -lf2c\n",
    "app < input > tmp.out\n",
    "CPU-time: 252.15   f95 -O0 formatted I/O\n",
    "\"\"\"\n",
    "\n",
    "#First we need to extract the lines starting with CPU-time. \n",
    "#Then we need to sort the extracted lines with respect to the CPU time, which is the number appearing in the second column. \n",
    "#Write a script to accomplish this task. \n",
    "\n",
    "#Hint: Find the lines with CPU time results by using a string comparison of the first 7 characters \n",
    "#to detect the keyword CPU-time. Then write a tailored sort function for sorting two lines \n",
    "#(extract the CPU time from the second column in both lines and compare the CPU times as floating-point numbers). \n",
    "#A tailored sort function takes two arguments a and b, which hold two list elements. \n",
    "#The sort function returns -1 if a is less than b, 1 if a is greater than b, and 0 otherwise (a equals b).\n",
    "\n",
    "!echo \"$output\" | grep \"^CPU-time:\" | sort -n -k2,2"
   ]
  },
  {
   "cell_type": "markdown",
   "metadata": {},
   "source": [
    "### Excercise 7:"
   ]
  },
  {
   "cell_type": "code",
   "execution_count": 9,
   "metadata": {
    "collapsed": false
   },
   "outputs": [
    {
     "name": "stdout",
     "output_type": "stream",
     "text": [
      "Please enter X: 2\n",
      "Please enter Y: 2\n",
      "cp: omitting directory `subdir2'\n"
     ]
    }
   ],
   "source": [
    "#Make a copy of your working directory along with its subdirectories and \n",
    "#write unix+python commands that traverses the copied working directory and its subdirectories (recursively) and returns a \n",
    "#list of all files that are larger than X Mb and that have not been accessed the last Y days, \n",
    "#where X and Y are passed as user inputs.\n",
    "#Include an option in this function that moves the files to a subdirectory trash under /tmp \n",
    "#(you need to create trash if it does not exist).\n",
    "\n",
    "X = raw_input(\"Please enter X: \")\n",
    "Y = raw_input(\"Please enter Y: \")\n",
    "!mkdir subdir2\n",
    "!cp * subdir2 \n",
    "!cd subdir2\n",
    "!find -size $X\"M\" -mtime -$Y -print\n",
    "#!find -size $X\"M\" -mtime -$Y -exec mv '{}' /tmp/trash/ \\;"
   ]
  },
  {
   "cell_type": "code",
   "execution_count": null,
   "metadata": {
    "collapsed": false
   },
   "outputs": [],
   "source": []
  }
 ],
 "metadata": {
  "kernelspec": {
   "display_name": "Python 2",
   "language": "python",
   "name": "python2"
  },
  "language_info": {
   "codemirror_mode": {
    "name": "ipython",
    "version": 2
   },
   "file_extension": ".py",
   "mimetype": "text/x-python",
   "name": "python",
   "nbconvert_exporter": "python",
   "pygments_lexer": "ipython2",
   "version": "2.7.11"
  }
 },
 "nbformat": 4,
 "nbformat_minor": 0
}
