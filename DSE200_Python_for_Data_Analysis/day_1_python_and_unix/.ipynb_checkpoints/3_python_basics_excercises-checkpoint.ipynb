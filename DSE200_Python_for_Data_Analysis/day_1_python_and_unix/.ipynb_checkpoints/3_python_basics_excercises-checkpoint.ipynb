{
 "cells": [
  {
   "cell_type": "markdown",
   "metadata": {},
   "source": [
    "### Excercises"
   ]
  },
  {
   "cell_type": "code",
   "execution_count": 2,
   "metadata": {
    "collapsed": false
   },
   "outputs": [
    {
     "name": "stdout",
     "output_type": "stream",
     "text": [
      "average: 237.538333333\n"
     ]
    }
   ],
   "source": [
    "import numpy as np\n",
    "# (1) Compute the average of a list of numbers. \n",
    "L=[23,32,121,22,1222.23,5]\n",
    "print 'average:', np.sum(L)/len(L)"
   ]
  },
  {
   "cell_type": "code",
   "execution_count": null,
   "metadata": {
    "collapsed": false
   },
   "outputs": [],
   "source": [
    "# (2) Compute the number of times each word occurs in the following text.\n",
    "# Transform all words to lower case. Output a list of\n",
    "#  word,count pairs, one pair per line sorted from highest to lowest count."
   ]
  },
  {
   "cell_type": "code",
   "execution_count": 13,
   "metadata": {
    "collapsed": false
   },
   "outputs": [
    {
     "name": "stdout",
     "output_type": "stream",
     "text": [
      "[(20, 'to'), (19, 'the'), (16, 'of'), (13, 'and'), (7, 'their'), (7, 'that'), (7, 'are'), (6, 'these'), (6, 'them'), (5, 'which'), (5, 'is'), (5, 'a'), (4, 'such'), (4, 'it'), (4, 'government'), (3, 'they'), (3, 'right'), (3, 'powers'), (3, 'be'), (3, 'among'), (3, 'all'), (2, 'with'), (2, 'usurpations'), (2, 'should'), (2, 'rights'), (2, 'object'), (2, 'new'), (2, 'men'), (2, 'mankind'), (2, 'long'), (2, 'its'), (2, 'in'), (2, 'history'), (2, 'governments'), (2, 'form'), (2, 'for'), (2, 'equal'), (2, 'causes'), (2, 'by'), (2, 'alter'), (2, 'absolute'), (1, 'world'), (1, 'will'), (1, 'while'), (1, 'whenever'), (1, 'when'), (1, 'we'), (1, 'under'), (1, 'unalienable'), (1, 'tyranny'), (1, 'truths'), (1, 'transient'), (1, 'train'), (1, 'throw'), (1, 'this'), (1, 'themselves'), (1, 'than'), (1, 'systems'), (1, 'sufferance'), (1, 'sufferable'), (1, 'suffer'), (1, 'submitted'), (1, 'station'), (1, 'states'), (1, 'shewn'), (1, 'shall'), (1, 'separation'), (1, 'separate'), (1, 'selfevident'), (1, 'seem'), (1, 'securitysuch'), (1, 'secure'), (1, 'same'), (1, 'safety'), (1, 'respect'), (1, 'requires'), (1, 'repeated'), (1, 'reduce'), (1, 'pursuit'), (1, 'pursuing'), (1, 'prudence'), (1, 'provide'), (1, 'prove'), (1, 'principles'), (1, 'present'), (1, 'people'), (1, 'patient'), (1, 'over'), (1, 'organizing'), (1, 'or'), (1, 'opinions'), (1, 'on'), (1, 'off'), (1, 'now'), (1, 'not'), (1, 'necessity'), (1, 'natures'), (1, 'nature'), (1, 'most'), (1, 'more'), (1, 'likely'), (1, 'light'), (1, 'life'), (1, 'liberty'), (1, 'let'), (1, 'laying'), (1, 'laws'), (1, 'king'), (1, 'just'), (1, 'invariably'), (1, 'instituted'), (1, 'institute'), (1, 'injuries'), (1, 'indeed'), (1, 'impel'), (1, 'hold'), (1, 'having'), (1, 'have'), (1, 'hath'), (1, 'has'), (1, 'happinessthat'), (1, 'happiness'), (1, 'guards'), (1, 'great'), (1, 'governed'), (1, 'god'), (1, 'future'), (1, 'from'), (1, 'foundation'), (1, 'forms'), (1, 'former'), (1, 'facts'), (1, 'experience'), (1, 'evinces'), (1, 'evils'), (1, 'establishment'), (1, 'established'), (1, 'entitle'), (1, 'ends'), (1, 'endowed'), (1, 'effect'), (1, 'earth'), (1, 'duty'), (1, 'disposed'), (1, 'direct'), (1, 'dictate'), (1, 'destructive'), (1, 'despotism'), (1, 'design'), (1, 'deriving'), (1, 'declare'), (1, 'decent'), (1, 'creator'), (1, 'created'), (1, 'constrains'), (1, 'consent'), (1, 'connected'), (1, 'colonies'), (1, 'changed'), (1, 'certain'), (1, 'candid'), (1, 'but'), (1, 'britain'), (1, 'been'), (1, 'becomes'), (1, 'bands'), (1, 'assume'), (1, 'as'), (1, 'any'), (1, 'another'), (1, 'an'), (1, 'accustomed'), (1, 'accordingly'), (1, 'abuses'), (1, 'abolishing'), (1, 'abolish')]\n"
     ]
    }
   ],
   "source": [
    "Text=\"\"\"\n",
    "bands which have connected them with another, and to assume among the\n",
    "powers of the earth, the separate and equal station to which the Laws\n",
    "of Nature and of Nature's God entitle them, a decent respect to the\n",
    "opinions of mankind requires that they should declare the causes which\n",
    "impel them to the separation.  We hold these truths to be\n",
    "self-evident, that all men are created equal, that they are endowed by\n",
    "their Creator with certain unalienable Rights, that among these are\n",
    "Life, Liberty and the pursuit of Happiness.--That to secure these\n",
    "rights, Governments are instituted among Men, deriving their just\n",
    "powers from the consent of the governed, --That whenever any Form of\n",
    "Government becomes destructive of these ends, it is the Right of the\n",
    "People to alter or to abolish it, and to institute new Government,\n",
    "laying its foundation on such principles and organizing its powers in\n",
    "such form, as to them shall seem most likely to effect their Safety\n",
    "and Happiness. Prudence, indeed, will dictate that Governments long\n",
    "established should not be changed for light and transient causes; and\n",
    "accordingly all experience hath shewn, that mankind are more disposed\n",
    "to suffer, while evils are sufferable, than to right themselves by\n",
    "abolishing the forms to which they are accustomed. But when a long\n",
    "train of abuses and usurpations, pursuing invariably the same Object\n",
    "evinces a design to reduce them under absolute Despotism, it is their\n",
    "right, it is their duty, to throw off such Government, and to provide\n",
    "new Guards for their future security.--Such has been the patient\n",
    "sufferance of these Colonies; and such is now the necessity which\n",
    "constrains them to alter their former Systems of Government. The\n",
    "history of the present King of Great Britain is a history of repeated\n",
    "injuries and usurpations, all having in direct object the\n",
    "establishment of an absolute Tyranny over these States. To prove this,\n",
    "let Facts be submitted to a candid world.\n",
    "\"\"\"\n",
    "\n",
    "import re\n",
    "# First, we replace the punctuations marks and lower()\n",
    "Text = re.sub('[-.;,\\']', '',Text).lower()\n",
    "Text_list = Text.split() # making each word into list\n",
    "d = {};\n",
    "\n",
    "# counting number of times word comes up in list of words (in dictioary)\n",
    "for item in Text_list: \n",
    "    d[item] = d.get(item, 0) + 1\n",
    "\n",
    "# this next bit of code reverses the key and values so they can be sorted\n",
    "# using tuples\n",
    "word_freq = []\n",
    "for key, value in d.items():\n",
    "    word_freq.append((value, key))\n",
    "word_freq.sort(reverse=True)\n",
    "print word_freq"
   ]
  },
  {
   "cell_type": "code",
   "execution_count": 18,
   "metadata": {
    "collapsed": false
   },
   "outputs": [
    {
     "name": "stdout",
     "output_type": "stream",
     "text": [
      "[(4, ('of', 'the')), (3, ('it', 'is')), (3, ('and', 'to')), (2, ('to', 'which')), (2, ('to', 'the')), (2, ('to', 'alter')), (2, ('they', 'are')), (2, ('them', 'to')), (2, ('that', 'they')), (2, ('of', 'these')), (2, ('of', 'government')), (2, ('is', 'their')), (2, ('history', 'of')), (2, ('and', 'usurpations')), (1, ('with', 'certain')), (1, ('with', 'another')), (1, ('will', 'dictate')), (1, ('while', 'evils')), (1, ('which', 'they')), (1, ('which', 'the')), (1, ('which', 'impel')), (1, ('which', 'have')), (1, ('which', 'constrains')), (1, ('whenever', 'any')), (1, ('when', 'a')), (1, ('we', 'hold')), (1, ('usurpations', 'pursuing')), (1, ('usurpations', 'all')), (1, ('under', 'absolute')), (1, ('unalienable', 'rights')), (1, ('tyranny', 'over')), (1, ('truths', 'to')), (1, ('transient', 'causes')), (1, ('train', 'of')), (1, ('to', 'throw')), (1, ('to', 'them')), (1, ('to', 'suffer')), (1, ('to', 'secure')), (1, ('to', 'right')), (1, ('to', 'reduce')), (1, ('to', 'provide')), (1, ('to', 'prove')), (1, ('to', 'institute')), (1, ('to', 'effect')), (1, ('to', 'be')), (1, ('to', 'assume')), (1, ('to', 'abolish')), (1, ('to', 'a')), (1, ('throw', 'off')), (1, ('this', 'let')), (1, ('they', 'should')), (1, ('these', 'truths')), (1, ('these', 'states')), (1, ('these', 'rights')), (1, ('these', 'ends')), (1, ('these', 'colonies')), (1, ('these', 'are')), (1, ('themselves', 'by')), (1, ('them', 'with')), (1, ('them', 'under')), (1, ('them', 'shall')), (1, ('them', 'a')), (1, ('their', 'safety')), (1, ('their', 'right')), (1, ('their', 'just')), (1, ('their', 'future')), (1, ('their', 'former')), (1, ('their', 'duty')), (1, ('their', 'creator')), (1, ('the', 'separation')), (1, ('the', 'separate')), (1, ('the', 'same')), (1, ('the', 'right')), (1, ('the', 'pursuit')), (1, ('the', 'present')), (1, ('the', 'powers')), (1, ('the', 'people')), (1, ('the', 'patient')), (1, ('the', 'opinions')), (1, ('the', 'necessity')), (1, ('the', 'laws')), (1, ('the', 'history')), (1, ('the', 'governed')), (1, ('the', 'forms')), (1, ('the', 'establishment')), (1, ('the', 'earth')), (1, ('the', 'consent')), (1, ('the', 'causes')), (1, ('that', 'whenever')), (1, ('that', 'mankind')), (1, ('that', 'governments')), (1, ('that', 'among')), (1, ('that', 'all')), (1, ('than', 'to')), (1, ('systems', 'of')), (1, ('sufferance', 'of')), (1, ('sufferable', 'than')), (1, ('suffer', 'while')), (1, ('such', 'principles')), (1, ('such', 'is')), (1, ('such', 'government')), (1, ('such', 'form')), (1, ('submitted', 'to')), (1, ('station', 'to')), (1, ('states', 'to')), (1, ('should', 'not')), (1, ('should', 'declare')), (1, ('shewn', 'that')), (1, ('shall', 'seem')), (1, ('separation', 'we')), (1, ('separate', 'and')), (1, ('selfevident', 'that')), (1, ('seem', 'most')), (1, ('securitysuch', 'has')), (1, ('secure', 'these')), (1, ('same', 'object')), (1, ('safety', 'and')), (1, ('rights', 'that')), (1, ('rights', 'governments')), (1, ('right', 'themselves')), (1, ('right', 'of')), (1, ('right', 'it')), (1, ('respect', 'to')), (1, ('requires', 'that')), (1, ('repeated', 'injuries')), (1, ('reduce', 'them')), (1, ('pursuit', 'of')), (1, ('pursuing', 'invariably')), (1, ('prudence', 'indeed')), (1, ('provide', 'new')), (1, ('prove', 'this')), (1, ('principles', 'and')), (1, ('present', 'king')), (1, ('powers', 'of')), (1, ('powers', 'in')), (1, ('powers', 'from')), (1, ('people', 'to')), (1, ('patient', 'sufferance')), (1, ('over', 'these')), (1, ('organizing', 'its')), (1, ('or', 'to')), (1, ('opinions', 'of')), (1, ('on', 'such')), (1, ('off', 'such')), (1, ('of', 'repeated')), (1, ('of', 'natures')), (1, ('of', 'nature')), (1, ('of', 'mankind')), (1, ('of', 'happinessthat')), (1, ('of', 'great')), (1, ('of', 'an')), (1, ('of', 'abuses')), (1, ('object', 'the')), (1, ('object', 'evinces')), (1, ('now', 'the')), (1, ('not', 'be')), (1, ('new', 'guards')), (1, ('new', 'government')), (1, ('necessity', 'which')), (1, ('natures', 'god')), (1, ('nature', 'and')), (1, ('most', 'likely')), (1, ('more', 'disposed')), (1, ('men', 'deriving')), (1, ('men', 'are')), (1, ('mankind', 'requires')), (1, ('mankind', 'are')), (1, ('long', 'train')), (1, ('long', 'established')), (1, ('likely', 'to')), (1, ('light', 'and')), (1, ('life', 'liberty')), (1, ('liberty', 'and')), (1, ('let', 'facts')), (1, ('laying', 'its')), (1, ('laws', 'of')), (1, ('king', 'of')), (1, ('just', 'powers')), (1, ('its', 'powers')), (1, ('its', 'foundation')), (1, ('it', 'and')), (1, ('is', 'the')), (1, ('is', 'now')), (1, ('is', 'a')), (1, ('invariably', 'the')), (1, ('instituted', 'among')), (1, ('institute', 'new')), (1, ('injuries', 'and')), (1, ('indeed', 'will')), (1, ('in', 'such')), (1, ('in', 'direct')), (1, ('impel', 'them')), (1, ('hold', 'these')), (1, ('having', 'in')), (1, ('have', 'connected')), (1, ('hath', 'shewn')), (1, ('has', 'been')), (1, ('happinessthat', 'to')), (1, ('happiness', 'prudence')), (1, ('guards', 'for')), (1, ('great', 'britain')), (1, ('governments', 'long')), (1, ('governments', 'are')), (1, ('government', 'the')), (1, ('government', 'laying')), (1, ('government', 'becomes')), (1, ('government', 'and')), (1, ('governed', 'that')), (1, ('god', 'entitle')), (1, ('future', 'securitysuch')), (1, ('from', 'the')), (1, ('foundation', 'on')), (1, ('forms', 'to')), (1, ('former', 'systems')), (1, ('form', 'of')), (1, ('form', 'as')), (1, ('for', 'their')), (1, ('for', 'light')), (1, ('facts', 'be')), (1, ('experience', 'hath')), (1, ('evinces', 'a')), (1, ('evils', 'are')), (1, ('establishment', 'of')), (1, ('established', 'should')), (1, ('equal', 'that')), (1, ('equal', 'station')), (1, ('entitle', 'them')), (1, ('ends', 'it')), (1, ('endowed', 'by')), (1, ('effect', 'their')), (1, ('earth', 'the')), (1, ('duty', 'to')), (1, ('disposed', 'to')), (1, ('direct', 'object')), (1, ('dictate', 'that')), (1, ('destructive', 'of')), (1, ('despotism', 'it')), (1, ('design', 'to')), (1, ('deriving', 'their')), (1, ('declare', 'the')), (1, ('decent', 'respect')), (1, ('creator', 'with')), (1, ('created', 'equal')), (1, ('constrains', 'them')), (1, ('consent', 'of')), (1, ('connected', 'them')), (1, ('colonies', 'and')), (1, ('changed', 'for')), (1, ('certain', 'unalienable')), (1, ('causes', 'which')), (1, ('causes', 'and')), (1, ('candid', 'world')), (1, ('by', 'their')), (1, ('by', 'abolishing')), (1, ('but', 'when')), (1, ('britain', 'is')), (1, ('been', 'the')), (1, ('becomes', 'destructive')), (1, ('be', 'submitted')), (1, ('be', 'selfevident')), (1, ('be', 'changed')), (1, ('bands', 'which')), (1, ('assume', 'among')), (1, ('as', 'to')), (1, ('are', 'sufferable')), (1, ('are', 'more')), (1, ('are', 'life')), (1, ('are', 'instituted')), (1, ('are', 'endowed')), (1, ('are', 'created')), (1, ('are', 'accustomed')), (1, ('any', 'form')), (1, ('another', 'and')), (1, ('and', 'transient')), (1, ('and', 'the')), (1, ('and', 'such')), (1, ('and', 'organizing')), (1, ('and', 'of')), (1, ('and', 'happiness')), (1, ('and', 'equal')), (1, ('and', 'accordingly')), (1, ('an', 'absolute')), (1, ('among', 'these')), (1, ('among', 'the')), (1, ('among', 'men')), (1, ('alter', 'their')), (1, ('alter', 'or')), (1, ('all', 'men')), (1, ('all', 'having')), (1, ('all', 'experience')), (1, ('accustomed', 'but')), (1, ('accordingly', 'all')), (1, ('abuses', 'and')), (1, ('absolute', 'tyranny')), (1, ('absolute', 'despotism')), (1, ('abolishing', 'the')), (1, ('abolish', 'it')), (1, ('a', 'long')), (1, ('a', 'history')), (1, ('a', 'design')), (1, ('a', 'decent')), (1, ('a', 'candid'))]\n"
     ]
    }
   ],
   "source": [
    "# (3) same as 2, but instead of single words, count the number of occurances of **word pairs** i.e.\n",
    "# ('bands','which'),('which','have'),...\n",
    "\n",
    "import re\n",
    "# First, we replace the punctuations marks and lower()\n",
    "Text = re.sub('[-.;,\\']', '',Text).lower()\n",
    "Text_list = Text.split() # making each word into list\n",
    "\n",
    "d = {} # one thing I love about dictionaries is tuples can be keys. \n",
    "\n",
    "for i in zip(Text_list[:-1], Text_list[1:]):\n",
    "    d[i] = d.get(i, 0) + 1\n",
    "\n",
    "sortable_list = []\n",
    "for key, value in d.items():\n",
    "    sortable_list.append((value,key));\n",
    "sortable_list.sort(reverse = True)\n",
    "\n",
    "print sortable_list"
   ]
  },
  {
   "cell_type": "markdown",
   "metadata": {},
   "source": [
    "(4) For the list `l =  [ 6, -5, 3, -2, 0, 8, -9, -7 ]`, return the numbers which are greater than the average (of these numbers)"
   ]
  },
  {
   "cell_type": "code",
   "execution_count": 22,
   "metadata": {
    "collapsed": false
   },
   "outputs": [
    {
     "name": "stdout",
     "output_type": "stream",
     "text": [
      "[6, 3, 0, 8] -0.75\n"
     ]
    }
   ],
   "source": [
    "l =  [ 6, -5, 3, -2, 0, 8, -9, -7 ]\n",
    "\n",
    "import numpy as np\n",
    "average = sum(l)/float(len(l));\n",
    "num_above_average = [x for x in l if x > average]\n",
    "print num_above_average, average"
   ]
  },
  {
   "cell_type": "markdown",
   "metadata": {},
   "source": [
    "(5) for the tuples (2, 5, 3, 7, 10, 20, 54, 89) and (15, 16, 3, 37, 54, 21, 20, 5) return a sorted tuple that contains\n",
    "only the elements common to both the tuples (use sets)"
   ]
  },
  {
   "cell_type": "code",
   "execution_count": 23,
   "metadata": {
    "collapsed": false
   },
   "outputs": [
    {
     "name": "stdout",
     "output_type": "stream",
     "text": [
      "(3, 20, 5, 54)\n"
     ]
    }
   ],
   "source": [
    "s1 = set((2, 5, 3, 7, 10, 20, 54, 89));\n",
    "s2 = set((15, 16, 3, 37, 54, 21, 20, 5));\n",
    "\n",
    "# if you dont know what an intersection is, please see my DSE210 repository assignment 1\n",
    "common_elements = tuple(set.intersection(s1, s2))\n",
    "print common_elements"
   ]
  },
  {
   "cell_type": "markdown",
   "metadata": {},
   "source": [
    "(6) calculate the average word length for the text\n",
    "\n",
    "> TEXT =\n",
    "> On a dark desert highway, cool wind in my hair\n",
    "> Warm smell of colitas, rising up through the air\n",
    "> Up ahead in the distance, I saw a shimmering light\n",
    "> My head grew heavy and my sight grew dim\n",
    "> I had to stop for the night\n",
    "> There she stood in the doorway;\n",
    "> I heard the mission bell\n",
    "> And I was thinking to myself,\n",
    "> \"This could be Heaven or this could be Hell\"\n",
    "> Then she lit up a candle and she showed me the way\n",
    "> \n",
    "\n",
    "Average word length is the sum of all the lengths of the word tokens in the text, divided by the number of word tokens\n"
   ]
  },
  {
   "cell_type": "code",
   "execution_count": 24,
   "metadata": {
    "collapsed": false
   },
   "outputs": [
    {
     "name": "stdout",
     "output_type": "stream",
     "text": [
      "3.80722891566\n"
     ]
    }
   ],
   "source": [
    "TEXT = '''On a dark desert highway, cool wind in my hair Warm smell of colitas, rising up through the air Up ahead in the distance, I saw a shimmering light My head grew heavy and my sight grew dim I had to stop for the night There she stood in the doorway; I heard the mission bell And I was thinking to myself, \"This could be Heaven or this could be Hell\" Then she lit up a candle and she showed me the way'''\n",
    "\n",
    "import re\n",
    "import numpy as np\n",
    "\n",
    "#First removing punctuation, no need to re (instead use a string method), but I like using it \n",
    "clean_text = re.sub('[,.\\\";.]', '', TEXT)\n",
    "\n",
    "word_list = TEXT.split()\n",
    "average_length = np.sum([len(x) for x in word_list]) / (float(len(word_list)))\n",
    "print average_length"
   ]
  },
  {
   "cell_type": "markdown",
   "metadata": {},
   "source": [
    "(7) Using the same text as in the last one, remove all punctuation and output the words in sorted alphabetical order. Save this output as a CSV file with each word separated from the other by the delimiter(comma)."
   ]
  },
  {
   "cell_type": "code",
   "execution_count": 5,
   "metadata": {
    "collapsed": false
   },
   "outputs": [
    {
     "name": "stdout",
     "output_type": "stream",
     "text": [
      "a,a,a,ahead,air,and,and,and,be,be,bell,candle,colitas,cool,could,could,dark,desert,dim,distance,doorway,for,grew,grew,had,hair,head,heard,heaven,heavy,hell,highway,i,i,i,i,in,in,in,light,lit,me,mission,my,my,my,myself,night,of,on,or,rising,saw,she,she,she,shimmering,showed,sight,smell,stood,stop,the,the,the,the,the,the,then,there,thinking,this,this,through,to,to,up,up,up,warm,was,way,wind"
     ]
    }
   ],
   "source": [
    "TEXT = '''On a dark desert highway, cool wind in my hair Warm smell of colitas, rising up through the air Up ahead in the distance, I saw a shimmering light My head grew heavy and my sight grew dim I had to stop for the night There she stood in the doorway; I heard the mission bell And I was thinking to myself, \"This could be Heaven or this could be Hell\" Then she lit up a candle and she showed me the way'''\n",
    "\n",
    "import re\n",
    "import numpy as np\n",
    "\n",
    "#First removing punctuation, no need to re (instead use a string method), but I like using it \n",
    "clean_text = re.sub(r'[,.\\\";.]', '', TEXT)\n",
    "\n",
    "# sorting algorithms treat lowercase different than uppercase\n",
    "word_list = clean_text.lower().split() \n",
    "word_list.sort()\n",
    "csv_data = ','.join(word_list)\n",
    "csv_file = open('hw1_7','w')\n",
    "csv_file.write(csv_data)\n",
    "csv_file.close\n",
    "!cat hw1_7\n"
   ]
  },
  {
   "cell_type": "markdown",
   "metadata": {},
   "source": [
    "(8) Read the text from the above separated csv file and return a dictionary of (letter:count) pair\n",
    "that counts the number of times each letter appears in that line."
   ]
  },
  {
   "cell_type": "code",
   "execution_count": 10,
   "metadata": {
    "collapsed": false
   },
   "outputs": [
    {
     "data": {
      "text/plain": [
       "{'a': 25,\n",
       " 'b': 3,\n",
       " 'c': 6,\n",
       " 'd': 18,\n",
       " 'e': 33,\n",
       " 'f': 3,\n",
       " 'g': 10,\n",
       " 'h': 31,\n",
       " 'i': 28,\n",
       " 'k': 2,\n",
       " 'l': 14,\n",
       " 'm': 11,\n",
       " 'n': 18,\n",
       " 'o': 19,\n",
       " 'p': 4,\n",
       " 'r': 15,\n",
       " 's': 20,\n",
       " 't': 23,\n",
       " 'u': 6,\n",
       " 'v': 2,\n",
       " 'w': 10,\n",
       " 'y': 8}"
      ]
     },
     "execution_count": 10,
     "metadata": {},
     "output_type": "execute_result"
    }
   ],
   "source": [
    "import re\n",
    "\n",
    "d = {}\n",
    "total_string = ''\n",
    "with open('hw1_7', 'r') as file:\n",
    "    for line in file:\n",
    "        total_string += re.sub(',', '',line)\n",
    "    for letter in total_string:\n",
    "        d[letter] = d.get(letter, 0) + 1\n",
    "d"
   ]
  },
  {
   "cell_type": "code",
   "execution_count": 13,
   "metadata": {
    "collapsed": false
   },
   "outputs": [
    {
     "name": "stdout",
     "output_type": "stream",
     "text": [
      "False\n",
      "True\n"
     ]
    }
   ],
   "source": [
    "#(9) Take as an input an array of integers, and return true if the array contains a 5 immediately after another 5 \n",
    "#somewhere.\n",
    "A=[1,5,1,6,5,3,5,2]\n",
    "B=[1,2,3,4,5,5,6,7,8,9]\n",
    "\n",
    "def find_double_5(integers):\n",
    "    a = None\n",
    "    for integer in integers:\n",
    "        if a == integer:\n",
    "            return True\n",
    "        a = integer\n",
    "    return False\n",
    "print find_double_5(A)\n",
    "print find_double_5(B)"
   ]
  },
  {
   "cell_type": "markdown",
   "metadata": {},
   "source": [
    "(10) Write  a program that takes in a positive number (in some variable, say `i`) and computes the sum of all the number\n",
    "between 0 and that number (inclusive). \n",
    "\n",
    "* Do it using a for loop\n",
    "* Do it in one line using the function `sum` and list comprehension."
   ]
  },
  {
   "cell_type": "code",
   "execution_count": 16,
   "metadata": {
    "collapsed": false
   },
   "outputs": [
    {
     "data": {
      "text/plain": [
       "15"
      ]
     },
     "execution_count": 16,
     "metadata": {},
     "output_type": "execute_result"
    }
   ],
   "source": [
    "#(11) for the text in file BrownNews.txt (~/DSE200/data/NLTK/BrownNews.txt), \n",
    "#find the distribution of the second letter in each word.\n",
    "\n",
    "def number_sum(chosen_num):\n",
    "    total = 0; \n",
    "    total = sum([i for i in xrange(chosen_num+1)])\n",
    "    return total\n",
    "\n",
    "number_sum(5)"
   ]
  },
  {
   "cell_type": "markdown",
   "metadata": {},
   "source": [
    "(12) write a program to find solutions of the 8 queen problem.\n",
    ">The eight queens problem is the problem of placing eight queens on an 8×8 chessboard such that none of them attack one >another (no two are in the same row, column, or diagonal). Below is one of the arrangements of an 8 queen solution"
   ]
  },
  {
   "cell_type": "markdown",
   "metadata": {},
   "source": [
    "<img src=\"8queen.jpg\">"
   ]
  },
  {
   "cell_type": "markdown",
   "metadata": {},
   "source": [
    "(13) Write a program to make a list of all prime numbers less than 3000. A prime number can only be divided evenly by 1 and itself."
   ]
  },
  {
   "cell_type": "code",
   "execution_count": 22,
   "metadata": {
    "collapsed": false
   },
   "outputs": [
    {
     "data": {
      "text/plain": [
       "[2,\n",
       " 3,\n",
       " 5,\n",
       " 7,\n",
       " 11,\n",
       " 13,\n",
       " 17,\n",
       " 19,\n",
       " 23,\n",
       " 29,\n",
       " 31,\n",
       " 37,\n",
       " 41,\n",
       " 43,\n",
       " 47,\n",
       " 53,\n",
       " 59,\n",
       " 61,\n",
       " 67,\n",
       " 71,\n",
       " 73,\n",
       " 79,\n",
       " 83,\n",
       " 89,\n",
       " 97,\n",
       " 101,\n",
       " 103,\n",
       " 107,\n",
       " 109,\n",
       " 113,\n",
       " 127,\n",
       " 131,\n",
       " 137,\n",
       " 139,\n",
       " 149,\n",
       " 151,\n",
       " 157,\n",
       " 163,\n",
       " 167,\n",
       " 173,\n",
       " 179,\n",
       " 181,\n",
       " 191,\n",
       " 193,\n",
       " 197,\n",
       " 199,\n",
       " 211,\n",
       " 223,\n",
       " 227,\n",
       " 229,\n",
       " 233,\n",
       " 239,\n",
       " 241,\n",
       " 251,\n",
       " 257,\n",
       " 263,\n",
       " 269,\n",
       " 271,\n",
       " 277,\n",
       " 281,\n",
       " 283,\n",
       " 293,\n",
       " 307,\n",
       " 311,\n",
       " 313,\n",
       " 317,\n",
       " 331,\n",
       " 337,\n",
       " 347,\n",
       " 349,\n",
       " 353,\n",
       " 359,\n",
       " 367,\n",
       " 373,\n",
       " 379,\n",
       " 383,\n",
       " 389,\n",
       " 397,\n",
       " 401,\n",
       " 409,\n",
       " 419,\n",
       " 421,\n",
       " 431,\n",
       " 433,\n",
       " 439,\n",
       " 443,\n",
       " 449,\n",
       " 457,\n",
       " 461,\n",
       " 463,\n",
       " 467,\n",
       " 479,\n",
       " 487,\n",
       " 491,\n",
       " 499,\n",
       " 503,\n",
       " 509,\n",
       " 521,\n",
       " 523,\n",
       " 541,\n",
       " 547,\n",
       " 557,\n",
       " 563,\n",
       " 569,\n",
       " 571,\n",
       " 577,\n",
       " 587,\n",
       " 593,\n",
       " 599,\n",
       " 601,\n",
       " 607,\n",
       " 613,\n",
       " 617,\n",
       " 619,\n",
       " 631,\n",
       " 641,\n",
       " 643,\n",
       " 647,\n",
       " 653,\n",
       " 659,\n",
       " 661,\n",
       " 673,\n",
       " 677,\n",
       " 683,\n",
       " 691,\n",
       " 701,\n",
       " 709,\n",
       " 719,\n",
       " 727,\n",
       " 733,\n",
       " 739,\n",
       " 743,\n",
       " 751,\n",
       " 757,\n",
       " 761,\n",
       " 769,\n",
       " 773,\n",
       " 787,\n",
       " 797,\n",
       " 809,\n",
       " 811,\n",
       " 821,\n",
       " 823,\n",
       " 827,\n",
       " 829,\n",
       " 839,\n",
       " 853,\n",
       " 857,\n",
       " 859,\n",
       " 863,\n",
       " 877,\n",
       " 881,\n",
       " 883,\n",
       " 887,\n",
       " 907,\n",
       " 911,\n",
       " 919,\n",
       " 929,\n",
       " 937,\n",
       " 941,\n",
       " 947,\n",
       " 953,\n",
       " 967,\n",
       " 971,\n",
       " 977,\n",
       " 983,\n",
       " 991,\n",
       " 997,\n",
       " 1009,\n",
       " 1013,\n",
       " 1019,\n",
       " 1021,\n",
       " 1031,\n",
       " 1033,\n",
       " 1039,\n",
       " 1049,\n",
       " 1051,\n",
       " 1061,\n",
       " 1063,\n",
       " 1069,\n",
       " 1087,\n",
       " 1091,\n",
       " 1093,\n",
       " 1097,\n",
       " 1103,\n",
       " 1109,\n",
       " 1117,\n",
       " 1123,\n",
       " 1129,\n",
       " 1151,\n",
       " 1153,\n",
       " 1163,\n",
       " 1171,\n",
       " 1181,\n",
       " 1187,\n",
       " 1193,\n",
       " 1201,\n",
       " 1213,\n",
       " 1217,\n",
       " 1223,\n",
       " 1229,\n",
       " 1231,\n",
       " 1237,\n",
       " 1249,\n",
       " 1259,\n",
       " 1277,\n",
       " 1279,\n",
       " 1283,\n",
       " 1289,\n",
       " 1291,\n",
       " 1297,\n",
       " 1301,\n",
       " 1303,\n",
       " 1307,\n",
       " 1319,\n",
       " 1321,\n",
       " 1327,\n",
       " 1361,\n",
       " 1367,\n",
       " 1373,\n",
       " 1381,\n",
       " 1399,\n",
       " 1409,\n",
       " 1423,\n",
       " 1427,\n",
       " 1429,\n",
       " 1433,\n",
       " 1439,\n",
       " 1447,\n",
       " 1451,\n",
       " 1453,\n",
       " 1459,\n",
       " 1471,\n",
       " 1481,\n",
       " 1483,\n",
       " 1487,\n",
       " 1489,\n",
       " 1493,\n",
       " 1499,\n",
       " 1511,\n",
       " 1523,\n",
       " 1531,\n",
       " 1543,\n",
       " 1549,\n",
       " 1553,\n",
       " 1559,\n",
       " 1567,\n",
       " 1571,\n",
       " 1579,\n",
       " 1583,\n",
       " 1597,\n",
       " 1601,\n",
       " 1607,\n",
       " 1609,\n",
       " 1613,\n",
       " 1619,\n",
       " 1621,\n",
       " 1627,\n",
       " 1637,\n",
       " 1657,\n",
       " 1663,\n",
       " 1667,\n",
       " 1669,\n",
       " 1693,\n",
       " 1697,\n",
       " 1699,\n",
       " 1709,\n",
       " 1721,\n",
       " 1723,\n",
       " 1733,\n",
       " 1741,\n",
       " 1747,\n",
       " 1753,\n",
       " 1759,\n",
       " 1777,\n",
       " 1783,\n",
       " 1787,\n",
       " 1789,\n",
       " 1801,\n",
       " 1811,\n",
       " 1823,\n",
       " 1831,\n",
       " 1847,\n",
       " 1861,\n",
       " 1867,\n",
       " 1871,\n",
       " 1873,\n",
       " 1877,\n",
       " 1879,\n",
       " 1889,\n",
       " 1901,\n",
       " 1907,\n",
       " 1913,\n",
       " 1931,\n",
       " 1933,\n",
       " 1949,\n",
       " 1951,\n",
       " 1973,\n",
       " 1979,\n",
       " 1987,\n",
       " 1993,\n",
       " 1997,\n",
       " 1999,\n",
       " 2003,\n",
       " 2011,\n",
       " 2017,\n",
       " 2027,\n",
       " 2029,\n",
       " 2039,\n",
       " 2053,\n",
       " 2063,\n",
       " 2069,\n",
       " 2081,\n",
       " 2083,\n",
       " 2087,\n",
       " 2089,\n",
       " 2099,\n",
       " 2111,\n",
       " 2113,\n",
       " 2129,\n",
       " 2131,\n",
       " 2137,\n",
       " 2141,\n",
       " 2143,\n",
       " 2153,\n",
       " 2161,\n",
       " 2179,\n",
       " 2203,\n",
       " 2207,\n",
       " 2213,\n",
       " 2221,\n",
       " 2237,\n",
       " 2239,\n",
       " 2243,\n",
       " 2251,\n",
       " 2267,\n",
       " 2269,\n",
       " 2273,\n",
       " 2281,\n",
       " 2287,\n",
       " 2293,\n",
       " 2297,\n",
       " 2309,\n",
       " 2311,\n",
       " 2333,\n",
       " 2339,\n",
       " 2341,\n",
       " 2347,\n",
       " 2351,\n",
       " 2357,\n",
       " 2371,\n",
       " 2377,\n",
       " 2381,\n",
       " 2383,\n",
       " 2389,\n",
       " 2393,\n",
       " 2399,\n",
       " 2411,\n",
       " 2417,\n",
       " 2423,\n",
       " 2437,\n",
       " 2441,\n",
       " 2447,\n",
       " 2459,\n",
       " 2467,\n",
       " 2473,\n",
       " 2477,\n",
       " 2503,\n",
       " 2521,\n",
       " 2531,\n",
       " 2539,\n",
       " 2543,\n",
       " 2549,\n",
       " 2551,\n",
       " 2557,\n",
       " 2579,\n",
       " 2591,\n",
       " 2593,\n",
       " 2609,\n",
       " 2617,\n",
       " 2621,\n",
       " 2633,\n",
       " 2647,\n",
       " 2657,\n",
       " 2659,\n",
       " 2663,\n",
       " 2671,\n",
       " 2677,\n",
       " 2683,\n",
       " 2687,\n",
       " 2689,\n",
       " 2693,\n",
       " 2699,\n",
       " 2707,\n",
       " 2711,\n",
       " 2713,\n",
       " 2719,\n",
       " 2729,\n",
       " 2731,\n",
       " 2741,\n",
       " 2749,\n",
       " 2753,\n",
       " 2767,\n",
       " 2777,\n",
       " 2789,\n",
       " 2791,\n",
       " 2797,\n",
       " 2801,\n",
       " 2803,\n",
       " 2819,\n",
       " 2833,\n",
       " 2837,\n",
       " 2843,\n",
       " 2851,\n",
       " 2857,\n",
       " 2861,\n",
       " 2879,\n",
       " 2887,\n",
       " 2897,\n",
       " 2903,\n",
       " 2909,\n",
       " 2917,\n",
       " 2927,\n",
       " 2939,\n",
       " 2953,\n",
       " 2957,\n",
       " 2963,\n",
       " 2969,\n",
       " 2971,\n",
       " 2999]"
      ]
     },
     "execution_count": 22,
     "metadata": {},
     "output_type": "execute_result"
    }
   ],
   "source": [
    "primes = [];\n",
    "Prime = True;\n",
    "\n",
    "for x in range (2, 3001):\n",
    "    for y in range(2, int(x ** 0.5) + 1):\n",
    "\n",
    "        if x % y == 0:\n",
    "            Prime = False;\n",
    "            break;\n",
    "        else:\n",
    "            Prime = True\n",
    "    if Prime:\n",
    "        primes.append(x)\n",
    "\n",
    "primes"
   ]
  },
  {
   "cell_type": "markdown",
   "metadata": {},
   "source": [
    "(14) Solve the above problem using Set instead of List "
   ]
  },
  {
   "cell_type": "code",
   "execution_count": 24,
   "metadata": {
    "collapsed": false,
    "scrolled": true
   },
   "outputs": [
    {
     "name": "stdout",
     "output_type": "stream",
     "text": [
      "[2, 3, 5, 7, 11, 13, 17, 19, 23, 29, 31, 37, 41, 43, 47, 53, 59, 61, 67, 71, 73, 79, 83, 89, 97, 101, 103, 107, 109, 113, 127, 131, 137, 139, 149, 151, 157, 163, 167, 173, 179, 181, 191, 193, 197, 199, 211, 223, 227, 229, 233, 239, 241, 251, 257, 263, 269, 271, 277, 281, 283, 293, 307, 311, 313, 317, 331, 337, 347, 349, 353, 359, 367, 373, 379, 383, 389, 397, 401, 409, 419, 421, 431, 433, 439, 443, 449, 457, 461, 463, 467, 479, 487, 491, 499, 503, 509, 521, 523, 541, 547, 557, 563, 569, 571, 577, 587, 593, 599, 601, 607, 613, 617, 619, 631, 641, 643, 647, 653, 659, 661, 673, 677, 683, 691, 701, 709, 719, 727, 733, 739, 743, 751, 757, 761, 769, 773, 787, 797, 809, 811, 821, 823, 827, 829, 839, 853, 857, 859, 863, 877, 881, 883, 887, 907, 911, 919, 929, 937, 941, 947, 953, 967, 971, 977, 983, 991, 997, 1009, 1013, 1019, 1021, 1031, 1033, 1039, 1049, 1051, 1061, 1063, 1069, 1087, 1091, 1093, 1097, 1103, 1109, 1117, 1123, 1129, 1151, 1153, 1163, 1171, 1181, 1187, 1193, 1201, 1213, 1217, 1223, 1229, 1231, 1237, 1249, 1259, 1277, 1279, 1283, 1289, 1291, 1297, 1301, 1303, 1307, 1319, 1321, 1327, 1361, 1367, 1373, 1381, 1399, 1409, 1423, 1427, 1429, 1433, 1439, 1447, 1451, 1453, 1459, 1471, 1481, 1483, 1487, 1489, 1493, 1499, 1511, 1523, 1531, 1543, 1549, 1553, 1559, 1567, 1571, 1579, 1583, 1597, 1601, 1607, 1609, 1613, 1619, 1621, 1627, 1637, 1657, 1663, 1667, 1669, 1693, 1697, 1699, 1709, 1721, 1723, 1733, 1741, 1747, 1753, 1759, 1777, 1783, 1787, 1789, 1801, 1811, 1823, 1831, 1847, 1861, 1867, 1871, 1873, 1877, 1879, 1889, 1901, 1907, 1913, 1931, 1933, 1949, 1951, 1973, 1979, 1987, 1993, 1997, 1999, 2003, 2011, 2017, 2027, 2029, 2039, 2053, 2063, 2069, 2081, 2083, 2087, 2089, 2099, 2111, 2113, 2129, 2131, 2137, 2141, 2143, 2153, 2161, 2179, 2203, 2207, 2213, 2221, 2237, 2239, 2243, 2251, 2267, 2269, 2273, 2281, 2287, 2293, 2297, 2309, 2311, 2333, 2339, 2341, 2347, 2351, 2357, 2371, 2377, 2381, 2383, 2389, 2393, 2399, 2411, 2417, 2423, 2437, 2441, 2447, 2459, 2467, 2473, 2477, 2503, 2521, 2531, 2539, 2543, 2549, 2551, 2557, 2579, 2591, 2593, 2609, 2617, 2621, 2633, 2647, 2657, 2659, 2663, 2671, 2677, 2683, 2687, 2689, 2693, 2699, 2707, 2711, 2713, 2719, 2729, 2731, 2741, 2749, 2753, 2767, 2777, 2789, 2791, 2797, 2801, 2803, 2819, 2833, 2837, 2843, 2851, 2857, 2861, 2879, 2887, 2897, 2903, 2909, 2917, 2927, 2939, 2953, 2957, 2963, 2969, 2971, 2999]\n"
     ]
    }
   ],
   "source": [
    "primes = []\n",
    "candidates = set(range(2,3000))\n",
    "while len(candidates) > 0:\n",
    "    prime = min(candidates)\n",
    "    primes.append(prime)\n",
    "    candidates.remove(prime)\n",
    "    dropSet = set()\n",
    "    for x in candidates:\n",
    "        if (x%prime) == 0:\n",
    "            dropSet.add(x)\n",
    "    candidates = candidates.difference(dropSet)\n",
    "print primes"
   ]
  },
  {
   "cell_type": "code",
   "execution_count": null,
   "metadata": {
    "collapsed": true
   },
   "outputs": [],
   "source": []
  }
 ],
 "metadata": {
  "kernelspec": {
   "display_name": "Python 2",
   "language": "python",
   "name": "python2"
  },
  "language_info": {
   "codemirror_mode": {
    "name": "ipython",
    "version": 2
   },
   "file_extension": ".py",
   "mimetype": "text/x-python",
   "name": "python",
   "nbconvert_exporter": "python",
   "pygments_lexer": "ipython2",
   "version": "2.7.11"
  }
 },
 "nbformat": 4,
 "nbformat_minor": 0
}
