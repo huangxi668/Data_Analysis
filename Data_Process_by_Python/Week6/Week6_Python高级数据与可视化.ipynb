{
 "cells": [
  {
   "cell_type": "markdown",
   "metadata": {},
   "source": [
    "# 6Python高级数据与可视化\n",
    "# Advanced Data Processing and Visualization of Python\n",
    "#### Anaconda2 _4.0.0版本\n",
    "## 6.1聚类分析\n",
    "* 聚类分析(cluster analysis)\n",
    " 以相似性为基础把相似的对象通过静态分类的方法分成不同的组别或者更多的子集  \n",
    " 特性：基于相似性；有多个聚类中心  \n",
    "* K-MEANS\n",
    " K-均值算法表示以空间中k个点为中心进行聚类，对最靠近他们的对象归类"
   ]
  },
  {
   "cell_type": "code",
   "execution_count": 5,
   "metadata": {
    "collapsed": false
   },
   "outputs": [
    {
     "name": "stdout",
     "output_type": "stream",
     "text": [
      "[[  88.   74.   96.   85.]\n",
      " [  92.   99.   95.   94.]\n",
      " [  91.   87.   99.   95.]\n",
      " [  78.   99.   97.   81.]\n",
      " [  88.   78.   98.   84.]\n",
      " [ 100.   95.  100.   92.]]\n",
      "[0 1 1 1 0 1]\n"
     ]
    }
   ],
   "source": [
    "#K-均值算法\n",
    "#      高数 英语 Python 音乐\n",
    "#小明  88   64    96    85\n",
    "#大明  92   99    95   94\n",
    "#小朋  91   87   99   95\n",
    "#大朋  78  99    97   81\n",
    "#小萌  88  78    98   84\n",
    "#大萌 100  95  100   92\n",
    "#\n",
    "from pylab import *\n",
    "from scipy.cluster.vq import *\n",
    "list1 = [88.0,74.0,96.0,85.0]\n",
    "list2 = [92.0,99.0,95.0,94.0]\n",
    "list3 = [91.0,87.0,99.0,95.0]\n",
    "list4 = [78.0,99.0,97.0,81.0]\n",
    "list5 = [88.0,78.0,98.0,84.0]\n",
    "list6 = [100.0,95.0,100.0,92.0]\n",
    "data = vstack((list1,list2,list3,list4,list5,list6))\n",
    "#把六个同学的成绩堆积起来\n",
    "#http://www.cnblogs.com/harvey888/p/5967352.html\n",
    "#Python numpy函数hstack() vstack() stack() dstack() vsplit() concatenate()\n",
    "print data\n",
    "centroids,_ = kmeans(data,2)\n",
    "#参数2表示分为两类\n",
    "result,_= vq(data,centroids)\n",
    "print result"
   ]
  },
  {
   "cell_type": "markdown",
   "metadata": {},
   "source": [
    "##### 下面的程序有问题，没看明白，也无法执行"
   ]
  },
  {
   "cell_type": "code",
   "execution_count": 59,
   "metadata": {
    "collapsed": false
   },
   "outputs": [
    {
     "name": "stdout",
     "output_type": "stream",
     "text": [
      "64\n",
      "[2 2 0 2 0 2 2 0 0 2 1 3 1 0 0 1 2 1 3 3 1 1 1 0 1 2 2 1 1 0]\n",
      "{'AXP': 2, 'BA': 2, 'CVX': 0, 'CSCO': 2, 'DD': 2, 'V': 2, 'CAT': 0, 'VZ': 1, 'MSFT': 3, 'IBM': 1, 'PG': 1, 'DIS': 2, 'HD': 2, 'GS': 0, 'INTC': 3, 'WMT': 1, 'GE': 0, 'T': 1, 'MRK': 1, 'UNH': 1, 'JPM': 0, 'UTX': 2, 'XOM': 0, 'TRV': 0, 'PFE': 1, 'NKE': 3, 'MCD': 1, 'KO': 0, 'MMM': 2, 'JNJ': 1}\n",
      "[('CVX', 0), ('CAT', 0), ('GS', 0), ('GE', 0), ('JPM', 0), ('XOM', 0), ('TRV', 0), ('KO', 0), ('VZ', 1), ('IBM', 1), ('PG', 1), ('WMT', 1), ('T', 1), ('MRK', 1), ('UNH', 1), ('PFE', 1), ('MCD', 1), ('JNJ', 1), ('AXP', 2), ('BA', 2), ('CSCO', 2), ('DD', 2), ('V', 2), ('DIS', 2), ('HD', 2), ('UTX', 2), ('MMM', 2), ('MSFT', 3), ('INTC', 3), ('NKE', 3)]\n"
     ]
    }
   ],
   "source": [
    "from matplotlib.finance import quotes_historical_yahoo_ochl\n",
    "from datetime import date\n",
    "import pandas as pd\n",
    "#today1 = date.today()\n",
    "#end1 = today \n",
    "#start = (today.year-1,today.month,today.day)\n",
    "#去年的今天到今年的今天\n",
    "start = date(2016,7,1)\n",
    "end = date(2016,9,30)\n",
    "listDji = ['AXP', 'BA', 'CAT', 'CSCO', 'CVX', 'DD', 'DIS', 'GE', 'GS', 'HD', 'IBM', 'INTC', 'JNJ',\n",
    "           'JPM', 'KO', 'MCD', 'MMM', 'MRK', 'MSFT', 'NKE', 'PFE', 'PG', 'T', 'TRV', 'UNH', 'UTX', 'V', 'VZ', 'WMT', 'XOM']\n",
    "#这有30支股票\n",
    "\n",
    "quotes = [ [0 for col in range(90)] for row in range(30)]\n",
    "#获取股票的信息，因为有30支股票，每个股票需要存获取90的信息\n",
    "#print quotes\n",
    "listTemp = [ [0 for col in range(90)] for row in range(30)]\n",
    "#是把股票处理过的相关系数，放在该列表中\n",
    "#建立一个二维数组 30X90\n",
    "for i in range(30):\n",
    "    quotes[i] = quotes_historical_yahoo_ochl(listDji[i],start,end)\n",
    "#获取30支股票7-9月的信息\n",
    "#start，end的格式对不对呢？是不是要用Gregorian日历时间格式？---格式可行\n",
    "#listTemp[i][j] = 1.0 or -1.0 # 1 if the latter is larger than former, otherwise the result is -1\n",
    "#放的是涨跌系数？？\n",
    "#这句话没有明白\n",
    "df = pd.DataFrame(quotes)\n",
    "#print df  #查看获得的具体数值\n",
    "days=len(quotes[0])\n",
    "print days #可用print days查看含义\n",
    "#fields = ['date','open','close','high','low','volume']\n",
    "#quotesdf = pd.DataFrame(quotes, index = range(1,len(quotes)+1),columns = fields)\n",
    "#print quotesdf\n",
    "#AssertionError: 6 columns passed, passed data had 64 columns\n",
    "for i in range(30):\n",
    "    for j in range(days-1):\n",
    "        if(quotes[i][j][2] and quotes[i][j+1][2] and (quotes[i][j+1][2]>=quotes[i][j][2])):\n",
    "            #参数2表示收盘价所在的位置，具体可以查看week5的相关内容\n",
    "            #这是一个三维数组\n",
    "            listTemp[i][j]=1.0\n",
    "        else:\n",
    "            listTemp[i][j]=-1.0\n",
    "data = vstack(listTemp)\n",
    "centroids,_ = kmeans(data,4)\n",
    "result,_= vq(data,centroids)\n",
    "print result\n",
    "\n",
    "#把公司和值对应起来\n",
    "dict_out_put = dict(zip(listDji,result ))\n",
    "#dict_out_put = dict(zip(result，listDji)) #会出错，因为键只有4个数，只能得到四个结果\n",
    "print dict_out_put\n",
    "\n",
    "#对字典进行排序\n",
    "result_classify = sorted(dict_out_put.iteritems(), key=lambda x: x[1])\n",
    "print result_classify\n",
    "#result_classify1 = sorted(dict_out_put, key=lambda x: x[1])\n",
    "#一定要用.iteritems()，这样才是一个个值从字典中取出来的，才会有想获取的x[0],x[1]存在\n",
    "#print result_classify1  #IndexError: string index out of range\n",
    "\n",
    "#把排序好的公司提取出来\n"
   ]
  },
  {
   "cell_type": "code",
   "execution_count": 39,
   "metadata": {
    "collapsed": false
   },
   "outputs": [
    {
     "name": "stdout",
     "output_type": "stream",
     "text": [
      "['AXP', 'BA', 'CAT', 'CSCO', 'CVX', 'DD', 'DIS', 'GE', 'GS', 'HD', 'IBM', 'INTC', 'JNJ', 'JPM', 'KO', 'MCD', 'MMM', 'MRK', 'MSFT', 'NKE', 'PFE', 'PG', 'T', 'TRV', 'UNH', 'UTX', 'V', 'VZ', 'WMT', 'XOM']\n",
      "[('a', 0), ('b', 2), ('c', 1)]\n",
      "[('a', 0), ('c', 1), ('b', 2)]\n",
      "[('b', 2), ('c', 1), ('a', 0)]\n",
      "[('a', 0), ('c', 1), ('b', 2)]\n"
     ]
    }
   ],
   "source": [
    "#列表排序\n",
    "list1 = ['AXP','CVX','DIS','JNJ','MCD','UTX','WMT','XOM','GE','GS','JPM','MMM','NKE','PFE','TRV','V','CSCO',\n",
    "        'IBM','INTC','KO','MRK','MSFT','T','VZ','BA','CAT','DD','HD','PG','UNH']\n",
    "#这些公司是否现在还存在？  最好是自己从网上挖掘出30个公司的信息\n",
    "b1 = sorted(list1)\n",
    "print b1\n",
    "#含有元组的列表排序\n",
    "list2 = [('b',2),('c',1),('a',0)]\n",
    "b1 = sorted(list2,key=lambda a_tuple: a_tuple[0])\n",
    "print b1\n",
    "b2 = sorted(list2,key=lambda a_tuple: a_tuple[1])\n",
    "print b2\n",
    "b2_reverse = sorted(list2,key=lambda a_tuple: a_tuple[1],reverse=1)\n",
    "#逆序排序\n",
    "print b2_reverse\n",
    "b2_cmp = sorted(list2,cmp=lambda x,y: cmp(x[1],y[1]))\n",
    "print b2_cmp"
   ]
  },
  {
   "cell_type": "code",
   "execution_count": null,
   "metadata": {
    "collapsed": true
   },
   "outputs": [],
   "source": [
    "#对字典进行排序\n",
    "#http://www.cnblogs.com/kaituorensheng/archive/2012/08/07/2627386.html\n"
   ]
  },
  {
   "cell_type": "markdown",
   "metadata": {},
   "source": [
    "### 6.2Matplotlib绘图\n",
    "* Matplotlib绘图    \n",
    "  1.最著名Python绘图库，主要用于二维绘图：画图质量高；方便快捷的绘图模块     \n",
    "  2.绘图API——pyplot模块  \n",
    "  3.集成库——pylab模块（包含NumPy和pyplot中的常用函数）  "
   ]
  },
  {
   "cell_type": "code",
   "execution_count": 61,
   "metadata": {
    "collapsed": false
   },
   "outputs": [],
   "source": [
    "import time\n",
    "from datetime import date\n",
    "from matplotlib.finance import quotes_historical_yahoo_ochl\n",
    "from datetime import datetime\n",
    "import pandas as pd\n",
    "import matplotlib.pyplot as plt\n",
    "\n",
    "today=date.today()    \n",
    "start=(today.year-1,today.month,today.day)  #获取年、月、日\n",
    "quotes=quotes_historical_yahoo_ochl('KO',start,today)  #查询可口可乐公司历史数据\n",
    "fields=['date','open','close','high','low','volumn']\n",
    "\n",
    "list1=[]\n",
    "for i in range(0,len(quotes)):\n",
    "    x=date.fromordinal(int(quotes[i][0]))      #将Gregorian日历时间转换为date对象\n",
    "    y=datetime.strftime(x,'%Y-%m-%d')    #将datetime对象转化为字符串格式\n",
    "    list1.append(y)\n",
    "#print list1\n",
    "quoteskodf=pd.DataFrame(quotes,index=list1,columns=fields) #添加列名，更改索引\n",
    "quoteskodf.drop(['date'],axis=1)     #去除date列\n",
    "#print quoteskodf\n",
    "listtemp=[]\n",
    "for i in range(0,len(quoteskodf)):\n",
    "    temp=time.strptime(quoteskodf.index[i],'%Y-%m-%d')  #quoteskodf.index[i]返回索引日期,如‘2016-05-14’，转化为元组\n",
    "    listtemp.append(temp.tm_mon)\n",
    "    \n",
    "#print listtemp\n",
    "tempkodf=quoteskodf.copy()       #拷贝一份数据到tempkodf\n",
    "tempkodf['month']=listtemp       #新增month列\n",
    "closemeansko=tempkodf.groupby('month').mean().close  #求每月收盘价均值\n",
    "listko=[]\n",
    "for i in range(1,13):\n",
    "    listko.append(closemeansko[i])  #返回第i行的值\n",
    "listkoindex=closemeansko.index   #listkoindex返回索引，即月份1、2、3、4..\n",
    "plt.plot(listkoindex,listko,'g*')  \n",
    "plt.show()"
   ]
  },
  {
   "cell_type": "markdown",
   "metadata": {},
   "source": [
    "**************************************************************\n",
    ">>> import numpy as np\n",
    ">>> import matplotlib.pyplot as plt\n",
    ">>> t=np.arange(0.,4.,0.1)\n",
    ">>> t\n",
    "array([ 0. ,  0.1,  0.2,  0.3,  0.4,  0.5,  0.6,  0.7,  0.8,  0.9,  1. ,\n",
    "        1.1,  1.2,  1.3,  1.4,  1.5,  1.6,  1.7,  1.8,  1.9,  2. ,  2.1,\n",
    "        2.2,  2.3,  2.4,  2.5,  2.6,  2.7,  2.8,  2.9,  3. ,  3.1,  3.2,\n",
    "        3.3,  3.4,  3.5,  3.6,  3.7,  3.8,  3.9])\n",
    ">>> type(t)\n",
    "<type 'numpy.ndarray'>\n",
    ">>> plt.plot(t,t,t,t+2,t,t**2)                    #plot后不仅能跟列表，也能接数组\n",
    ">>> plt.show()\n",
    "\n",
    "补充：查看plot帮助文档\n",
    ">>> import matplotlib.pyplot as plt\n",
    ">>> help(plt.plot)\n",
    "Help on function plot in module matplotlib.pyplot:\n",
    ".\n",
    ".\n",
    "********************************************************************\n",
    "时间函数补充 http://www.cnblogs.com/qq78292959/archive/2013/03/22/2975786.html\n",
    "python中有如下几个方式表示时间\n",
    "1、时间戳       返回时间戳方式的函数主要有time()，clock()等\n",
    "     >>> time.time()\n",
    "    1463814682.556\n",
    "2、格式化字符串\n",
    "3、元组（struct_time），共有9个元素。返回struct_time的函数主要有gmtime()，localtime()，strptime()\n",
    "\n",
    "函数模块:\n",
    "time模块\n",
    "\n",
    "时间戳与时间的互相转换，需要元组做桥梁。\n",
    "http://outofmemory.cn/code-snippet/1570/python-time-time-chuo-between-together-switch\n",
    "\n"
   ]
  },
  {
   "cell_type": "markdown",
   "metadata": {},
   "source": [
    "### pandas"
   ]
  },
  {
   "cell_type": "code",
   "execution_count": 62,
   "metadata": {
    "collapsed": true
   },
   "outputs": [],
   "source": [
    "#pandas作图\n",
    "import pandas as pd\n",
    "from datetime import date\n",
    "from matplotlib.finance import quotes_historical_yahoo_ochl\n",
    "#import matplotlib.pyplot as plt\n",
    "\n",
    "start=(2014,10,1)\n",
    "end=(2014,10,31)\n",
    "quotes=quotes_historical_yahoo_ochl('IBM',start,end)\n",
    "quotesINTC=quotes_historical_yahoo_ochl('INTC',start,end)\n",
    "quotesGE=quotes_historical_yahoo_ochl('GE',start,end)\n",
    "fields=['date','open','close','high','low','volume']\n",
    "#将索引换成时间，http://www.cnblogs.com/lhj588/archive/2012/04/23/2466653.html\n",
    "list1=[]\n",
    "for i in range(0,len(quotesINTC)):\n",
    "    x=date.fromordinal(int(quotesINTC[i][0]))      #将Gregorian日历时间转换为date对象。若写成datetime.fromordinal，则返回datetime对象\n",
    "    y=date.strftime(x,'%Y-%m-%d')\n",
    "    list1.append(y)\n",
    "    \n",
    "list2=[]\n",
    "for i in range(0,len(quotesGE)):\n",
    "    x=date.fromordinal(int(quotesGE[i][0]))\n",
    "    y=date.strftime(x,'%Y-%m-%d')\n",
    "    list2.append(y)\n",
    "    \n",
    "quotesdfINTC=pd.DataFrame(quotesINTC,index=list1,columns=fields)\n",
    "quotesdfINTC=quotesdfINTC.drop(['date'],axis=1)\n",
    "quotesdfGE=pd.DataFrame(quotesGE,index=list1,columns=fields)\n",
    "quotesdfGE=quotesdfGE.drop(['date'],axis=1)\n",
    "quotesdf=pd.DataFrame()\n",
    "quotesdf['closeINTC']=cc=quotesdfINTC.close\n",
    "quotesdf['closeGE']=dd=quotesdfGE.close\n",
    "#quotesdf.plot(kind='barh')\n",
    "cc.plot(color='r',marker='D',label='Intel')\n",
    "dd.plot(color='g',marker='D',label='GE')\n",
    "plt.legend(loc='best')\n",
    "quotesdf.to_csv(u'输出csv格式.csv')           #汉字前不加u会出现乱码形式。csv（逗号分隔值）文件用记事本打开会发现数值间以逗号相隔，以此得名\n",
    "quotesdf.to_excel(u'输出excel格式.xls')"
   ]
  },
  {
   "cell_type": "code",
   "execution_count": null,
   "metadata": {
    "collapsed": true
   },
   "outputs": [],
   "source": []
  }
 ],
 "metadata": {
  "kernelspec": {
   "display_name": "Python 2",
   "language": "python",
   "name": "python2"
  },
  "language_info": {
   "codemirror_mode": {
    "name": "ipython",
    "version": 2
   },
   "file_extension": ".py",
   "mimetype": "text/x-python",
   "name": "python",
   "nbconvert_exporter": "python",
   "pygments_lexer": "ipython2",
   "version": "2.7.13"
  }
 },
 "nbformat": 4,
 "nbformat_minor": 2
}
