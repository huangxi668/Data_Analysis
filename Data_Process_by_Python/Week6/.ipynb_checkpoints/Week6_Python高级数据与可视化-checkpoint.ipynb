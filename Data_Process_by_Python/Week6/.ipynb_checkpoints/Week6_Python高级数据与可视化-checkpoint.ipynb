{
 "cells": [
  {
   "cell_type": "markdown",
   "metadata": {},
   "source": [
    "# 6Python高级数据与可视化\n",
    "# Advanced Data Processing and Visualization of Python\n",
    "#### Anaconda2 _4.0.0版本\n",
    "## 6.1聚类分析\n",
    "* 聚类分析(cluster analysis)\n",
    " 以相似性为基础把相似的对象通过静态分类的方法分成不同的组别或者更多的子集  \n",
    " 特性：基于相似性；有多个聚类中心  \n",
    "* K-MEANS\n",
    " K-均值算法表示以空间中k个点为中心进行聚类，对最靠近他们的对象归类"
   ]
  },
  {
   "cell_type": "code",
   "execution_count": 2,
   "metadata": {
    "collapsed": false
   },
   "outputs": [
    {
     "name": "stdout",
     "output_type": "stream",
     "text": [
      "[[  88.   74.   96.   85.]\n",
      " [  92.   99.   95.   94.]\n",
      " [  91.   87.   99.   95.]\n",
      " [  78.   99.   97.   81.]\n",
      " [  88.   78.   98.   84.]\n",
      " [ 100.   95.  100.   92.]]\n",
      "[0 1 1 1 0 1]\n"
     ]
    }
   ],
   "source": [
    "#K-均值算法\n",
    "#      高数 英语 Python 音乐\n",
    "#小明  88   64    96    85\n",
    "#大明  92   99    95   94\n",
    "#小朋  91   87   99   95\n",
    "#大朋  78  99    97   81\n",
    "#小萌  88  78    98   84\n",
    "#大萌 100  95  100   92\n",
    "#\n",
    "from pylab import *\n",
    "from scipy.cluster.vq import *\n",
    "list1 = [88.0,74.0,96.0,85.0]\n",
    "list2 = [92.0,99.0,95.0,94.0]\n",
    "list3 = [91.0,87.0,99.0,95.0]\n",
    "list4 = [78.0,99.0,97.0,81.0]\n",
    "list5 = [88.0,78.0,98.0,84.0]\n",
    "list6 = [100.0,95.0,100.0,92.0]\n",
    "data = vstack((list1,list2,list3,list4,list5,list6))\n",
    "#把六个同学的成绩堆积起来\n",
    "#http://www.cnblogs.com/harvey888/p/5967352.html\n",
    "#Python numpy函数hstack() vstack() stack() dstack() vsplit() concatenate()\n",
    "print data\n",
    "centroids,_ = kmeans(data,2)\n",
    "#参数2表示分为两类\n",
    "result,_= vq(data,centroids)\n",
    "print result"
   ]
  },
  {
   "cell_type": "markdown",
   "metadata": {},
   "source": [
    "##### 下面的程序有问题，没看明白，也无法执行"
   ]
  },
  {
   "cell_type": "code",
   "execution_count": 7,
   "metadata": {
    "collapsed": false
   },
   "outputs": [
    {
     "name": "stdout",
     "output_type": "stream",
     "text": [
      "64\n",
      "[0 0 0 0 2 0 2 0 2 0 0 0 1 2 1 1 0 1 0 0 1 1 3 2 1 0 0 3 3 2]\n",
      "{'AXP': 0, 'BA': 0, 'CVX': 2, 'CSCO': 0, 'DD': 0, 'V': 0, 'CAT': 0, 'VZ': 3, 'MSFT': 0, 'IBM': 0, 'PG': 1, 'DIS': 2, 'HD': 0, 'GS': 2, 'INTC': 0, 'WMT': 3, 'GE': 0, 'T': 3, 'MRK': 1, 'UNH': 1, 'JPM': 2, 'UTX': 0, 'XOM': 2, 'TRV': 2, 'PFE': 1, 'NKE': 0, 'MCD': 1, 'KO': 1, 'MMM': 0, 'JNJ': 1}\n",
      "[('AXP', 0), ('BA', 0), ('CSCO', 0), ('DD', 0), ('V', 0), ('CAT', 0), ('MSFT', 0), ('IBM', 0), ('HD', 0), ('INTC', 0), ('GE', 0), ('UTX', 0), ('NKE', 0), ('MMM', 0), ('PG', 1), ('MRK', 1), ('UNH', 1), ('PFE', 1), ('MCD', 1), ('KO', 1), ('JNJ', 1), ('CVX', 2), ('DIS', 2), ('GS', 2), ('JPM', 2), ('XOM', 2), ('TRV', 2), ('VZ', 3), ('WMT', 3), ('T', 3)]\n"
     ]
    }
   ],
   "source": [
    "from matplotlib.finance import quotes_historical_yahoo_ochl\n",
    "from datetime import date\n",
    "import pandas as pd\n",
    "#today1 = date.today()\n",
    "#end1 = today \n",
    "#start = (today.year-1,today.month,today.day)\n",
    "#去年的今天到今年的今天\n",
    "start = date(2016,7,1)\n",
    "end = date(2016,9,30)\n",
    "listDji = ['AXP', 'BA', 'CAT', 'CSCO', 'CVX', 'DD', 'DIS', 'GE', 'GS', 'HD', 'IBM', 'INTC', 'JNJ',\n",
    "           'JPM', 'KO', 'MCD', 'MMM', 'MRK', 'MSFT', 'NKE', 'PFE', 'PG', 'T', 'TRV', 'UNH', 'UTX', 'V', 'VZ', 'WMT', 'XOM']\n",
    "#这有30支股票\n",
    "\n",
    "quotes = [ [0 for col in range(90)] for row in range(30)]\n",
    "#获取股票的信息，因为有30支股票，每个股票需要存获取90的信息\n",
    "#print quotes\n",
    "listTemp = [ [0 for col in range(90)] for row in range(30)]\n",
    "#是把股票处理过的相关系数，放在该列表中\n",
    "#建立一个二维数组 30X90\n",
    "for i in range(30):\n",
    "    quotes[i] = quotes_historical_yahoo_ochl(listDji[i],start,end)\n",
    "#获取30支股票7-9月的信息\n",
    "#start，end的格式对不对呢？是不是要用Gregorian日历时间格式？---格式可行\n",
    "#listTemp[i][j] = 1.0 or -1.0 # 1 if the latter is larger than former, otherwise the result is -1\n",
    "#放的是涨跌系数？？\n",
    "#这句话没有明白\n",
    "df = pd.DataFrame(quotes)\n",
    "#print df  #查看获得的具体数值\n",
    "days=len(quotes[0])\n",
    "print days #可用print days查看含义\n",
    "#days表示有交易数据的天数\n",
    "\n",
    "##想给获取的数据加上对应的属性fields\n",
    "#fields = ['date','open','close','high','low','volume']\n",
    "#quotesdf = pd.DataFrame(quotes, index = quotes[i][0],columns = fields)\n",
    "#print quotesdf\n",
    "#AssertionError: 6 columns passed, passed data had 64 columns\n",
    "\n",
    "\n",
    "for i in range(30):\n",
    "    for j in range(days-1):\n",
    "        if(quotes[i][j][2] and quotes[i][j+1][2] and (quotes[i][j+1][2]>=quotes[i][j][2])):\n",
    "            #参数2表示收盘价所在的位置，具体可以查看week5的相关内容\n",
    "            #这是一个三维数组\n",
    "            listTemp[i][j]=1.0\n",
    "        else:\n",
    "            listTemp[i][j]=-1.0\n",
    "data = vstack(listTemp)\n",
    "#把所有的listTempp[i][j]链接起来\n",
    "centroids,_ = kmeans(data,4)\n",
    "result,_= vq(data,centroids)\n",
    "print result\n",
    "\n",
    "#把公司和值对应起来\n",
    "dict_out_put = dict(zip(listDji,result ))\n",
    "#dict_out_put = dict(zip(result，listDji)) #会出错，因为键只有4个数，只能得到四个结果\n",
    "print dict_out_put\n",
    "\n",
    "#对字典进行排序\n",
    "result_classify = sorted(dict_out_put.iteritems(), key=lambda x: x[1])\n",
    "print result_classify\n",
    "#result_classify1 = sorted(dict_out_put, key=lambda x: x[1])\n",
    "#一定要用.iteritems()，这样才是一个个值从字典中取出来的，才会有想获取的x[0],x[1]存在\n",
    "#print result_classify1  #IndexError: string index out of range\n",
    "\n",
    "#把排序好的公司提取出来\n"
   ]
  },
  {
   "cell_type": "code",
   "execution_count": 39,
   "metadata": {
    "collapsed": false
   },
   "outputs": [
    {
     "name": "stdout",
     "output_type": "stream",
     "text": [
      "['AXP', 'BA', 'CAT', 'CSCO', 'CVX', 'DD', 'DIS', 'GE', 'GS', 'HD', 'IBM', 'INTC', 'JNJ', 'JPM', 'KO', 'MCD', 'MMM', 'MRK', 'MSFT', 'NKE', 'PFE', 'PG', 'T', 'TRV', 'UNH', 'UTX', 'V', 'VZ', 'WMT', 'XOM']\n",
      "[('a', 0), ('b', 2), ('c', 1)]\n",
      "[('a', 0), ('c', 1), ('b', 2)]\n",
      "[('b', 2), ('c', 1), ('a', 0)]\n",
      "[('a', 0), ('c', 1), ('b', 2)]\n"
     ]
    }
   ],
   "source": [
    "#列表排序\n",
    "list1 = ['AXP','CVX','DIS','JNJ','MCD','UTX','WMT','XOM','GE','GS','JPM','MMM','NKE','PFE','TRV','V','CSCO',\n",
    "        'IBM','INTC','KO','MRK','MSFT','T','VZ','BA','CAT','DD','HD','PG','UNH']\n",
    "#这些公司是否现在还存在？  最好是自己从网上挖掘出30个公司的信息\n",
    "b1 = sorted(list1)\n",
    "print b1\n",
    "#含有元组的列表排序\n",
    "list2 = [('b',2),('c',1),('a',0)]\n",
    "b1 = sorted(list2,key=lambda a_tuple: a_tuple[0])\n",
    "print b1\n",
    "b2 = sorted(list2,key=lambda a_tuple: a_tuple[1])\n",
    "print b2\n",
    "b2_reverse = sorted(list2,key=lambda a_tuple: a_tuple[1],reverse=1)\n",
    "#逆序排序\n",
    "print b2_reverse\n",
    "b2_cmp = sorted(list2,cmp=lambda x,y: cmp(x[1],y[1]))\n",
    "print b2_cmp"
   ]
  },
  {
   "cell_type": "code",
   "execution_count": null,
   "metadata": {
    "collapsed": true
   },
   "outputs": [],
   "source": [
    "#对字典进行排序\n",
    "#http://www.cnblogs.com/kaituorensheng/archive/2012/08/07/2627386.html\n"
   ]
  },
  {
   "cell_type": "markdown",
   "metadata": {},
   "source": [
    "### 6.2Matplotlib绘图\n",
    "* Matplotlib绘图 （http://matplotlib.org/)      \n",
    "  1.最著名Python绘图库，主要用于二维绘图：画图质量高；方便快捷的绘图模块     \n",
    "  2.绘图API——pyplot模块  \n",
    "  3.集成库——pylab模块（包含NumPy和pyplot中的常用函数）  "
   ]
  },
  {
   "cell_type": "code",
   "execution_count": 28,
   "metadata": {
    "collapsed": false
   },
   "outputs": [
    {
     "name": "stdout",
     "output_type": "stream",
     "text": [
      "month\n",
      "1     40.886590\n",
      "2     41.809551\n",
      "3     43.958528\n",
      "4     44.621046\n",
      "5     43.818324\n",
      "6     44.112337\n",
      "7     44.442122\n",
      "8     42.965381\n",
      "9     42.203695\n",
      "10    41.627600\n",
      "11    41.208241\n",
      "12    41.345714\n",
      "Name: close, dtype: float64\n",
      "Int64Index([1, 2, 3, 4, 5, 6, 7, 8, 9, 10, 11, 12], dtype='int64', name=u'month')\n"
     ]
    }
   ],
   "source": [
    "#将可口可乐公司近一年来股票收盘价的月平均价绘制成折线图\n",
    "import time\n",
    "from datetime import date\n",
    "from matplotlib.finance import quotes_historical_yahoo_ochl\n",
    "from datetime import datetime\n",
    "import pandas as pd\n",
    "import matplotlib.pyplot as plt\n",
    "\n",
    "today=date.today()    \n",
    "start=(today.year-1,today.month,today.day)  #获取去年的年、月、日\n",
    "quotes=quotes_historical_yahoo_ochl('KO',start,today)  #查询可口可乐公司历史数据\n",
    "#这个是matplotlib.finance专门对针对Yahoo财经开发的包\n",
    "#print len(quotes)   #存在历史数据的天数\n",
    "fields=['date','open','close','high','low','volumn']\n",
    "\n",
    "listDate=[]\n",
    "for i in range(0,len(quotes)):\n",
    "    x=date.fromordinal(int(quotes[i][0]))      #将Gregorian日历时间转换为date对象\n",
    "    y=datetime.strftime(x,'%Y-%m-%d')    #将datetime对象转化为字符串格式\n",
    "    listDate.append(y)\n",
    "#print listDate\n",
    "quoteskodf=pd.DataFrame(quotes,index=listDate,columns=fields) #添加列名，更改索引\n",
    "quoteskodf.drop(['date'],axis=1)     #去除date列\n",
    "#print quoteskodf.drop(['date'],axis=1)\n",
    "#print quoteskodf   #为什么这么打印出来date还在呢？\n",
    "listtemp=[]  #初始化列表\n",
    "for i in range(0,len(quoteskodf)):\n",
    "    temp=time.strptime(quoteskodf.index[i],'%Y-%m-%d')  #quoteskodf.index[i]返回索引日期,如‘2016-05-14’，转化为元组\n",
    "    #print temp  \n",
    "    #time.struct_time(tm_year=2016, tm_mon=10, tm_mday=10, tm_hour=0, tm_min=0, tm_sec=0, tm_wday=0, tm_yday=284, tm_isdst=-1)\n",
    "    listtemp.append(temp.tm_mon) #把月份放入listtemp列表中去\n",
    "    \n",
    "#print listtemp\n",
    "#print len(listtemp) \n",
    "tempkodf=quoteskodf.copy()       #拷贝一份数据到tempkodf\n",
    "tempkodf['month']=listtemp       #新增month列\n",
    "closemeansko=tempkodf.groupby('month').mean().close  #求每月收盘价均值,close表示columns的值close\n",
    "#这个计算存在缺陷，如果是存在跨年则会把头和尾给和在一起计算，因为按照month分组都是同一个值\n",
    "print closemeansko\n",
    "\n",
    "listko=[]\n",
    "for i in range(1,13):   #range(x,y)是指从x起到y-1结束\n",
    "    listko.append(closemeansko[i])  #返回第i行的值\n",
    "listkoindex=closemeansko.index   #listkoindex返回索引，即月份1、2、3、4..\n",
    "print listkoindex\n",
    "plt.plot(listkoindex,listko)   #输出折线图\n",
    "plt.plot(listkoindex,listko,'g*')   #输出*散点图\n",
    "#plt.show()"
   ]
  },
  {
   "cell_type": "markdown",
   "metadata": {},
   "source": [
    "### matplotlib的基本用法\n",
    "* 子图：  \n",
    "  1.subplots: 在同一个画布中绘制多个小图，subplot(231)新建一个2X3个小图，选择1号小图    \n",
    "  2.axes： 同一个图中多个图重叠，axes([left,bottom,width,height])参数范围为(0,1)  \n",
    "  "
   ]
  },
  {
   "cell_type": "code",
   "execution_count": 61,
   "metadata": {
    "collapsed": false
   },
   "outputs": [],
   "source": [
    "#利用numpy产生数字\n",
    "import numpy as np\n",
    "import matplotlib.pyplot as plt\n",
    "x = np.arange(0.,4.,0.1) #产生一维数组，步长为0.1，最大值不超过4.0\n",
    "#print x\n",
    "y = np.arange(0.,4.,0.1)\n",
    "#plt.plot(x,x+3,x**2)\n",
    "# ValueError: third arg must be a format string\n",
    "#需要画几个函数的图形，就需要在函数式前声明变量几次\n",
    "#plt.plot(x,x,x,x+2,x,x**2)   \n",
    "plt.plot(x,x,x,x**3,x+3,x**2)\n",
    "# #plot后不仅能跟列表，也能接数组\n",
    "#plt.show()\n",
    "z1=x+y\n",
    "z2 = 10*x+y\n",
    "plt.plot(z1)\n",
    "plt.plot(z2)\n",
    "plt.show()\n",
    "#http://matplotlib.org/api/pyplot_api.html#matplotlib.pyplot.plot\n",
    "#help(plt.plot) #查看函数的用法\n"
   ]
  },
  {
   "cell_type": "code",
   "execution_count": 63,
   "metadata": {
    "collapsed": false
   },
   "outputs": [],
   "source": [
    "import pylab as pl\n",
    "import numpy as np\n",
    "pl.figure(figsize=(8,6),dpi=100)\n",
    "t=np.arange(0.,4.,0.1)\n",
    "pl.plot(t,t,color='red',linestyle='-',linewidth=3,label='Line 1')\n",
    "#plt.show()\n",
    "pl.plot(t,t+2,color='green',linestyle='',marker='*',linewidth=3,label='Line 2')\n",
    "pl.plot(t,t**2,color='blue',linestyle='',marker='+',linewidth=3,label='Line 3')\n",
    "pl.legend(loc='upper left')\n",
    "plt.show()"
   ]
  },
  {
   "cell_type": "markdown",
   "metadata": {},
   "source": [
    "### pandas绘图"
   ]
  },
  {
   "cell_type": "code",
   "execution_count": 68,
   "metadata": {
    "collapsed": false
   },
   "outputs": [],
   "source": [
    "plt.plot(closemeansko)\n",
    "plt.title('Stock Statistics of Coca-Cola')\n",
    "plt.xlabel('Month')\n",
    "plt.ylabel('Average Close Price')\n",
    "plt.show()\n",
    "\n",
    "import pandas as pd\n",
    "closemeansko.plot()\n",
    "plt.title('Stock Statistics of Coca-Cola')\n",
    "plt.xlabel('Month')\n",
    "plt.ylabel('Average Close Price')\n",
    "plt.show()"
   ]
  },
  {
   "cell_type": "code",
   "execution_count": 80,
   "metadata": {
    "collapsed": false
   },
   "outputs": [
    {
     "data": {
      "text/plain": [
       "<matplotlib.legend.Legend at 0x17e8a4a8>"
      ]
     },
     "execution_count": 80,
     "metadata": {},
     "output_type": "execute_result"
    }
   ],
   "source": [
    "#pandas作图\n",
    "import pandas as pd\n",
    "from datetime import date\n",
    "from matplotlib.finance import quotes_historical_yahoo_ochl\n",
    "#import matplotlib.pyplot as plt\n",
    "\n",
    "start=(2014,10,1)\n",
    "end=(2014,10,31)\n",
    "quotes=quotes_historical_yahoo_ochl('IBM',start,end)\n",
    "quotesINTC=quotes_historical_yahoo_ochl('INTC',start,end)\n",
    "quotesGE=quotes_historical_yahoo_ochl('GE',start,end)\n",
    "fields=['date','open','close','high','low','volume']\n",
    "#将索引换成时间，http://www.cnblogs.com/lhj588/archive/2012/04/23/2466653.html\n",
    "list1=[]\n",
    "for i in range(0,len(quotesINTC)):\n",
    "    x=date.fromordinal(int(quotesINTC[i][0]))      #将Gregorian日历时间转换为date对象。若写成datetime.fromordinal，则返回datetime对象\n",
    "    y=date.strftime(x,'%Y-%m-%d')\n",
    "    list1.append(y)\n",
    "    \n",
    "list2=[]\n",
    "for i in range(0,len(quotesGE)):\n",
    "    x=date.fromordinal(int(quotesGE[i][0]))\n",
    "    y=date.strftime(x,'%Y-%m-%d')\n",
    "    list2.append(y)\n",
    "    \n",
    "quotesdfINTC=pd.DataFrame(quotesINTC,index=list1,columns=fields)\n",
    "quotesdfINTC=quotesdfINTC.drop(['date'],axis=1)\n",
    "quotesdfGE=pd.DataFrame(quotesGE,index=list1,columns=fields)\n",
    "quotesdfGE=quotesdfGE.drop(['date'],axis=1)\n",
    "\n",
    "quotesdf=pd.DataFrame()\n",
    "quotesdf['closeINTC']=cc=quotesdfINTC.close\n",
    "quotesdf['closeGE']=dd=quotesdfGE.close\n",
    "#quotesdf.plot(kind='bar')   #画图，kind有很多可以选择\n",
    "#quotesdf.plot(kind='kde')  #kind='kde'概率分布图\n",
    "quotesdf.plot(kind='scatter',x='closeINTC',color='g',y='closeGE')\n",
    "plt.show()\n",
    "cc.plot(color='r',marker='D',label='Intel')\n",
    "dd.plot(color='g',marker='D',label='GE')\n",
    "plt.legend(loc='best')\n",
    "#quotesdf.to_csv(u'输出csv格式.csv')           #汉字前不加u会出现乱码形式。csv（逗号分隔值）文件用记事本打开会发现数值间以逗号相隔，以此得名\n",
    "#result_read =  pd.read_csv('输出csv格式.csv') #读csv文件\n",
    "#print result_read['2']  #读取文件中具体某一列，2是指默认生成的columns的值\n",
    "#quotesdf.to_excel(u'输出excel格式.xls')  #还有read_excel()"
   ]
  },
  {
   "cell_type": "code",
   "execution_count": 82,
   "metadata": {
    "collapsed": false
   },
   "outputs": [],
   "source": [
    "#古腾堡项目\n",
    "#计算NTLK中目前收录的古滕堡项目的书\n",
    "#from nltk.corpus import gutenberg\n",
    "#print gutenberg.fileids()"
   ]
  },
  {
   "cell_type": "code",
   "execution_count": null,
   "metadata": {
    "collapsed": true
   },
   "outputs": [],
   "source": []
  }
 ],
 "metadata": {
  "anaconda-cloud": {},
  "kernelspec": {
   "display_name": "Python 2",
   "language": "python",
   "name": "python2"
  },
  "language_info": {
   "codemirror_mode": {
    "name": "ipython",
    "version": 2
   },
   "file_extension": ".py",
   "mimetype": "text/x-python",
   "name": "python",
   "nbconvert_exporter": "python",
   "pygments_lexer": "ipython2",
   "version": "2.7.13"
  }
 },
 "nbformat": 4,
 "nbformat_minor": 2
}
