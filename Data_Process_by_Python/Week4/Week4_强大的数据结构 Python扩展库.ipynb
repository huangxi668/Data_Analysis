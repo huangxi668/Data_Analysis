{
 "cells": [
  {
   "cell_type": "markdown",
   "metadata": {},
   "source": [
    "##  代码是用python2.7实现\n",
    "### 重点学习字典、Series、 DataFrame\n",
    "### 4.1字典\n",
    "字典：是一种映射类型，包含键（key）值(value)，成对出现"
   ]
  },
  {
   "cell_type": "code",
   "execution_count": 1,
   "metadata": {
    "collapsed": false
   },
   "outputs": [
    {
     "name": "stdout",
     "output_type": "stream",
     "text": [
      "2000\n"
     ]
    }
   ],
   "source": [
    "names = ['Wangdachui', 'Niuyun', 'Linling', 'Tianqi']\n",
    "salaries = [3000, 2000, 4500, 8000]\n",
    "print salaries[names.index('Niuyun')]"
   ]
  },
  {
   "cell_type": "markdown",
   "metadata": {},
   "source": [
    "#### 创建字典（重要）"
   ]
  },
  {
   "cell_type": "code",
   "execution_count": 16,
   "metadata": {
    "collapsed": false
   },
   "outputs": [
    {
     "name": "stdout",
     "output_type": "stream",
     "text": [
      "bInfo = {'Tianqi': 8000, 'Wangdachui': 3000, 'Niuyun': 2000, 'Linling': 4500}\n",
      "cInfo = {'Tianqi': 8000, 'Wangdachui': 3000, 'Niuyun': 2000, 'Linling': 4500}\n",
      "dInfo = {'Tianqi': 8000, 'Linling': 4500, 'Niuyun': 2000, 'Wangdachui': 3000}\n",
      "eInfo = {'Tianqi': 8000, 'Wangdachui': 3000, 'Niuyun': 2000, 'Linling': 4500}\n",
      "/***{}.fromkeys()函数的用法***/\n",
      "aDict = {'Tianqi': 3000, 'Wangdachui': 3000, 'Niuyun': 3000, 'Linling': 3000}\n",
      "sorted(aDict) = ['Linling', 'Niuyun', 'Tianqi', 'Wangdachui']\n",
      "bDict = {'Tianqi': 3000, 'Wangdachui': 3000, 'Niuyun': 3000, 'Linling': 3000}\n"
     ]
    }
   ],
   "source": [
    "#创建字典\n",
    "aInfo = {'Wangdachui': 3000, 'Niuyun':2000, 'Linling':4500, 'Tianqi':8000} \n",
    "#直接创造字典\n",
    "info = [('Wangdachui',3000), ('Niuyun',2000), ('Linling',4500), ('Tianqi',8000)]\n",
    "bInfo = dict(info)\n",
    "print 'bInfo = %s' %bInfo\n",
    "#用列表的方式写出来，在转换成字典\n",
    "cInfo = dict([['Wangdachui',3000], ['Niuyun',2000], ['Linling',4500], ['Tianqi',8000]])\n",
    "print 'cInfo = %s' %cInfo\n",
    "dInfo = dict(Wangdachui=3000, Niuyun=2000, Linling=4500, Tianqi=8000)\n",
    "print 'dInfo = %s' %dInfo\n",
    "eInfo = dict((('Wangdachui',3000), ('Niuyun',2000), ('Linling',4500), ('Tianqi',8000)))\n",
    "#元组转换成字典，注意外层是两个括号\n",
    "print 'eInfo = %s' %eInfo\n",
    "print '/***{}.fromkeys()函数的用法***/'\n",
    "aDict = {}.fromkeys(('Wangdachui', 'Niuyun', 'Linling', 'Tianqi'),3000)\n",
    "#创建员工信息表时如何将所有员工的工资默认值设置为3000\n",
    "#元组形式\n",
    "print 'aDict = %s' %aDict\n",
    "print 'sorted(aDict) = %s' %sorted(aDict)\n",
    "#排序，是对键值排序\n",
    "#print aDict.sort()\n",
    "#AttributeError: 'dict' object has no attribute 'sort'\n",
    "bDict = {}.fromkeys(['Wangdachui', 'Niuyun', 'Linling', 'Tianqi'],3000)\n",
    "#列表形式\n",
    "print 'bDict = %s' %bDict\n",
    "#print bDict.sort()\n",
    "#AttributeError: 'dict' object has no attribute 'sort'"
   ]
  },
  {
   "cell_type": "markdown",
   "metadata": {},
   "source": [
    "#### 生成字典（重要）\n",
    "* 学会从多元值列表中获取字典所需的键值列表  \n",
    "* zip函数对于创建字典效率奇高无比"
   ]
  },
  {
   "cell_type": "code",
   "execution_count": 29,
   "metadata": {
    "collapsed": false
   },
   "outputs": [
    {
     "name": "stdout",
     "output_type": "stream",
     "text": [
      "OrderedDict([('AXP', '86.40'), ('BA', '122.64'), ('CAT', '99.44'), ('CSCO', '23.78'), ('CVX', '115.91')])\n",
      "create_Dict = {'AXP': '86.40', 'CSCO': '23.78', 'BA': '122.64', 'CVX': '115.91', 'CAT': '99.44'}\n",
      "/***已知键值列表，用zip函数创建字典***/\n",
      "create_Dict2 = {'AXP': '86.40', 'CSCO': '23.78', 'BA': '122.64', 'CVX': '115.91', 'CAT': '99.44'}\n"
     ]
    }
   ],
   "source": [
    "#生成字典\n",
    "#对于几个公司的财经数据，如何构造公司代码和股票价格的字典\n",
    "#目标字典：{'AXP': '86.40', 'BA': '122.64', 'CAT ': '99.44', 'CSCO': '23.78', 'CVX': '115.91'}\n",
    "from collections import OrderedDict\n",
    "pList= [('AXP', 'American Express Company', '86.40'),\n",
    "        ('BA', 'The Boeing Company', '122.64'),\n",
    "        ('CAT', 'Caterpillar Inc.', '99.44'),\n",
    "        ('CSCO', 'Cisco Systems,Inc.', '23.78'),\n",
    "         ('CVX', 'Chevron Corporation', '115.91')]\n",
    "keys_List = []\n",
    "values_List = []\n",
    "for i in range(5):\n",
    "    keys_Str = pList[i][0]\n",
    "    #获取股票代码\n",
    "    values_Str = pList[i][2]\n",
    "    #获取股票价格\n",
    "    keys_List.append(keys_Str)\n",
    "    #将股票代码添加到列表中去\n",
    "    values_List.append(values_Str)\n",
    "    #将股票价格添加到列表中去\n",
    "create_Dict = OrderedDict.fromkeys(keys_List,0)\n",
    "#创建字典，键是aList，值是0\n",
    "for i in range(5):\n",
    "    create_Dict[create_Dict.keys()[i]] = values_List[i]\n",
    "print create_Dict\n",
    "print 'create_Dict = %s'%dict(create_Dict)\n",
    "print '/***已知键值列表，用zip函数创建字典***/'       \n",
    "create_Dict2 = dict(zip(keys_List,values_List))\n",
    "print 'create_Dict2 = %s'%create_Dict2"
   ]
  },
  {
   "cell_type": "markdown",
   "metadata": {},
   "source": [
    "### 4.2字典的基本操作"
   ]
  },
  {
   "cell_type": "code",
   "execution_count": 32,
   "metadata": {
    "collapsed": false
   },
   "outputs": [],
   "source": [
    "dict_Info = {'Wangdachui': 3000, 'Niuyun':2000, 'Linling':4500, 'Tianqi':8000}\n",
    "#print dict_Info['Niuyun'] #键值查找\n",
    "#2000\n",
    "dict_Info['Niuyun'] = 9999 #更新值\n",
    "#print aInfo\n",
    "#{'Tianqi': 8000, 'Wangdachui': 3000, 'Linling': 4500, 'Niuyun': 9999}\n",
    "dict_Info['Fuyun'] = 1000  #添加\n",
    "#print aInfo\n",
    "#{'Tianqi': 8000, 'Fuyun': 1000, 'Wangdachui': 3000, 'Linling': 4500, 'Niuyun': 9999}\n",
    "'Mayun' in dict_Info #成员判断\n",
    "#False\n",
    "del dict_Info #删除字典\n",
    "#print dict_Info\n",
    "#NameError: name 'dict_Info' is not defined"
   ]
  },
  {
   "cell_type": "code",
   "execution_count": 36,
   "metadata": {
    "collapsed": false
   },
   "outputs": [
    {
     "name": "stdout",
     "output_type": "stream",
     "text": [
      "name=Tianqi, salary=8000\n",
      "name=Wangdachui, salary=3000\n",
      "name=Niuyun, salary=2000\n",
      "name=Linling, salary=4500\n",
      "/*****************/\n",
      "\n",
      "Welcome to the pay wall.\n",
      "Niuyun's salary is 2000.\n",
      "Wangdachui's salary is 3000.\n",
      "\n"
     ]
    }
   ],
   "source": [
    "#字典的格式化字符串\n",
    "dict2_Info = {'Wangdachui': 3000, 'Niuyun':2000, 'Linling':4500, 'Tianqi':8000}\n",
    "for key in dict2_Info.keys():\n",
    "    print 'name=%s, salary=%s' % (key, dict2_Info[key])\n",
    "\"Niuyun's salary is %(Niuyun)s.\" % dict2_Info\n",
    "# %(key)格式说明符 % 字典对象名\n",
    "print '/*****************/'\n",
    "\n",
    "dict3_Info = {'Wangdachui': 3000, 'Niuyun':2000, 'Linling':4500, 'Tianqi':8000}\n",
    "template = '''\n",
    "Welcome to the pay wall.\n",
    "Niuyun's salary is %(Niuyun)s.\n",
    "Wangdachui's salary is %(Wangdachui)s.\n",
    "'''\n",
    "print template % dict3_Info"
   ]
  },
  {
   "cell_type": "markdown",
   "metadata": {},
   "source": [
    "#### 字典的内建函数\n",
    "* \n",
    "* clear() fromkeys() get() has_key () items() keys() iter() pop() setdefault () update() values() copy()  \n",
    "* ython 3.5中，字典的主要方法中移除掉了Python 2.7中的has_key()和iter()"
   ]
  },
  {
   "cell_type": "code",
   "execution_count": 40,
   "metadata": {
    "collapsed": false
   },
   "outputs": [
    {
     "name": "stdout",
     "output_type": "stream",
     "text": [
      "['Tianqi', 'Wangdachui', 'Niuyun', 'Linling']\n",
      "[8000, 3000, 2000, 4500]\n",
      "/***************/\n",
      "None\n"
     ]
    },
    {
     "ename": "KeyError",
     "evalue": "'AAA'",
     "output_type": "error",
     "traceback": [
      "\u001b[0;31m---------------------------------------------------------------------------\u001b[0m",
      "\u001b[0;31mKeyError\u001b[0m                                  Traceback (most recent call last)",
      "\u001b[0;32m<ipython-input-40-a62f2840662a>\u001b[0m in \u001b[0;36m<module>\u001b[0;34m()\u001b[0m\n\u001b[1;32m      9\u001b[0m \u001b[1;32mprint\u001b[0m \u001b[0mstock\u001b[0m\u001b[1;33m.\u001b[0m\u001b[0mget\u001b[0m\u001b[1;33m(\u001b[0m\u001b[1;34m'AAA'\u001b[0m\u001b[1;33m)\u001b[0m\u001b[1;33m\u001b[0m\u001b[0m\n\u001b[1;32m     10\u001b[0m \u001b[1;31m#\u001b[0m\u001b[1;33m\u001b[0m\u001b[1;33m\u001b[0m\u001b[0m\n\u001b[0;32m---> 11\u001b[0;31m \u001b[1;32mprint\u001b[0m \u001b[0mstock\u001b[0m\u001b[1;33m[\u001b[0m\u001b[1;34m'AAA'\u001b[0m\u001b[1;33m]\u001b[0m\u001b[1;33m\u001b[0m\u001b[0m\n\u001b[0m",
      "\u001b[0;31mKeyError\u001b[0m: 'AAA'"
     ]
    }
   ],
   "source": [
    "#字典内奸函数\n",
    "#已知有员工和工资信息表（'Wangdachui':3000, 'Niuyun':2000,'Linling':4500, 'Tianqi':8000），如何单独输出员工姓名和工资金额？\n",
    "dict4_Info = {'Wangdachui': 3000, 'Niuyun':2000, 'Linling':4500, 'Tianqi':8000}\n",
    "print dict4_Info.keys()\n",
    "print dict4_Info.values()\n",
    "print '/***************/'\n",
    "#下面两个程序都通过键查找值，区别在哪里？你更喜欢哪一个？\n",
    "stock = {'AXP': 86.40, 'BA':122.64}\n",
    "print stock.get('AAA')\n",
    "#返回一个值NOne，程序还可以继续执行\n",
    "print stock['AAA']\n",
    "#这个就是返回一个错误，程序中断，不建议这种写法"
   ]
  },
  {
   "cell_type": "code",
   "execution_count": 42,
   "metadata": {
    "collapsed": false
   },
   "outputs": [
    {
     "name": "stdout",
     "output_type": "stream",
     "text": [
      "{'Wangzi': 6000, 'Linling': 4500, 'Wanghua': 7000, 'Wangdachui': 4000, 'Niuyun': 9999}\n"
     ]
    }
   ],
   "source": [
    "#更新字典 update()\n",
    "#人事部门有两份人员和工资信息表，第一份是原有信息，第二份是公司中有工资更改人员和新进人员的信息，如何\n",
    "#处理可以较快地获得完整的信息表？\n",
    "a1_Info = {'Wangdachui': 3000, 'Niuyun':2000, 'Linling':4500}\n",
    "b1_Info = {'Wangdachui': 4000, 'Niuyun':9999, 'Wangzi':6000,'Wanghua':7000}\n",
    "a1_Info.update(b1_Info)\n",
    "print a1_Info  #输出结果的顺序？"
   ]
  },
  {
   "cell_type": "code",
   "execution_count": 49,
   "metadata": {
    "collapsed": false
   },
   "outputs": [
    {
     "name": "stdout",
     "output_type": "stream",
     "text": [
      "b1Stock = {'AXP': 86.4, 'BA': 122.64} \n",
      "a1Stock = {}\n",
      "/*******/\n",
      "a2Stock = {} \n",
      "b2Stock = {}\n"
     ]
    }
   ],
   "source": [
    "#删除字典\n",
    "#赋值只是赋值了一个引用，\n",
    "a1Stock = {'AXP': 86.40, 'BA':122.64}\n",
    "b1Stock = a1Stock\n",
    "a1Stock = {}\n",
    "print 'b1Stock = %s'%b1Stock,'\\n','a1Stock = %s'%a1Stock\n",
    "print '/*******/'\n",
    "a2Stock = {'AXP': 86.40, 'BA':122.64}\n",
    "b2Stock = a2Stock\n",
    "#a2Stock = {}\n",
    "#如果加上这句话，b2Stock不会为空了\n",
    "a2Stock.clear() #清空原始对象的时候，引用对象也被清空\n",
    "print 'a2Stock = %s'%a2Stock,'\\n','b2Stock = %s'%b2Stock"
   ]
  },
  {
   "cell_type": "markdown",
   "metadata": {},
   "source": [
    "Python中函数的参数形式（没有明白）\n",
    "• 位置或关键字参数  \n",
    "• 仅位置的参数   \n",
    "• 可变长位置参数    \n",
    "• 可变长关键字参数    \n",
    "（参数可以设定默认值）"
   ]
  },
  {
   "cell_type": "code",
   "execution_count": 50,
   "metadata": {
    "collapsed": false
   },
   "outputs": [
    {
     "name": "stdout",
     "output_type": "stream",
     "text": [
      "Hello,\n",
      "('Wangdachui', 'Niuyun', 'Linling')\n",
      "{'a1': 1, 'a3': 3, 'a2': 2}\n",
      "None\n"
     ]
    }
   ],
   "source": [
    "def func(args1, *argst, **argsd):\n",
    "    print args1\n",
    "    print argst\n",
    "    print argsd\n",
    "print func('Hello,','Wangdachui','Niuyun','Linling',a1= 1,a2=2,a3=3)\n"
   ]
  },
  {
   "cell_type": "markdown",
   "metadata": {},
   "source": [
    "### 4.3集合\n",
    "集合：一个无序不重复的元素的组合  \n",
    "* 可变集合（set）\n",
    "* 不可变集合（frozenset） \n",
    "* 集合比较\n",
    "数学符号 Python符号   \n",
    "    ∈     in   \n",
    "    =      ==  \n",
    "    ≠     !=   \n",
    "    ⊂     <       \n",
    "    ⊆     <=   \n",
    "    ⊃     >     \n",
    "    ⊇     >=    \n",
    "* 集合关系运算\n"
   ]
  },
  {
   "cell_type": "code",
   "execution_count": 51,
   "metadata": {
    "collapsed": false
   },
   "outputs": [
    {
     "name": "stdout",
     "output_type": "stream",
     "text": [
      "set(['h', 'e', 'l', 'o'])   <type 'set'>\n",
      "frozenset(['h', 'e', 'l', 'o'])   <type 'frozenset'>\n"
     ]
    }
   ],
   "source": [
    "a1Set = set('hello')\n",
    "print a1Set,' ', type(a1Set)\n",
    "b1Set = frozenset('hello')\n",
    "print b1Set,' ',type(b1Set)\n"
   ]
  },
  {
   "cell_type": "code",
   "execution_count": 60,
   "metadata": {
    "collapsed": false
   },
   "outputs": [
    {
     "name": "stdout",
     "output_type": "stream",
     "text": [
      "set(['u', 's', 'e', 'n'])\n",
      "set(['e', 'i', 'n', 's', 'r', 'u', 't'])\n",
      "set(['i', 'r'])\n",
      "set(['i', 'r', 't'])\n"
     ]
    }
   ],
   "source": [
    "#集合关系运算\n",
    "#数学符号：  ∩ ∪  - or\\  Δ \n",
    "#python符号：&  |     -     ^\n",
    "#运算符可复合： &=   |=  -=   ^=  (貌似有问题，无法执行)\n",
    "a2Set = set('sunrise')\n",
    "b2Set = set('sunset')\n",
    "print a2Set & b2Set\n",
    "print a2Set | b2Set\n",
    "print a2Set - b2Set\n",
    "print a2Set ^ b2Set"
   ]
  },
  {
   "cell_type": "markdown",
   "metadata": {},
   "source": [
    "#### 集合内建函数\n",
    "面向所有集合(set,forzenset)： s.issubset(t) issuperset(t) union(t) intersection(t) difference(t) symmetric_difference(t) copy()   \n",
    "面向可变集合(set)：update(t) intersection_update(t) difference_update(t) symmetric_difference_update(t) add(obj) remove(obj) discard(obj) pop() clear()  "
   ]
  },
  {
   "cell_type": "markdown",
   "metadata": {},
   "source": [
    "### 4.4扩展库\n",
    "* SciPy \n",
    "Python中科学计算程序的核心包  \n",
    "有效计算numpy矩阵，让NumPy和SciPy协同工作  \n",
    "致力于科学计算中常见问题的各个工具箱，其不同子模块有不同的应用，如插值、积分、优化和图像处理等  \n",
    "ndarray（N维数组）   Series（变长字典）  DataFrame（数据框）  \n",
    "* NumPy  \n",
    "特征  \n",
    " 强大的ndarray对象和ufunc函数  \n",
    " 精巧的函数  \n",
    " 比较适合线性代数和随机数处理等科学计算  \n",
    " 有效的通用多维数据，可定义任意数据类型  \n",
    " 无缝对接数据库  \n",
    "* Matplotlib  \n",
    "特征 \n",
    " 基于NumPy    \n",
    " 二维绘图库，简单快速地生成曲线图、直方图和散点图等形式的图  \n",
    " 常用的pyplot是一个简单提供类似MATLAB接口的模块  \n",
    "* pandas  \n",
    "特征  \n",
    " 基于 SciPy 和 NumPy  \n",
    " 高效的Series和DataFrame数据结构  \n",
    " 强大的可扩展数据操作与分析的Python库   \n",
    " 高效处理大数据集的切片等功能   \n",
    " 提供优化库功能读写多种文件格式，如CSV、 HDF5   "
   ]
  },
  {
   "cell_type": "markdown",
   "metadata": {},
   "source": [
    "### 4.5NADARRY（N维数组）\n",
    "Python中的数组  \n",
    "* 形式     \n",
    " 用list和tuple等数据结构表示数组   \n",
    " 一维数组 list = [1,2,3,4]  \n",
    " 二维数组 list = [[1,2,3],[4,5,6],[7,8,9]]  \n",
    " array模块  \n",
    " 通过array函数创建数组，array.array(\"B\", range(5))   \n",
    " 提供append、 insert和read等函数 \n",
    " \n",
    "* ndarray    \n",
    " NumPy中基本的数据结构  \n",
    " 别名为array  \n",
    " 利于节省内存和提高CPU计算时间   \n",
    " 有丰富的函数   \n",
    "* nadarray创建函数\n",
    " arange array copy empty empty_like eye fromfile fromfunction  \n",
    " identity linspace logspace mgrid ogrid ones ones_like r zeros zeros_like\n",
    "* nadarry基本运算\n",
    " + - * / > < \n",
    "* ndarray的属性与方法\n"
   ]
  },
  {
   "cell_type": "code",
   "execution_count": 63,
   "metadata": {
    "collapsed": false
   },
   "outputs": [
    {
     "name": "stdout",
     "output_type": "stream",
     "text": [
      "[1 2 3]\n",
      "[[1 2 3]\n",
      " [4 5 6]]\n",
      "[[ 0.  0.]\n",
      " [ 0.  0.]]\n",
      "[ 1.   1.5  2.   2.5  3.   3.5  4.   4.5]\n"
     ]
    }
   ],
   "source": [
    "from numpy import *\n",
    "a1Array = array([1,2,3])\n",
    "print a1Array\n",
    "b1Array = array([(1,2,3),(4,5,6)])\n",
    "print  b1Array\n",
    "print zeros((2,2))\n",
    "print arange(1,5,0.5)"
   ]
  },
  {
   "cell_type": "code",
   "execution_count": 68,
   "metadata": {
    "collapsed": false
   },
   "outputs": [
    {
     "name": "stdout",
     "output_type": "stream",
     "text": [
      "[[10 10 10]\n",
      " [10 10 10]]\n",
      "[[7 7 7]\n",
      " [7 7 7]]\n",
      "[[ True  True  True]\n",
      " [ True  True  True]]\n"
     ]
    }
   ],
   "source": [
    "#基本运算\n",
    "a2Array = array([(5,5,5),(5,5,5)])\n",
    "b2Array = array([(2,2,2),(2,2,2)])\n",
    "c2Array = a2Array * b2Array\n",
    "print c2Array\n",
    "a2Array += b2Array\n",
    "print a2Array\n",
    "print a2Array > 5"
   ]
  },
  {
   "cell_type": "code",
   "execution_count": 81,
   "metadata": {
    "collapsed": false
   },
   "outputs": [
    {
     "name": "stdout",
     "output_type": "stream",
     "text": [
      "(2L, 3L)\n",
      "[[1 2]\n",
      " [3 4]\n",
      " [5 6]]\n",
      "21\n",
      "[5 7 9]\n",
      "[ 6 15]\n",
      "***********\n",
      "[3 7]\n",
      "[9 8 8]\n"
     ]
    }
   ],
   "source": [
    "#naddary的属性和方法\n",
    "a3Array = array([(1,2,3),(4,5,6)])\n",
    "print a3Array.shape\n",
    "b3Array = a3Array.reshape(3,2)\n",
    "print b3Array\n",
    "print a3Array.sum()\n",
    "print a3Array.sum(axis = 0) #列相加\n",
    "print a3Array.sum(axis = 1) #行相加\n",
    "print '***********'\n",
    "a4Array = array([1,3,7])\n",
    "b4Array = array([3,5,8])\n",
    "c4Array = array([9,8,7])\n",
    "print a4Array[1:]\n",
    "print where(a4Array>3, b4Array, c4Array) \n",
    "#where(condition, [x, y]):根据前面的条件判断输出x还是y。"
   ]
  },
  {
   "cell_type": "markdown",
   "metadata": {},
   "source": [
    "#### nadarray的内建函数\n",
    "* fromfunction  # help(fromfunction)  \n",
    "* ufunc（universal function）  \n",
    " 是一种能对数组的每个元素进行操作的函数。 NumPy内置的许多ufunc函数都是在C语言级别实现的，计算速度非常快。  \n",
    " help(ufunc)  help(numpy)"
   ]
  },
  {
   "cell_type": "code",
   "execution_count": 84,
   "metadata": {
    "collapsed": false
   },
   "outputs": [
    {
     "name": "stdout",
     "output_type": "stream",
     "text": [
      "[[  1.   2.   3.   4.   5.   6.]\n",
      " [  2.   4.   6.   8.  10.  12.]\n",
      " [  3.   6.   9.  12.  15.  18.]\n",
      " [  4.   8.  12.  16.  20.  24.]\n",
      " [  5.  10.  15.  20.  25.  30.]\n",
      " [  6.  12.  18.  24.  30.  36.]\n",
      " [  7.  14.  21.  28.  35.  42.]\n",
      " [  8.  16.  24.  32.  40.  48.]\n",
      " [  9.  18.  27.  36.  45.  54.]]\n"
     ]
    }
   ],
   "source": [
    "#ndarray的内建函数\n",
    "def fun(x,y):\n",
    "    return (x+1)*(y+1)\n",
    "arr = fromfunction(fun,(9,6)) #函数其实值是从0开始的\n",
    "print arr"
   ]
  },
  {
   "cell_type": "markdown",
   "metadata": {},
   "source": [
    "#### 4.6Series\n",
    "* 基本特征  \n",
    "  类似一维数组的对象  \n",
    "  由数据和索引组成  \n",
    "  "
   ]
  },
  {
   "cell_type": "code",
   "execution_count": 88,
   "metadata": {
    "collapsed": false
   },
   "outputs": [
    {
     "name": "stdout",
     "output_type": "stream",
     "text": [
      "0    1\n",
      "1    2\n",
      "2    a\n",
      "dtype: object\n",
      "********\n",
      "3    apple\n",
      "4    peach\n",
      "5    lemon\n",
      "dtype: object\n"
     ]
    }
   ],
   "source": [
    "import pandas as pd\n",
    "from pandas import Series\n",
    "aSer = pd.Series([1,2.0,'a'])\n",
    "print aSer\n",
    "print '********'\n",
    "bSer = pd.Series(['apple','peach','lemon'], index = [3,4,5]) #自定义索引\n",
    "print bSer"
   ]
  },
  {
   "cell_type": "code",
   "execution_count": 90,
   "metadata": {
    "collapsed": false
   },
   "outputs": [
    {
     "name": "stdout",
     "output_type": "stream",
     "text": [
      "5\n",
      "a      20.085537\n",
      "b     148.413159\n",
      "c    1096.633158\n",
      "dtype: float64\n"
     ]
    }
   ],
   "source": [
    "#Series的基本运算\n",
    "a2Ser = Series([3,5,7],index = ['a','b','c'])\n",
    "print a2Ser['b']\n",
    "import numpy as np\n",
    "print np.exp(a2Ser)"
   ]
  },
  {
   "cell_type": "markdown",
   "metadata": {},
   "source": [
    "#### Series的数据对齐 -----给定索引，按照索引操作\n",
    "* 重要功能：在算术运算中自动对齐不同索引的数据。  \n",
    "#### Series的name属性\n",
    "* 重要功能     \n",
    " Series对象本身及其索引均有一个name属性   \n",
    " Series的name属性与其他重要功能关系密切 \n",
    "#### DATAFRAME -----自动给数据生成索引 \n",
    "* 基本特征 \n",
    " 一个表格型的数据结构  \n",
    " 含有一组有序的列（类似于index）  \n",
    " 大致可看成共享同一个index的Series集合  "
   ]
  },
  {
   "cell_type": "code",
   "execution_count": 99,
   "metadata": {
    "collapsed": false
   },
   "outputs": [
    {
     "name": "stdout",
     "output_type": "stream",
     "text": [
      "AXP      86.40\n",
      "CSCO    122.64\n",
      "BA       99.44\n",
      "AAPL       NaN\n",
      "dtype: object\n",
      "*********\n",
      "AXP     False\n",
      "CSCO    False\n",
      "BA      False\n",
      "AAPL     True\n",
      "dtype: bool\n",
      "************\n",
      "AAPL             NaN\n",
      "AXP       86.4086.40\n",
      "BA               NaN\n",
      "CSCO    122.64122.64\n",
      "CVX              NaN\n",
      "dtype: object\n",
      "*******\n",
      "AAPL             NaN\n",
      "AXP       86.4086.40\n",
      "BA               NaN\n",
      "CSCO    122.64122.64\n",
      "CVX              NaN\n",
      "dtype: object\n"
     ]
    }
   ],
   "source": [
    "#Series的数据对齐\n",
    "data = {'AXP':'86.40','CSCO':'122.64','BA':'99.44'}\n",
    "sindex = ['AXP','CSCO','BA','AAPL']\n",
    "a3Ser = pd.Series(data, index = sindex)\n",
    "print a3Ser\n",
    "print '*********'\n",
    "print  pd.isnull(a3Ser)\n",
    "print '************'\n",
    "b3Ser = {'AXP':'86.40','CSCO':'122.64','CVX':'23.78'}\n",
    "c3Ser = pd.Series(b3Ser) #变成有索引的集\n",
    "print a3Ser + c3Ser\n",
    "print '*******'\n",
    "b4Ser = {'AXP':'86.40','CVX':'23.78','CSCO':'122.64'}\n",
    "c4Ser = pd.Series(b4Ser)  \n",
    "print a3Ser + c4Ser\n",
    "#能够根据索引自动判断并进行运算操作，不是按照索引排序来的"
   ]
  },
  {
   "cell_type": "code",
   "execution_count": 100,
   "metadata": {
    "collapsed": false
   },
   "outputs": [
    {
     "name": "stdout",
     "output_type": "stream",
     "text": [
      "volume\n",
      "AXP      86.40\n",
      "CSCO    122.64\n",
      "BA       99.44\n",
      "AAPL       NaN\n",
      "Name: cnames, dtype: object\n"
     ]
    }
   ],
   "source": [
    "#Series的name属性\n",
    "a5Ser = pd.Series(data, index = sindex)\n",
    "a5Ser.name = 'cnames'\n",
    "a5Ser.index.name = 'volume'\n",
    "print a5Ser"
   ]
  },
  {
   "cell_type": "code",
   "execution_count": 105,
   "metadata": {
    "collapsed": false
   },
   "outputs": [
    {
     "name": "stdout",
     "output_type": "stream",
     "text": [
      "         name   pay\n",
      "0  Wangdachui  4000\n",
      "1     Linling  5000\n",
      "2      Niuyun  6000\n",
      "********\n",
      "0    Wangdachui\n",
      "1       Linling\n",
      "2        Niuyun\n",
      "Name: name, dtype: object\n",
      "********\n",
      "0    4000\n",
      "1    5000\n",
      "2    6000\n",
      "Name: pay, dtype: int64\n",
      "********\n"
     ]
    },
    {
     "data": {
      "text/plain": [
       "name    Niuyun\n",
       "pay       6000\n",
       "Name: 2, dtype: object"
      ]
     },
     "execution_count": 105,
     "metadata": {},
     "output_type": "execute_result"
    }
   ],
   "source": [
    "#取DataFrame对象的列和行可获得Series\n",
    "data2 = {'name':['Wangdachui','Linling','Niuyun'],'pay':[4000,5000,6000]}\n",
    "frame =pd.DataFrame(data2)\n",
    "print frame\n",
    "print '********'\n",
    "print frame['name']\n",
    "print '********'\n",
    "print frame.pay\n",
    "print '********'\n",
    "frame.ix[2]"
   ]
  },
  {
   "cell_type": "code",
   "execution_count": 106,
   "metadata": {
    "collapsed": false
   },
   "outputs": [
    {
     "name": "stdout",
     "output_type": "stream",
     "text": [
      "    name   pay\n",
      "0  admin  4000\n",
      "1  admin  5000\n",
      "2  admin  6000\n",
      "*******\n",
      "    name\n",
      "0  admin\n",
      "1  admin\n",
      "2  admin\n"
     ]
    }
   ],
   "source": [
    "#DataFrame对象的修改和删除\n",
    "frame['name'] = 'admin'\n",
    "print frame\n",
    "print '*******'\n",
    "del frame['pay']\n",
    "print frame"
   ]
  },
  {
   "cell_type": "code",
   "execution_count": 110,
   "metadata": {
    "collapsed": false
   },
   "outputs": [
    {
     "name": "stdout",
     "output_type": "stream",
     "text": [
      "         name   pay\n",
      "0  Wangdachui  4000\n",
      "1     Linling  5000\n",
      "2      Niuyun  6000\n",
      "**********\n",
      "           name   pay\n",
      "Num                  \n",
      "0    Wangdachui  4000\n",
      "1       Linling  5000\n",
      "2        Niuyun  6000\n"
     ]
    }
   ],
   "source": [
    "data3 ={'name':['Wangdachui','Linling','Niuyun'],'pay':[4000,5000,6000]}\n",
    "frame2 = pd.DataFrame(data3)\n",
    "print frame2\n",
    "print '**********'\n",
    "frame2.index.name = 'Num'  #给索引加一个名字\n",
    "print frame2"
   ]
  },
  {
   "cell_type": "code",
   "execution_count": null,
   "metadata": {
    "collapsed": true
   },
   "outputs": [],
   "source": []
  }
 ],
 "metadata": {
  "kernelspec": {
   "display_name": "Python 2",
   "language": "python",
   "name": "python2"
  },
  "language_info": {
   "codemirror_mode": {
    "name": "ipython",
    "version": 2
   },
   "file_extension": ".py",
   "mimetype": "text/x-python",
   "name": "python",
   "nbconvert_exporter": "python",
   "pygments_lexer": "ipython2",
   "version": "2.7.12"
  }
 },
 "nbformat": 4,
 "nbformat_minor": 2
}
