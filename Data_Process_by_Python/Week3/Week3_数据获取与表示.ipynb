{
 "cells": [
  {
   "cell_type": "markdown",
   "metadata": {},
   "source": [
    "## 代码是用python2.7来实现的"
   ]
  },
  {
   "cell_type": "markdown",
   "metadata": {},
   "source": [
    "## 3.1本地数据获取"
   ]
  },
  {
   "cell_type": "markdown",
   "metadata": {},
   "source": [
    "### 文件的打开，读写和关闭\n",
    "#### 文件的打开\n",
    "##### file_obj = open(filename, mode='r', buffering=-1)\n",
    "mode为可选参数，默认值为r；buffering为可选参数，默认值为-1（0代表不缓冲，1或大于1的值表示缓冲一行或者指定缓冲区大小）\n",
    "文件完成读写操作后一定要关闭文件：python可能会缓存写入数据，如果程序一旦崩溃，数据就不能继续写入\n",
    "\n",
    "3.1 补充资料 \n",
    "Python 的 os 模块提供了执行文件和目录处理操作的函数，例如重命名和删除文件。 \n",
    "要使用这个模块，你必须先导入它，然后才可以调用相关的各种功能。 \n",
    "import os \n",
    "试一试以下的函数，理解它们的功能。 \n",
    "os.rename(current_file_name, new_file_name)   #文件重命名     \n",
    "os.remove(file_name)    #删除文件 \n",
    "os.mkdir(newdir)     #创建目录 \n",
    "os.chdir(newdir)     #改变目录 \n",
    "os.getcwd()     #获得当前路径 \n",
    "os.rmdir(dirname)     #删除目录 \n",
    " "
   ]
  },
  {
   "cell_type": "code",
   "execution_count": null,
   "metadata": {
    "collapsed": true
   },
   "outputs": [],
   "source": [
    "#f1 = open(r'd:\\\\infile.txt')\n",
    "#f2 = open(r'd:\\outfile.txt','w')\n",
    "#f3 = open('frecord.csv','ab',0)  #设置有缓冲读取速度更快\n",
    "'''\n",
    "Python 3.x中的目录 路径常常直接用类似 “”d:\\\\test.txt“”或 “d:/test.txt”这样的方式表示 \n",
    "'''"
   ]
  },
  {
   "cell_type": "markdown",
   "metadata": {},
   "source": [
    "##### open()函数-mode \n",
    "     r   以读模式打开；              rU or U    以读模式打开，并提供通用换行符支持； \n",
    "     w   以写模式打开（清空原内容）；       a     以追加模式打开（从EOF开始，必要时创建新文件）； \n",
    "    r+   以读写模式打开；              w+      以读写模式打开（清空原内容）；\n",
    "    a+   以读和追加模式打开；           rb      以二进制读模式打开； \n",
    "    wb   以二进制写模式打开（参见w）；     ab      以二进制追加模式打开（参见a）；\n",
    "    rb+   以二进制读写模式打开（参见r+）；  wb+      以二进制读写模式打开（参见w+）； \n",
    "    ab+   以二进制读写模式打开（参见a+） \n",
    "##### 文件相关函数\n",
    "open()函数返回一个文件（file）对象，文件对象可以迭代 \n",
    "有关闭方法和许多读写相关的方法/函数：\n",
    "f.read(), f.write(), f.readline(), f.readlines(), f.writelines() \n",
    "f.close(), f.seek() \n",
    "\n",
    "#### 写文件-f.write()\n",
    "##### file_obj.write(str)  "
   ]
  },
  {
   "cell_type": "code",
   "execution_count": 17,
   "metadata": {
    "collapsed": false
   },
   "outputs": [],
   "source": [
    "# _*_ coding: utf-8 _*_\n",
    "import os\n",
    "'''\n",
    "f = open(r'D:\\github\\Data_Analysis\\Data_Process_by_Python\\Week3','w') #\n",
    "#IOError: [Errno 13] Permission denied: 'D:\\\\github\\\\Data_Analysis\\\\Data_Process_by_Python\\\\Week3'\n",
    "#windows文件操作权限不够，怎么解决呢？\n",
    "#问题在于只给了路径，没有给写入的对象\n",
    "f.write('Hello, world!')\n",
    "f.close()\n",
    "'''\n",
    "f = open(r'D:\\github\\Data_Analysis\\Data_Process_by_Python\\Week3\\test_write.txt','w')\n",
    "f.write('Hello, world!')\n",
    "f.close()"
   ]
  },
  {
   "cell_type": "markdown",
   "metadata": {
    "collapsed": true
   },
   "source": [
    "#### 读文件-f.read()\n",
    "##### file_obj.read(size)\n",
    "从文件中至多读取size字节的数据，返回一个字符串\n",
    "##### file_obj.read()\n",
    "读文件直到文件结束，返回一个字符串（好像有个上限，大小是系统最大buffering）"
   ]
  },
  {
   "cell_type": "code",
   "execution_count": 14,
   "metadata": {
    "collapsed": false
   },
   "outputs": [
    {
     "name": "stdout",
     "output_type": "stream",
     "text": [
      "hello\n",
      "************\n",
      " world ��\n",
      "read success ��\n"
     ]
    }
   ],
   "source": [
    "f = open(r'D:\\github\\Data_Analysis\\Data_Process_by_Python\\Week3\\test_file_read.txt','r')\n",
    "p1 = f.read(5)#读取前5个字节\n",
    "print \"%s\\n************\"  %p1\n",
    "p2 = f.read() #接着上面的继续读取剩余的字节\n",
    "print  p2\n",
    "f.close()\n",
    "#\"!\" 为什么读取出来是乱码呢？"
   ]
  },
  {
   "cell_type": "markdown",
   "metadata": {},
   "source": [
    "#### 其他读写函数\n",
    "##### file_obj.readlines(),  file_obj.readline(), file_obj.writelines()\n",
    " file_obj.readlines():将文件一行行的读取出来，返回一个列表，包含有换行符'\\n'\n",
    " 注意： 没有file_obj.writeline()这个函数\n",
    " \\* 读写完成后对象指针就处于文件的末尾"
   ]
  },
  {
   "cell_type": "code",
   "execution_count": 20,
   "metadata": {
    "collapsed": false
   },
   "outputs": [],
   "source": [
    "#文件读写例子\n",
    "#将文件companies.txt 的字符串前加上序号1、2、3、…后写到 另一个文件scompanies.txt中。\n",
    "f1= open(r'D:\\github\\Data_Analysis\\Data_Process_by_Python\\Week3\\companies.txt') \n",
    "cNames = f1.readlines() \n",
    "for i in range(0,len(cNames)):    \n",
    "    cNames[i] = str(i+1) + ' ' + cNames[i] \n",
    "f1.close()\n",
    "f2 = open(r'D:\\github\\Data_Analysis\\Data_Process_by_Python\\Week3\\scompanies.txt','w')\n",
    "f2.writelines(cNames) \n",
    "f2.close()   \n",
    "\n",
    "#写入一个文件，并从中读取出来\n",
    "'''\n",
    "strings = 'Tencent Technology Company Limited'\n",
    "f = open(r'D:\\github\\Data_Analysis\\Data_Process_by_Python\\Week3\\companies.txt','a+')\n",
    "f.writelines('\\n')\n",
    "f.writelines(strings)\n",
    "cNames = f.readlines()\n",
    "#读写的时候都存在一个数据指针，从指针所在位置开始读写\n",
    "#这里是因为文件指针已经到了文件的尾巴，导致readlines产生不正确的结果\n",
    "#让文件从我们所需要的位置开始读取，请看下面\n",
    "#print cNames\n",
    "#打印出的结果是乱码\n",
    "f.close()\n",
    "'''"
   ]
  },
  {
   "cell_type": "markdown",
   "metadata": {},
   "source": [
    "#### 其他文件相关函数\n",
    "#####  file_obj.seek(offset , whence=0) \n",
    "在文件中移动文件指针，从 whence（0表示文件头部，1表示 当前位置，2表示文件尾部，为可选参数）偏移offset个字节 \n",
    "\n"
   ]
  },
  {
   "cell_type": "code",
   "execution_count": 9,
   "metadata": {
    "collapsed": false
   },
   "outputs": [
    {
     "name": "stdout",
     "output_type": "stream",
     "text": [
      "['GOOGLE Inc.\\n', 'Microsoft Corporation \\n', 'Apple Inc. \\n', 'Facebook, Inc. \\n', '\\n', 'Tencent Technology Company Limited\\n', 'Tencent Technology Company Limited']\n"
     ]
    }
   ],
   "source": [
    "#\n",
    "strings1 = 'Tencent Technology Company Limited'\n",
    "f = open(r'D:\\github\\Data_Analysis\\Data_Process_by_Python\\Week3\\companiescopy.txt','a+')\n",
    "#companiescopy.txt是companies.txt的复制\n",
    "f.writelines('\\n')\n",
    "f.writelines(strings1)\n",
    "f.seek(0,0) #如果没有这个函数，读取结果将是乱码\n",
    "#f.writelines(strings1)函数执行完成后，指针位置就在对象的末尾\n",
    "#用f.readlines()就从对象末尾开始读，导致读取结果是乱码\n",
    "cNames1 = f.readlines()\n",
    "print cNames1\n",
    "f.close()"
   ]
  },
  {
   "cell_type": "markdown",
   "metadata": {
    "collapsed": true
   },
   "source": [
    "## 3.2网络数据获取\n",
    "### 用python来获取网络数据\n",
    "####  常用的标准库 urilib , urllib2(py3中被 urllib.requests代替), httplib(py3中被http.client代替), httplib2  "
   ]
  },
  {
   "cell_type": "code",
   "execution_count": 3,
   "metadata": {
    "collapsed": false
   },
   "outputs": [],
   "source": [
    "#用urllib获取数据\n",
    "import urllib\n",
    "res = urllib.urlopen('https://www.amazon.cn/')\n",
    "html = res.read()\n",
    "#print html\n",
    "#html"
   ]
  },
  {
   "cell_type": "code",
   "execution_count": null,
   "metadata": {
    "collapsed": false
   },
   "outputs": [],
   "source": [
    "import re\n",
    "import urllib2\n",
    "import sys\n",
    "dStr = urllib2.urlopen('https://hk.finance.yahoo.com/q/cp?s=%5EDJI').read()\n",
    "#打开网页并读取相关内容\n",
    "#re_dStr = re.findall('<tr><td class=\"yfnc_tabledata1\"><b><a href=\".*?\">(.*?)</a></b></td><td class=\"yfnc_tabledata1\">(.*?)</td>.*?<b>(.*?)</b>.*?<small>(.*?)</small>.*?<b>(.*?)</b><b>(.*?)</b>',dStr)\n",
    "#查看页面元素，找打正则准则，获取的对象要用元（）来表示\n",
    "#汉字出现乱码，需要解码\n",
    "#为什么上面这个正则表达式解析就会卡死呢？\n",
    "if re_dStr:\n",
    "    print re_dStr\n",
    "    print '\\n'\n",
    "    print len(re_dStr)\n",
    "else:\n",
    "    print \"not match\"\n",
    "    \n",
    "#乱码处理\n",
    "sys_type_code = sys.getfilesystemencoding()\n",
    "#系统编码\n",
    "re_dStr = re.findall('<tr><td class=\"yfnc_tabledata1\"><b><a href=\".*?\">(.*?)</a></b></td><td class=\"yfnc_tabledata1\">(.*?)</td>',dStr)\n",
    "\n",
    "#res_Str = re_dStr.encode(sys_type_code)\n",
    "#AttributeError: 'list' object has no attribute 'encode' 对列表不能编码\n",
    "#编码\n",
    "#if re_Str:\n",
    "    #print re_Str\n",
    "    #print '\\n'\n",
    "    #print len(re_Str)\n",
    "#else:\n",
    "    #print \"not match\"\n",
    "    "
   ]
  },
  {
   "cell_type": "markdown",
   "metadata": {},
   "source": [
    "### 3.3python中的序列\n",
    "#####  常见的三种序列：字符串，列表，元组\n",
    "###### 序列运算\n",
    "内建函数：list()  str()  unicode()[Unicode() py3] basestring() tuple()     \n",
    "enumerate() reversed() len() sorted() max() sum() min() zip()     \n",
    "\n",
    "week = ['Monday', 'Tuesday', 'Wednesday', 'Thursday', 'Friday', 'Saturday', 'Sunday']\n",
    "正序列访问：0 ——>7  ； 负序列访问： -7 ——> -1    "
   ]
  },
  {
   "cell_type": "code",
   "execution_count": 22,
   "metadata": {
    "collapsed": false
   },
   "outputs": [
    {
     "name": "stdout",
     "output_type": "stream",
     "text": [
      "Tuesday \n",
      "Saturday \n",
      "['Tuesday', 'Wednesday', 'Thursday'] \n",
      "['Sunday', 'Saturday', 'Friday', 'Thursday', 'Wednesday', 'Tuesday', 'Monday'] \n",
      "['Saturday', 'Friday', 'Thursday']\n"
     ]
    }
   ],
   "source": [
    "week =['Monday', 'Tuesday', 'Wednesday', 'Thursday', 'Friday', 'Saturday', 'Sunday']\n",
    "print week[1],'\\n',week[-2],'\\n',week[1:4],'\\n',week[::-1],'\\n',week[-2:-5:-1]\n",
    "#week[-2:-5:-1]:-2，-5表示起始和终止位置，-1表示逆序, 如果把-1的1换成其他数字结果就怪怪的？？"
   ]
  },
  {
   "cell_type": "markdown",
   "metadata": {
    "collapsed": true
   },
   "source": [
    "### 3.4字符串\n",
    "#### 格式转换符号\n",
    "格式化字符 转换方式  \n",
    "%c 转换成字符（ASCII值或长度为1的字符串）   \n",
    "%r 优先使用repr()函数进行字符串转换     \n",
    "%s 优先使用str()函数进行字符串转换  \n",
    "%d / %i 转换成带符号十进制整数  \n",
    "%u 转换成无符号十进制整数   \n",
    "%o 转换成无符号八进制数    \n",
    "%x/ %X 转换成无符号十六进制数（x/X表示转换后的十六进制字符的小/大写）    \n",
    "%e / %E 转换成科学计数法（e/E控制输出e/E）   \n",
    "%f / %F 转换成浮点数（部分小数自然截断）   \n",
    "%g / %G 选择%e/%f或%E/%F中输出更短的形式输出   \n",
    "%%  输出%   \n",
    "#### 格式运算符辅助符  \n",
    "符号 功能    (“_*_”- +  “_<sp>_” )是markdown的敏感字符\n",
    "(“_*_”) 定义宽度或精度   \n",
    "(-)用作左对齐   \n",
    "(+)在正数前显示加号（'+'）  \n",
    "(“_<sp>_”) 在正数前显示空格   \n",
    "(#) 在八进制数前显示零（'0'），在十六进制前显示'0x'或'0X'（取决于使用了'x'还是'X')   \n",
    "0 显示数字时前面用零（'0'）填充而不是默认的空格   \n",
    "% '%%'输出一个'%'  \n",
    "(var) 映射变量（参数为字典）  \n",
    "m.n m是显示的最小总宽度，n是小数点后的位数（如果可用的话) \n",
    "\n",
    "#### 转义字符  \n",
    "字符 说明   \n",
    "\\0 空字符  \n",
    "\\a 响铃  \n",
    "\\b 退格  \n",
    "\\t 横向制表符  \n",
    "\\n 换行  \n",
    "\\v 纵向制表符  \n",
    "\\f 换页  \n",
    "\\r 回车  \n",
    "\\e 转义  \n",
    "\\\" 双引号  \n",
    "\\' 单引号  \n",
    "\\\\ 反斜杠  \n",
    "\\(在行尾时) 续行符  \n",
    "\\OOO 八进制数OOO代表的字符   \n",
    "\\xXX 十六进制数XX代表的字符  "
   ]
  },
  {
   "cell_type": "code",
   "execution_count": 23,
   "metadata": {
    "collapsed": false,
    "scrolled": true
   },
   "outputs": [
    {
     "name": "stdout",
     "output_type": "stream",
     "text": [
      "0     AXP:   86.40.\n",
      "1      BA:  122.64.\n",
      "2     CAT:   99.44.\n",
      "3    CSCO:   23.78.\n",
      "4     CVX:  115.91.\n"
     ]
    }
   ],
   "source": [
    "cCode = ['AXP' , 'BA' , 'CAT' , 'CSCO' , 'CVX' ]\n",
    "cPrice = ['86.40' , '122.64' , '99.44' , '23.78' , '115.91' ]\n",
    "for i in range(5):\n",
    "    print '%d%8s:%8s.' % (i, cCode[i], cPrice[i])"
   ]
  },
  {
   "cell_type": "markdown",
   "metadata": {},
   "source": [
    "#### 3.5列表\n",
    "\n",
    "##### 常用函数\n",
    "append() count() extend() index() insert() pop() remove() reverse() sort()   \n",
    "\n",
    "#####  元组元素不可以改变，列表可以\n",
    "\n"
   ]
  },
  {
   "cell_type": "code",
   "execution_count": 25,
   "metadata": {
    "collapsed": false
   },
   "outputs": [
    {
     "name": "stdout",
     "output_type": "stream",
     "text": [
      "['AXP', 'Alibaba', 'CAT']\n"
     ]
    }
   ],
   "source": [
    "aList = ['AXP', 'BA', 'CAT']\n",
    "aTuple = ('AXP', 'BA', 'CAT')\n",
    "aList[1] = 'Alibaba'\n",
    "print aList\n",
    "#aTuple1[1]= 'Alibaba'\n",
    "#NameError: name 'aTuple1' is not defined\n",
    "#print aTuple"
   ]
  },
  {
   "cell_type": "markdown",
   "metadata": {},
   "source": [
    "#### 3.6元组\n",
    "##### 元组的作用\n",
    "* 1.在映射类型中当作键使用  \n",
    "* 2.函数的特殊类型参数  \n",
    "* 3.作为很多内奸函数的返回值\n",
    "\n",
    "##### 元组作为函数的常见返回类型\n",
    "返回对象的个数 返回类型   \n",
    "    0        None   \n",
    "    1       object   \n",
    "   \">1\"      tuple  [\"对>1敏感\"]"
   ]
  },
  {
   "cell_type": "code",
   "execution_count": 36,
   "metadata": {
    "collapsed": false
   },
   "outputs": [
    {
     "name": "stdout",
     "output_type": "stream",
     "text": [
      "*******\n",
      "***********\n",
      "(['Monday', 1], 2, 3)\n",
      "*********\n",
      "1\n",
      "*********\n",
      "3\n",
      "*********\n",
      "(2, 3)\n",
      "/****元组和列表的不同*******/\n",
      "列表\n",
      "[3, 5, 2, 4]\n",
      "[3, 5, 2, 4]\n",
      "[2, 3, 4, 5]\n",
      "元组\n",
      "(3, 5, 2, 4)\n"
     ]
    },
    {
     "ename": "AttributeError",
     "evalue": "'tuple' object has no attribute 'sort'",
     "output_type": "error",
     "traceback": [
      "\u001b[0;31m---------------------------------------------------------------------------\u001b[0m",
      "\u001b[0;31mAttributeError\u001b[0m                            Traceback (most recent call last)",
      "\u001b[0;32m<ipython-input-36-53782e675d8d>\u001b[0m in \u001b[0;36m<module>\u001b[0;34m()\u001b[0m\n\u001b[1;32m     23\u001b[0m \u001b[0msorted\u001b[0m\u001b[1;33m(\u001b[0m\u001b[0maTuple\u001b[0m\u001b[1;33m)\u001b[0m\u001b[1;33m\u001b[0m\u001b[0m\n\u001b[1;32m     24\u001b[0m \u001b[1;32mprint\u001b[0m \u001b[0maTuple\u001b[0m\u001b[1;33m\u001b[0m\u001b[0m\n\u001b[0;32m---> 25\u001b[0;31m \u001b[1;32mprint\u001b[0m \u001b[0maTuple\u001b[0m\u001b[1;33m.\u001b[0m\u001b[0msort\u001b[0m\u001b[1;33m(\u001b[0m\u001b[1;33m)\u001b[0m \u001b[1;31m#AttributeError: 'tuple' object has no attribute 'sort'\u001b[0m\u001b[1;33m\u001b[0m\u001b[0m\n\u001b[0m",
      "\u001b[0;31mAttributeError\u001b[0m: 'tuple' object has no attribute 'sort'"
     ]
    }
   ],
   "source": [
    "2014\n",
    "print '*******'\n",
    "2014,\n",
    "print '***********'\n",
    "bTuple = (['Monday', 1], 2,3)\n",
    "print bTuple\n",
    "print '*********'\n",
    "print bTuple[0][1]\n",
    "print '*********'\n",
    "print len(bTuple)\n",
    "print '*********'\n",
    "print bTuple[1:]\n",
    "print '/****元组和列表的不同*******/'\n",
    "print '列表'\n",
    "aList = [3, 5, 2, 4]\n",
    "print aList\n",
    "sorted(aList)  #sorted 不改变列表的值\n",
    "print aList\n",
    "aList.sort()  #sort()会改变列表的值\n",
    "print aList\n",
    "print '元组'\n",
    "aTuple = (3, 5, 2, 4)\n",
    "sorted(aTuple)\n",
    "print aTuple\n",
    "print aTuple.sort() #AttributeError: 'tuple' object has no attribute 'sort'"
   ]
  },
  {
   "cell_type": "code",
   "execution_count": null,
   "metadata": {
    "collapsed": true
   },
   "outputs": [],
   "source": []
  }
 ],
 "metadata": {
  "celltoolbar": "Raw Cell Format",
  "kernelspec": {
   "display_name": "Python 2",
   "language": "python",
   "name": "python2"
  },
  "language_info": {
   "codemirror_mode": {
    "name": "ipython",
    "version": 2
   },
   "file_extension": ".py",
   "mimetype": "text/x-python",
   "name": "python",
   "nbconvert_exporter": "python",
   "pygments_lexer": "ipython2",
   "version": "2.7.12"
  }
 },
 "nbformat": 4,
 "nbformat_minor": 2
}
