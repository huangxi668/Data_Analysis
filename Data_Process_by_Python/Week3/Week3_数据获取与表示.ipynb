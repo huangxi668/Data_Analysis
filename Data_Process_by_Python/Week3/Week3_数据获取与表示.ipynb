{
 "cells": [
  {
   "cell_type": "markdown",
   "metadata": {},
   "source": [
    "## 3.1本地数据获取"
   ]
  },
  {
   "cell_type": "markdown",
   "metadata": {},
   "source": [
    "### 文件的打开，读写和关闭\n",
    "#### 文件的打开\n",
    "##### file_obj = open(filename, mode='r', buffering=-1)\n",
    "mode为可选参数，默认值为r；buffering为可选参数，默认值为-1（0代表不缓冲，1或大于1的值表示缓冲一行或者指定缓冲区大小）\n",
    "文件完成读写操作后一定要关闭文件：python可能会缓存写入数据，如果程序一旦崩溃，数据就不能继续写入\n",
    "\n",
    "3.1 补充资料 \n",
    "Python 的 os 模块提供了执行文件和目录处理操作的函数，例如重命名和删除文件。 \n",
    "要使用这个模块，你必须先导入它，然后才可以调用相关的各种功能。 \n",
    "import os \n",
    "试一试以下的函数，理解它们的功能。 \n",
    "os.rename(current_file_name, new_file_name)   #文件重命名     \n",
    "os.remove(file_name)    #删除文件 \n",
    "os.mkdir(newdir)     #创建目录 \n",
    "os.chdir(newdir)     #改变目录 \n",
    "os.getcwd()     #获得当前路径 \n",
    "os.rmdir(dirname)     #删除目录 \n",
    " "
   ]
  },
  {
   "cell_type": "code",
   "execution_count": null,
   "metadata": {
    "collapsed": true
   },
   "outputs": [],
   "source": [
    "#f1 = open(r'd:\\\\infile.txt')\n",
    "#f2 = open(r'd:\\outfile.txt','w')\n",
    "#f3 = open('frecord.csv','ab',0)  #设置有缓冲读取速度更快\n",
    "'''\n",
    "Python 3.x中的目录 路径常常直接用类似 “”d:\\\\test.txt“”或 “d:/test.txt”这样的方式表示 \n",
    "'''"
   ]
  },
  {
   "cell_type": "markdown",
   "metadata": {},
   "source": [
    "##### open()函数-mode \n",
    "     r   以读模式打开；              rU or U    以读模式打开，并提供通用换行符支持； \n",
    "     w   以写模式打开（清空原内容）；       a     以追加模式打开（从EOF开始，必要时创建新文件）； \n",
    "    r+   以读写模式打开；              w+      以读写模式打开（清空原内容）；\n",
    "    a+   以读和追加模式打开；           rb      以二进制读模式打开； \n",
    "    wb   以二进制写模式打开（参见w）；     ab      以二进制追加模式打开（参见a）；\n",
    "    rb+   以二进制读写模式打开（参见r+）；  wb+      以二进制读写模式打开（参见w+）； \n",
    "    ab+   以二进制读写模式打开（参见a+） \n",
    "##### 文件相关函数\n",
    "open()函数返回一个文件（file）对象，文件对象可以迭代 \n",
    "有关闭方法和许多读写相关的方法/函数：\n",
    "f.read(), f.write(), f.readline(), f.readlines(), f.writelines() \n",
    "f.close(), f.seek() \n",
    "\n",
    "#### 写文件-f.write()\n",
    "##### file_obj.write(str)  "
   ]
  },
  {
   "cell_type": "code",
   "execution_count": 17,
   "metadata": {
    "collapsed": false
   },
   "outputs": [],
   "source": [
    "\n",
    "# _*_ coding: utf-8 _*_\n",
    "import os\n",
    "'''\n",
    "f = open(r'D:\\github\\Data_Analysis\\Data_Process_by_Python\\Week3','w') #\n",
    "#IOError: [Errno 13] Permission denied: 'D:\\\\github\\\\Data_Analysis\\\\Data_Process_by_Python\\\\Week3'\n",
    "#windows文件操作权限不够，怎么解决呢？\n",
    "#问题在于只给了路径，没有给写入的对象\n",
    "f.write('Hello, world!')\n",
    "f.close()\n",
    "'''\n",
    "f = open(r'D:\\github\\Data_Analysis\\Data_Process_by_Python\\Week3\\test_write.txt','w')\n",
    "f.write('Hello, world!')\n",
    "f.close()"
   ]
  },
  {
   "cell_type": "markdown",
   "metadata": {
    "collapsed": true
   },
   "source": [
    "#### 读文件-f.read()\n",
    "##### file_obj.read(size)\n",
    "从文件中至多读取size字节的数据，返回一个字符串\n",
    "##### file_obj.read()\n",
    "读文件直到文件结束，返回一个字符串（好像有个上限，大小是系统最大buffering）"
   ]
  },
  {
   "cell_type": "code",
   "execution_count": 14,
   "metadata": {
    "collapsed": false
   },
   "outputs": [
    {
     "name": "stdout",
     "output_type": "stream",
     "text": [
      "hello\n",
      "************\n",
      " world ��\n",
      "read success ��\n"
     ]
    }
   ],
   "source": [
    "f = open(r'D:\\github\\Data_Analysis\\Data_Process_by_Python\\Week3\\test_file_read.txt','r')\n",
    "p1 = f.read(5)#读取前5个字节\n",
    "print \"%s\\n************\"  %p1\n",
    "p2 = f.read() #接着上面的继续读取剩余的字节\n",
    "print  p2\n",
    "f.close()\n",
    "#\"!\" 为什么读取出来是乱码呢？"
   ]
  },
  {
   "cell_type": "markdown",
   "metadata": {},
   "source": [
    "#### 其他读写函数\n",
    "##### file_obj.readlines(),  file_obj.readline(), file_obj.writelines()\n",
    " file_obj.readlines():将文件一行行的读取出来，返回一个列表，包含有换行符'\\n'\n",
    " 注意： 没有file_obj.writeline()这个函数\n",
    " \\* 读写完成后对象指针就处于文件的末尾"
   ]
  },
  {
   "cell_type": "code",
   "execution_count": 20,
   "metadata": {
    "collapsed": false
   },
   "outputs": [],
   "source": [
    "#文件读写例子\n",
    "#将文件companies.txt 的字符串前加上序号1、2、3、…后写到 另一个文件scompanies.txt中。\n",
    "f1= open(r'D:\\github\\Data_Analysis\\Data_Process_by_Python\\Week3\\companies.txt') \n",
    "cNames = f1.readlines() \n",
    "for i in range(0,len(cNames)):    \n",
    "    cNames[i] = str(i+1) + ' ' + cNames[i] \n",
    "f1.close()\n",
    "f2 = open(r'D:\\github\\Data_Analysis\\Data_Process_by_Python\\Week3\\scompanies.txt','w')\n",
    "f2.writelines(cNames) \n",
    "f2.close()   \n",
    "\n",
    "#写入一个文件，并从中读取出来\n",
    "'''\n",
    "strings = 'Tencent Technology Company Limited'\n",
    "f = open(r'D:\\github\\Data_Analysis\\Data_Process_by_Python\\Week3\\companies.txt','a+')\n",
    "f.writelines('\\n')\n",
    "f.writelines(strings)\n",
    "cNames = f.readlines()\n",
    "#读写的时候都存在一个数据指针，从指针所在位置开始读写\n",
    "#这里是因为文件指针已经到了文件的尾巴，导致readlines产生不正确的结果\n",
    "#让文件从我们所需要的位置开始读取，请看下面\n",
    "#print cNames\n",
    "#打印出的结果是乱码\n",
    "f.close()\n",
    "'''"
   ]
  },
  {
   "cell_type": "markdown",
   "metadata": {},
   "source": [
    "#### 其他文件相关函数\n",
    "#####  file_obj.seek(offset , whence=0) \n",
    "在文件中移动文件指针，从 whence（0表示文件头部，1表示 当前位置，2表示文件尾部，为可选参数）偏移offset个字节 \n",
    "\n"
   ]
  },
  {
   "cell_type": "code",
   "execution_count": 9,
   "metadata": {
    "collapsed": false
   },
   "outputs": [
    {
     "name": "stdout",
     "output_type": "stream",
     "text": [
      "['GOOGLE Inc.\\n', 'Microsoft Corporation \\n', 'Apple Inc. \\n', 'Facebook, Inc. \\n', '\\n', 'Tencent Technology Company Limited\\n', 'Tencent Technology Company Limited']\n"
     ]
    }
   ],
   "source": [
    "#\n",
    "strings1 = 'Tencent Technology Company Limited'\n",
    "f = open(r'D:\\github\\Data_Analysis\\Data_Process_by_Python\\Week3\\companiescopy.txt','a+')\n",
    "#companiescopy.txt是companies.txt的复制\n",
    "f.writelines('\\n')\n",
    "f.writelines(strings1)\n",
    "f.seek(0,0) #如果没有这个函数，读取结果将是乱码\n",
    "#f.writelines(strings1)函数执行完成后，指针位置就在对象的末尾\n",
    "#用f.readlines()就从对象末尾开始读，导致读取结果是乱码\n",
    "cNames1 = f.readlines()\n",
    "print cNames1\n",
    "f.close()"
   ]
  },
  {
   "cell_type": "code",
   "execution_count": null,
   "metadata": {
    "collapsed": true
   },
   "outputs": [],
   "source": []
  },
  {
   "cell_type": "code",
   "execution_count": null,
   "metadata": {
    "collapsed": true
   },
   "outputs": [],
   "source": []
  }
 ],
 "metadata": {
  "celltoolbar": "Raw Cell Format",
  "kernelspec": {
   "display_name": "Python 2",
   "language": "python",
   "name": "python2"
  },
  "language_info": {
   "codemirror_mode": {
    "name": "ipython",
    "version": 2
   },
   "file_extension": ".py",
   "mimetype": "text/x-python",
   "name": "python",
   "nbconvert_exporter": "python",
   "pygments_lexer": "ipython2",
   "version": "2.7.12"
  }
 },
 "nbformat": 4,
 "nbformat_minor": 2
}
